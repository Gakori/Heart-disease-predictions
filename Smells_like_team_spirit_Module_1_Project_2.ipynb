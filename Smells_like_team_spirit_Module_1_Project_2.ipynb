{
  "nbformat": 4,
  "nbformat_minor": 0,
  "metadata": {
    "colab": {
      "name": "Smells like team spirit Module 1 Project 2",
      "provenance": [],
      "collapsed_sections": [],
      "toc_visible": true,
      "include_colab_link": true
    },
    "kernelspec": {
      "name": "python3",
      "display_name": "Python 3"
    }
  },
  "cells": [
    {
      "cell_type": "markdown",
      "metadata": {
        "id": "view-in-github",
        "colab_type": "text"
      },
      "source": [
        "<a href=\"https://colab.research.google.com/github/Gakori/Heart-disease-predictions/blob/master/Smells_like_team_spirit_Module_1_Project_2.ipynb\" target=\"_parent\"><img src=\"https://colab.research.google.com/assets/colab-badge.svg\" alt=\"Open In Colab\"/></a>"
      ]
    },
    {
      "cell_type": "markdown",
      "metadata": {
        "id": "BoZ7phbmDfT-",
        "colab_type": "text"
      },
      "source": [
        "## 1)Research question\n",
        "Heart disease is the leading cause of death worldwide in both male and women. The disease mainly affects men at an early stage compared to women. At the age of 45, men are likely to get heart diseases and at the age of 55, women are likely to be  affected by the same. Globally 17.9 million people die due to heart disease and stroke, which is a relatively  high number. As data scientists, we have been tasked to investigate some factors that lead to heart attack and ways to educate people on how to prevent and reduce these risks.\n",
        "\n",
        "##Problem Statement\n",
        "\n",
        "Investigate the factors that predisposes an individual to heart attack.\n",
        "\n",
        "#Solution\n",
        "\n",
        "To consider some key factors that are likely to cause an individual having lesser or higher chance to have a heart attack. \n",
        "\n",
        "#Factors to consider\n",
        "\n",
        "1)Age\n",
        "\n",
        "2)Gender - male/female 0 - female 1 - male\n",
        "\n",
        "3)Chest pains(4 types) 0 - typical angina(discomfort due to less blood supply and oxygen) 1 - atypical angina(angina present) 2 - non-anginal pain(not caused by heart disease or heart attack) 3 - asymptomatic(showing no symptoms) **angina is a condition marked by severe pain in the chest\n",
        "\n",
        "4)Resting blood pressure - 90-120 - normal 140 - high blood blood pressure\n",
        "\n",
        "5)Serum cholesterol - measurement of certain elements in the blood less than 200mg/dl is desirable for adults 200-239 - borderline 240 and above is considered high causes heart attack\n",
        "\n",
        "6)Fasting blood sugar Ranges < 100mg/dl is normal, 100-125(prediabetic), 126 or higher(have diabetes) higher chances of heart disease 0 - False(low blood sugar) 1 - True(high blood sugar > 120)\n",
        "\n",
        "7)Maximum heart rate - shows max heart rate achieved by an individual 60 - 100 beats per minute\n",
        "\n",
        "8)Resting electrocardiographic results graph of voltage versus time of the electrical activity of the heart 0 - normal 1 - having ST-T abnormality(wave change) 2 - showing probable or definite left ventricular hypertrophy by Estes' criteria\n",
        "\n",
        "9)Exang (exercise induced angina) if exercise increases angina or does not 0 - no(it does not increase angina) 1 - yes(it does increase angina)\n",
        "\n",
        "10)Oldpeak - ST depression induced by exercise relative to rest\n",
        "\n",
        "11)Slope - (kind of graphical representation) 0 - upsloping 1 - flat 2 - downsloping\n",
        "\n",
        "12)ca(number of major blood vessels) 0 - vessel 0 1 - vessel 1 2 - vessel 2 3 - vessel 3\n",
        "\n",
        "13)Thal(thalassemia) - blood disorder passed down through families 0 - normal 1 - fixed defect 2 - reversible defect\n",
        "\n",
        "14)Target - chances of having a heart attack 0 - less chance of heart attack 1 - more chance of heart attack\n",
        "\n",
        "\n",
        "##HYPOTHESIS TESTING QUESTIONS\n",
        "\n",
        "***Hypothesis 1***\n",
        "\n",
        "1. Testing whether there is a difference between the mean age of female and male individuals with high chances of heart attack.\n",
        "\n",
        "\n",
        "Ho: female(age) = male(age)\n",
        "\n",
        "H1: female(age) != male(age) \n",
        "\n",
        "***Hypothesis 2***\n",
        "\n",
        "2.The average age of individuals who are more likely to have a heart attack with chest pain 3 is greater than the average age of individuals who are more likely to have a heart attack with chest pain 0.\n",
        "\n",
        "Ho: female(chest pain type) >= male(chest pain type)\n",
        "\n",
        "H1:emale(chest pain type) < male(chest pain type)\n",
        "\n",
        "***Hypothesis 3***\n",
        "\n",
        "3. Testing whether there is a difference between the mean cholestral levels in men and that of women.\n",
        "\n",
        "The null hypothesis is that there is actually a difference between two means and the alternative hypothesis is that there is no difference between the two means.\n",
        "\n",
        "Ho: men(cholestral levels) = women(choletral levels)\n",
        "\n",
        "H1: men(cholestral levels) != women(choletral levels)\n",
        "\n",
        "#Metric of success\n",
        "Determining if an individual has a lower or higher chance to getting a heart attack.\n",
        "This can be done by considering different factors provided in the dataset. \n",
        "The analysis will be done by use of univariate, bivariate, multivariate and hypothesis testing. \n",
        "\n",
        "#Understanding the context\n",
        "According World Health Organization, cardiovascular diseases (CVDs) are the number 1 cause of death globally, taking an estimated 17.9 million lives each year. CVDs are a group of disorders of the heart and blood vessels and include coronary heart disease, cerebrovascular disease, rheumatic heart disease and other conditions. Four out of 5CVD deaths are due to heart attacks and strokes, and one third of these deaths occur prematurely in people under 70 years of age.\n",
        "\n",
        "Individuals at risk of CVD may demonstrate raised blood pressure, glucose, and lipids as well as overweight and obesity. These can all be easily measured in primary care facilities. Identifying those at highest risk of CVDs and ensuring they receive appropriate treatment can prevent premature deaths. It is therefore important for individuals to be aware of the key factors that lead to high chances of heart attack to prevent heart diseases and premature deaths. \n",
        "\n",
        "According WHO Non-Communicable Diseases (NCDs),account for 50% of hospital admissions and 55% of hospital deaths in Kenya. Cardiovascular diseases (CVDs) are responsible for much of the NCD burden.\n",
        "Estimates show that 25% of hospital admissions and 13% of deaths in Kenya are due to CVDs. Hypertension is the most significant risk factor for CVD according to the National STEPwise Survey for NCDs carried out in 2015. \n",
        "\n",
        "National STEPwise survey shows more than half (56%) of the adult population has never had their blood pressure measured yet almost 1 in 4 Kenyans is living with hypertension and with just about a quarter of them being on medication. The survey also revealed that over 90% of people diagnosed with hypertension have not attained control of the disease. Tobacco use and exposure to tobacco smoke is a major cause of raised blood pressure and other forms of CVDs including heart attack and stroke.  \n",
        "\n",
        "Kenya and the world at large are keen to adopt ways to reduce risk factors of heart diseases. \n",
        "\n",
        "#Recording experimetal design\n",
        "i)Business understanding\n",
        "\n",
        "ii)Loading the data\n",
        "\n",
        "iii)Data cleaning\n",
        "\n",
        "iv)EDA; analysing the data and visualization this will include univariate, bivariate and multivariate\n",
        "\n",
        "v)Hypothesis testing\n",
        "\n",
        "vi)Challenging the solution\n",
        "\n",
        "vii)Conclusion\n",
        "\n",
        "\n",
        "\n",
        "\n",
        "\n",
        "\n"
      ]
    },
    {
      "cell_type": "markdown",
      "metadata": {
        "id": "ScxGR9cjSjsQ",
        "colab_type": "text"
      },
      "source": [
        "### 2) Loading and checking our data"
      ]
    },
    {
      "cell_type": "code",
      "metadata": {
        "id": "yBR0qm2RDK2i",
        "colab_type": "code",
        "colab": {
          "base_uri": "https://localhost:8080/",
          "height": 71
        },
        "outputId": "e136fe27-1058-42bd-df16-6fc3fdd78797"
      },
      "source": [
        "#Importing the libraries that we need\n",
        "\n",
        "import pandas as pd\n",
        "import numpy as np\n",
        "import matplotlib\n",
        "from matplotlib import pyplot as plt\n",
        "import seaborn as sns\n",
        "from scipy.stats import ttest_1samp\n",
        "from scipy.stats import ttest_ind\n",
        "from scipy import stats as st\n",
        "import scipy.stats as stats\n"
      ],
      "execution_count": 1,
      "outputs": [
        {
          "output_type": "stream",
          "text": [
            "/usr/local/lib/python3.6/dist-packages/statsmodels/tools/_testing.py:19: FutureWarning: pandas.util.testing is deprecated. Use the functions in the public API at pandas.testing instead.\n",
            "  import pandas.util.testing as tm\n"
          ],
          "name": "stderr"
        }
      ]
    },
    {
      "cell_type": "code",
      "metadata": {
        "id": "QUK6IQZJDLAQ",
        "colab_type": "code",
        "colab": {
          "base_uri": "https://localhost:8080/",
          "height": 204
        },
        "outputId": "4be9c2cf-0421-458f-e393-cbaacf4649a0"
      },
      "source": [
        "#Loading our dataset\n",
        "#First five records\n",
        "\n",
        "heart_df=pd.read_csv('heart_attack.csv')\n",
        "heart_df.head()\n"
      ],
      "execution_count": 3,
      "outputs": [
        {
          "output_type": "execute_result",
          "data": {
            "text/html": [
              "<div>\n",
              "<style scoped>\n",
              "    .dataframe tbody tr th:only-of-type {\n",
              "        vertical-align: middle;\n",
              "    }\n",
              "\n",
              "    .dataframe tbody tr th {\n",
              "        vertical-align: top;\n",
              "    }\n",
              "\n",
              "    .dataframe thead th {\n",
              "        text-align: right;\n",
              "    }\n",
              "</style>\n",
              "<table border=\"1\" class=\"dataframe\">\n",
              "  <thead>\n",
              "    <tr style=\"text-align: right;\">\n",
              "      <th></th>\n",
              "      <th>age</th>\n",
              "      <th>sex</th>\n",
              "      <th>cp</th>\n",
              "      <th>trestbps</th>\n",
              "      <th>chol</th>\n",
              "      <th>fbs</th>\n",
              "      <th>restecg</th>\n",
              "      <th>thalach</th>\n",
              "      <th>exang</th>\n",
              "      <th>oldpeak</th>\n",
              "      <th>slope</th>\n",
              "      <th>ca</th>\n",
              "      <th>thal</th>\n",
              "      <th>target</th>\n",
              "    </tr>\n",
              "  </thead>\n",
              "  <tbody>\n",
              "    <tr>\n",
              "      <th>0</th>\n",
              "      <td>63</td>\n",
              "      <td>1</td>\n",
              "      <td>3</td>\n",
              "      <td>145</td>\n",
              "      <td>233</td>\n",
              "      <td>1</td>\n",
              "      <td>0</td>\n",
              "      <td>150</td>\n",
              "      <td>0</td>\n",
              "      <td>2.3</td>\n",
              "      <td>0</td>\n",
              "      <td>0</td>\n",
              "      <td>1</td>\n",
              "      <td>1</td>\n",
              "    </tr>\n",
              "    <tr>\n",
              "      <th>1</th>\n",
              "      <td>37</td>\n",
              "      <td>1</td>\n",
              "      <td>2</td>\n",
              "      <td>130</td>\n",
              "      <td>250</td>\n",
              "      <td>0</td>\n",
              "      <td>1</td>\n",
              "      <td>187</td>\n",
              "      <td>0</td>\n",
              "      <td>3.5</td>\n",
              "      <td>0</td>\n",
              "      <td>0</td>\n",
              "      <td>2</td>\n",
              "      <td>1</td>\n",
              "    </tr>\n",
              "    <tr>\n",
              "      <th>2</th>\n",
              "      <td>41</td>\n",
              "      <td>0</td>\n",
              "      <td>1</td>\n",
              "      <td>130</td>\n",
              "      <td>204</td>\n",
              "      <td>0</td>\n",
              "      <td>0</td>\n",
              "      <td>172</td>\n",
              "      <td>0</td>\n",
              "      <td>1.4</td>\n",
              "      <td>2</td>\n",
              "      <td>0</td>\n",
              "      <td>2</td>\n",
              "      <td>1</td>\n",
              "    </tr>\n",
              "    <tr>\n",
              "      <th>3</th>\n",
              "      <td>56</td>\n",
              "      <td>1</td>\n",
              "      <td>1</td>\n",
              "      <td>120</td>\n",
              "      <td>236</td>\n",
              "      <td>0</td>\n",
              "      <td>1</td>\n",
              "      <td>178</td>\n",
              "      <td>0</td>\n",
              "      <td>0.8</td>\n",
              "      <td>2</td>\n",
              "      <td>0</td>\n",
              "      <td>2</td>\n",
              "      <td>1</td>\n",
              "    </tr>\n",
              "    <tr>\n",
              "      <th>4</th>\n",
              "      <td>57</td>\n",
              "      <td>0</td>\n",
              "      <td>0</td>\n",
              "      <td>120</td>\n",
              "      <td>354</td>\n",
              "      <td>0</td>\n",
              "      <td>1</td>\n",
              "      <td>163</td>\n",
              "      <td>1</td>\n",
              "      <td>0.6</td>\n",
              "      <td>2</td>\n",
              "      <td>0</td>\n",
              "      <td>2</td>\n",
              "      <td>1</td>\n",
              "    </tr>\n",
              "  </tbody>\n",
              "</table>\n",
              "</div>"
            ],
            "text/plain": [
              "   age  sex  cp  trestbps  chol  fbs  ...  exang  oldpeak  slope  ca  thal  target\n",
              "0   63    1   3       145   233    1  ...      0      2.3      0   0     1       1\n",
              "1   37    1   2       130   250    0  ...      0      3.5      0   0     2       1\n",
              "2   41    0   1       130   204    0  ...      0      1.4      2   0     2       1\n",
              "3   56    1   1       120   236    0  ...      0      0.8      2   0     2       1\n",
              "4   57    0   0       120   354    0  ...      1      0.6      2   0     2       1\n",
              "\n",
              "[5 rows x 14 columns]"
            ]
          },
          "metadata": {
            "tags": []
          },
          "execution_count": 3
        }
      ]
    },
    {
      "cell_type": "code",
      "metadata": {
        "id": "hgePtuBxRpCX",
        "colab_type": "code",
        "colab": {
          "base_uri": "https://localhost:8080/",
          "height": 204
        },
        "outputId": "e05f5f4f-7ac3-4ebc-db15-9f5376be1158"
      },
      "source": [
        "#Loading our dataset\n",
        "#Last five records\n",
        "\n",
        "heart_df=pd.read_csv('heart_attack_dataset.csv')\n",
        "heart_df.tail()"
      ],
      "execution_count": null,
      "outputs": [
        {
          "output_type": "execute_result",
          "data": {
            "text/html": [
              "<div>\n",
              "<style scoped>\n",
              "    .dataframe tbody tr th:only-of-type {\n",
              "        vertical-align: middle;\n",
              "    }\n",
              "\n",
              "    .dataframe tbody tr th {\n",
              "        vertical-align: top;\n",
              "    }\n",
              "\n",
              "    .dataframe thead th {\n",
              "        text-align: right;\n",
              "    }\n",
              "</style>\n",
              "<table border=\"1\" class=\"dataframe\">\n",
              "  <thead>\n",
              "    <tr style=\"text-align: right;\">\n",
              "      <th></th>\n",
              "      <th>age</th>\n",
              "      <th>sex</th>\n",
              "      <th>cp</th>\n",
              "      <th>trestbps</th>\n",
              "      <th>chol</th>\n",
              "      <th>fbs</th>\n",
              "      <th>restecg</th>\n",
              "      <th>thalach</th>\n",
              "      <th>exang</th>\n",
              "      <th>oldpeak</th>\n",
              "      <th>slope</th>\n",
              "      <th>ca</th>\n",
              "      <th>thal</th>\n",
              "      <th>target</th>\n",
              "    </tr>\n",
              "  </thead>\n",
              "  <tbody>\n",
              "    <tr>\n",
              "      <th>298</th>\n",
              "      <td>57</td>\n",
              "      <td>0</td>\n",
              "      <td>0</td>\n",
              "      <td>140</td>\n",
              "      <td>241</td>\n",
              "      <td>0</td>\n",
              "      <td>1</td>\n",
              "      <td>123</td>\n",
              "      <td>1</td>\n",
              "      <td>0.2</td>\n",
              "      <td>1</td>\n",
              "      <td>0</td>\n",
              "      <td>3</td>\n",
              "      <td>0</td>\n",
              "    </tr>\n",
              "    <tr>\n",
              "      <th>299</th>\n",
              "      <td>45</td>\n",
              "      <td>1</td>\n",
              "      <td>3</td>\n",
              "      <td>110</td>\n",
              "      <td>264</td>\n",
              "      <td>0</td>\n",
              "      <td>1</td>\n",
              "      <td>132</td>\n",
              "      <td>0</td>\n",
              "      <td>1.2</td>\n",
              "      <td>1</td>\n",
              "      <td>0</td>\n",
              "      <td>3</td>\n",
              "      <td>0</td>\n",
              "    </tr>\n",
              "    <tr>\n",
              "      <th>300</th>\n",
              "      <td>68</td>\n",
              "      <td>1</td>\n",
              "      <td>0</td>\n",
              "      <td>144</td>\n",
              "      <td>193</td>\n",
              "      <td>1</td>\n",
              "      <td>1</td>\n",
              "      <td>141</td>\n",
              "      <td>0</td>\n",
              "      <td>3.4</td>\n",
              "      <td>1</td>\n",
              "      <td>2</td>\n",
              "      <td>3</td>\n",
              "      <td>0</td>\n",
              "    </tr>\n",
              "    <tr>\n",
              "      <th>301</th>\n",
              "      <td>57</td>\n",
              "      <td>1</td>\n",
              "      <td>0</td>\n",
              "      <td>130</td>\n",
              "      <td>131</td>\n",
              "      <td>0</td>\n",
              "      <td>1</td>\n",
              "      <td>115</td>\n",
              "      <td>1</td>\n",
              "      <td>1.2</td>\n",
              "      <td>1</td>\n",
              "      <td>1</td>\n",
              "      <td>3</td>\n",
              "      <td>0</td>\n",
              "    </tr>\n",
              "    <tr>\n",
              "      <th>302</th>\n",
              "      <td>57</td>\n",
              "      <td>0</td>\n",
              "      <td>1</td>\n",
              "      <td>130</td>\n",
              "      <td>236</td>\n",
              "      <td>0</td>\n",
              "      <td>0</td>\n",
              "      <td>174</td>\n",
              "      <td>0</td>\n",
              "      <td>0.0</td>\n",
              "      <td>1</td>\n",
              "      <td>1</td>\n",
              "      <td>2</td>\n",
              "      <td>0</td>\n",
              "    </tr>\n",
              "  </tbody>\n",
              "</table>\n",
              "</div>"
            ],
            "text/plain": [
              "     age  sex  cp  trestbps  chol  fbs  ...  exang  oldpeak  slope  ca  thal  target\n",
              "298   57    0   0       140   241    0  ...      1      0.2      1   0     3       0\n",
              "299   45    1   3       110   264    0  ...      0      1.2      1   0     3       0\n",
              "300   68    1   0       144   193    1  ...      0      3.4      1   2     3       0\n",
              "301   57    1   0       130   131    0  ...      1      1.2      1   1     3       0\n",
              "302   57    0   1       130   236    0  ...      0      0.0      1   1     2       0\n",
              "\n",
              "[5 rows x 14 columns]"
            ]
          },
          "metadata": {
            "tags": []
          },
          "execution_count": 4
        }
      ]
    },
    {
      "cell_type": "code",
      "metadata": {
        "id": "iaGtSqLxDK-F",
        "colab_type": "code",
        "colab": {
          "base_uri": "https://localhost:8080/",
          "height": 34
        },
        "outputId": "88b7c7f1-2bc5-42ed-e663-fae6f8cc2d02"
      },
      "source": [
        "#shape of dataset\n",
        "heart_df.shape"
      ],
      "execution_count": 4,
      "outputs": [
        {
          "output_type": "execute_result",
          "data": {
            "text/plain": [
              "(303, 14)"
            ]
          },
          "metadata": {
            "tags": []
          },
          "execution_count": 4
        }
      ]
    },
    {
      "cell_type": "markdown",
      "metadata": {
        "id": "1iUsaxkSWtla",
        "colab_type": "text"
      },
      "source": [
        "*The dataset contains 303 records and 14 columns*"
      ]
    },
    {
      "cell_type": "code",
      "metadata": {
        "id": "Z3wmlTmfDK71",
        "colab_type": "code",
        "colab": {
          "base_uri": "https://localhost:8080/",
          "height": 272
        },
        "outputId": "abf1c131-42b5-4782-eade-c572e80b698e"
      },
      "source": [
        "#checking the datatypes\n",
        "heart_df.dtypes"
      ],
      "execution_count": 5,
      "outputs": [
        {
          "output_type": "execute_result",
          "data": {
            "text/plain": [
              "age           int64\n",
              "sex           int64\n",
              "cp            int64\n",
              "trestbps      int64\n",
              "chol          int64\n",
              "fbs           int64\n",
              "restecg       int64\n",
              "thalach       int64\n",
              "exang         int64\n",
              "oldpeak     float64\n",
              "slope         int64\n",
              "ca            int64\n",
              "thal          int64\n",
              "target        int64\n",
              "dtype: object"
            ]
          },
          "metadata": {
            "tags": []
          },
          "execution_count": 5
        }
      ]
    },
    {
      "cell_type": "code",
      "metadata": {
        "id": "b_hfwfCADK6B",
        "colab_type": "code",
        "colab": {
          "base_uri": "https://localhost:8080/",
          "height": 317
        },
        "outputId": "790223cd-0a66-472d-ce62-1213d3bd56cf"
      },
      "source": [
        "#Checking statatical description of the dataset\n",
        "\n",
        "heart_df.describe()"
      ],
      "execution_count": 6,
      "outputs": [
        {
          "output_type": "execute_result",
          "data": {
            "text/html": [
              "<div>\n",
              "<style scoped>\n",
              "    .dataframe tbody tr th:only-of-type {\n",
              "        vertical-align: middle;\n",
              "    }\n",
              "\n",
              "    .dataframe tbody tr th {\n",
              "        vertical-align: top;\n",
              "    }\n",
              "\n",
              "    .dataframe thead th {\n",
              "        text-align: right;\n",
              "    }\n",
              "</style>\n",
              "<table border=\"1\" class=\"dataframe\">\n",
              "  <thead>\n",
              "    <tr style=\"text-align: right;\">\n",
              "      <th></th>\n",
              "      <th>age</th>\n",
              "      <th>sex</th>\n",
              "      <th>cp</th>\n",
              "      <th>trestbps</th>\n",
              "      <th>chol</th>\n",
              "      <th>fbs</th>\n",
              "      <th>restecg</th>\n",
              "      <th>thalach</th>\n",
              "      <th>exang</th>\n",
              "      <th>oldpeak</th>\n",
              "      <th>slope</th>\n",
              "      <th>ca</th>\n",
              "      <th>thal</th>\n",
              "      <th>target</th>\n",
              "    </tr>\n",
              "  </thead>\n",
              "  <tbody>\n",
              "    <tr>\n",
              "      <th>count</th>\n",
              "      <td>303.000000</td>\n",
              "      <td>303.000000</td>\n",
              "      <td>303.000000</td>\n",
              "      <td>303.000000</td>\n",
              "      <td>303.000000</td>\n",
              "      <td>303.000000</td>\n",
              "      <td>303.000000</td>\n",
              "      <td>303.000000</td>\n",
              "      <td>303.000000</td>\n",
              "      <td>303.000000</td>\n",
              "      <td>303.000000</td>\n",
              "      <td>303.000000</td>\n",
              "      <td>303.000000</td>\n",
              "      <td>303.000000</td>\n",
              "    </tr>\n",
              "    <tr>\n",
              "      <th>mean</th>\n",
              "      <td>54.366337</td>\n",
              "      <td>0.683168</td>\n",
              "      <td>0.966997</td>\n",
              "      <td>131.623762</td>\n",
              "      <td>246.264026</td>\n",
              "      <td>0.148515</td>\n",
              "      <td>0.528053</td>\n",
              "      <td>149.646865</td>\n",
              "      <td>0.326733</td>\n",
              "      <td>1.039604</td>\n",
              "      <td>1.399340</td>\n",
              "      <td>0.729373</td>\n",
              "      <td>2.313531</td>\n",
              "      <td>0.544554</td>\n",
              "    </tr>\n",
              "    <tr>\n",
              "      <th>std</th>\n",
              "      <td>9.082101</td>\n",
              "      <td>0.466011</td>\n",
              "      <td>1.032052</td>\n",
              "      <td>17.538143</td>\n",
              "      <td>51.830751</td>\n",
              "      <td>0.356198</td>\n",
              "      <td>0.525860</td>\n",
              "      <td>22.905161</td>\n",
              "      <td>0.469794</td>\n",
              "      <td>1.161075</td>\n",
              "      <td>0.616226</td>\n",
              "      <td>1.022606</td>\n",
              "      <td>0.612277</td>\n",
              "      <td>0.498835</td>\n",
              "    </tr>\n",
              "    <tr>\n",
              "      <th>min</th>\n",
              "      <td>29.000000</td>\n",
              "      <td>0.000000</td>\n",
              "      <td>0.000000</td>\n",
              "      <td>94.000000</td>\n",
              "      <td>126.000000</td>\n",
              "      <td>0.000000</td>\n",
              "      <td>0.000000</td>\n",
              "      <td>71.000000</td>\n",
              "      <td>0.000000</td>\n",
              "      <td>0.000000</td>\n",
              "      <td>0.000000</td>\n",
              "      <td>0.000000</td>\n",
              "      <td>0.000000</td>\n",
              "      <td>0.000000</td>\n",
              "    </tr>\n",
              "    <tr>\n",
              "      <th>25%</th>\n",
              "      <td>47.500000</td>\n",
              "      <td>0.000000</td>\n",
              "      <td>0.000000</td>\n",
              "      <td>120.000000</td>\n",
              "      <td>211.000000</td>\n",
              "      <td>0.000000</td>\n",
              "      <td>0.000000</td>\n",
              "      <td>133.500000</td>\n",
              "      <td>0.000000</td>\n",
              "      <td>0.000000</td>\n",
              "      <td>1.000000</td>\n",
              "      <td>0.000000</td>\n",
              "      <td>2.000000</td>\n",
              "      <td>0.000000</td>\n",
              "    </tr>\n",
              "    <tr>\n",
              "      <th>50%</th>\n",
              "      <td>55.000000</td>\n",
              "      <td>1.000000</td>\n",
              "      <td>1.000000</td>\n",
              "      <td>130.000000</td>\n",
              "      <td>240.000000</td>\n",
              "      <td>0.000000</td>\n",
              "      <td>1.000000</td>\n",
              "      <td>153.000000</td>\n",
              "      <td>0.000000</td>\n",
              "      <td>0.800000</td>\n",
              "      <td>1.000000</td>\n",
              "      <td>0.000000</td>\n",
              "      <td>2.000000</td>\n",
              "      <td>1.000000</td>\n",
              "    </tr>\n",
              "    <tr>\n",
              "      <th>75%</th>\n",
              "      <td>61.000000</td>\n",
              "      <td>1.000000</td>\n",
              "      <td>2.000000</td>\n",
              "      <td>140.000000</td>\n",
              "      <td>274.500000</td>\n",
              "      <td>0.000000</td>\n",
              "      <td>1.000000</td>\n",
              "      <td>166.000000</td>\n",
              "      <td>1.000000</td>\n",
              "      <td>1.600000</td>\n",
              "      <td>2.000000</td>\n",
              "      <td>1.000000</td>\n",
              "      <td>3.000000</td>\n",
              "      <td>1.000000</td>\n",
              "    </tr>\n",
              "    <tr>\n",
              "      <th>max</th>\n",
              "      <td>77.000000</td>\n",
              "      <td>1.000000</td>\n",
              "      <td>3.000000</td>\n",
              "      <td>200.000000</td>\n",
              "      <td>564.000000</td>\n",
              "      <td>1.000000</td>\n",
              "      <td>2.000000</td>\n",
              "      <td>202.000000</td>\n",
              "      <td>1.000000</td>\n",
              "      <td>6.200000</td>\n",
              "      <td>2.000000</td>\n",
              "      <td>4.000000</td>\n",
              "      <td>3.000000</td>\n",
              "      <td>1.000000</td>\n",
              "    </tr>\n",
              "  </tbody>\n",
              "</table>\n",
              "</div>"
            ],
            "text/plain": [
              "              age         sex          cp  ...          ca        thal      target\n",
              "count  303.000000  303.000000  303.000000  ...  303.000000  303.000000  303.000000\n",
              "mean    54.366337    0.683168    0.966997  ...    0.729373    2.313531    0.544554\n",
              "std      9.082101    0.466011    1.032052  ...    1.022606    0.612277    0.498835\n",
              "min     29.000000    0.000000    0.000000  ...    0.000000    0.000000    0.000000\n",
              "25%     47.500000    0.000000    0.000000  ...    0.000000    2.000000    0.000000\n",
              "50%     55.000000    1.000000    1.000000  ...    0.000000    2.000000    1.000000\n",
              "75%     61.000000    1.000000    2.000000  ...    1.000000    3.000000    1.000000\n",
              "max     77.000000    1.000000    3.000000  ...    4.000000    3.000000    1.000000\n",
              "\n",
              "[8 rows x 14 columns]"
            ]
          },
          "metadata": {
            "tags": []
          },
          "execution_count": 6
        }
      ]
    },
    {
      "cell_type": "code",
      "metadata": {
        "id": "Ec8G039rR-Bp",
        "colab_type": "code",
        "colab": {
          "base_uri": "https://localhost:8080/",
          "height": 68
        },
        "outputId": "440e7c5e-3659-46f8-a6e5-0317953ed88d"
      },
      "source": [
        "#checking the columns\n",
        "\n",
        "heart_df.columns"
      ],
      "execution_count": null,
      "outputs": [
        {
          "output_type": "execute_result",
          "data": {
            "text/plain": [
              "Index(['age', 'sex', 'cp', 'trestbps', 'chol', 'fbs', 'restecg', 'thalach',\n",
              "       'exang', 'oldpeak', 'slope', 'ca', 'thal', 'target'],\n",
              "      dtype='object')"
            ]
          },
          "metadata": {
            "tags": []
          },
          "execution_count": 12
        }
      ]
    },
    {
      "cell_type": "code",
      "metadata": {
        "id": "Ean4bHM5nAMu",
        "colab_type": "code",
        "colab": {
          "base_uri": "https://localhost:8080/",
          "height": 272
        },
        "outputId": "a32cabb1-b5d9-4f7d-a221-0376cd716398"
      },
      "source": [
        "#checking unique values in our dataset\n",
        "\n",
        "heart_df.nunique()"
      ],
      "execution_count": null,
      "outputs": [
        {
          "output_type": "execute_result",
          "data": {
            "text/plain": [
              "age          41\n",
              "sex           2\n",
              "cp            4\n",
              "trestbps     49\n",
              "chol        152\n",
              "fbs           2\n",
              "restecg       3\n",
              "thalach      91\n",
              "exang         2\n",
              "oldpeak      40\n",
              "slope         3\n",
              "ca            5\n",
              "thal          4\n",
              "target        2\n",
              "dtype: int64"
            ]
          },
          "metadata": {
            "tags": []
          },
          "execution_count": 13
        }
      ]
    },
    {
      "cell_type": "code",
      "metadata": {
        "id": "SuS-Hl86nQPp",
        "colab_type": "code",
        "colab": {
          "base_uri": "https://localhost:8080/",
          "height": 34
        },
        "outputId": "09dda8cc-f98f-47b0-975a-36f4b4d9c2df"
      },
      "source": [
        "heart_df['fbs'].unique()"
      ],
      "execution_count": null,
      "outputs": [
        {
          "output_type": "execute_result",
          "data": {
            "text/plain": [
              "array([1, 0])"
            ]
          },
          "metadata": {
            "tags": []
          },
          "execution_count": 14
        }
      ]
    },
    {
      "cell_type": "markdown",
      "metadata": {
        "id": "PlLhazRRSfxx",
        "colab_type": "text"
      },
      "source": [
        "### 3)Cleaning our data"
      ]
    },
    {
      "cell_type": "code",
      "metadata": {
        "id": "KDKK2QFQR-Kb",
        "colab_type": "code",
        "colab": {
          "base_uri": "https://localhost:8080/",
          "height": 272
        },
        "outputId": "3bb0c813-fd89-4131-cc61-6b707a7de144"
      },
      "source": [
        "#checking and dealing with nulll values\n",
        "\n",
        "heart_df.isnull().sum()\n",
        "\n",
        "#Our data has no missing values"
      ],
      "execution_count": null,
      "outputs": [
        {
          "output_type": "execute_result",
          "data": {
            "text/plain": [
              "age         0\n",
              "sex         0\n",
              "cp          0\n",
              "trestbps    0\n",
              "chol        0\n",
              "fbs         0\n",
              "restecg     0\n",
              "thalach     0\n",
              "exang       0\n",
              "oldpeak     0\n",
              "slope       0\n",
              "ca          0\n",
              "thal        0\n",
              "target      0\n",
              "dtype: int64"
            ]
          },
          "metadata": {
            "tags": []
          },
          "execution_count": 17
        }
      ]
    },
    {
      "cell_type": "code",
      "metadata": {
        "id": "hE_PasjjR-Ic",
        "colab_type": "code",
        "colab": {
          "base_uri": "https://localhost:8080/",
          "height": 162
        },
        "outputId": "450b5953-e5e6-4372-acd8-118f1d394195"
      },
      "source": [
        "#Renaming our columns \n",
        "\n",
        "heart_df.rename({'sex': 'gender','cp':'chest_pain','trestbps':'blood_pressure','chol':'cholestral','fbs':'blood_sugar','restecg':'electrocardiographic_results','thalach':'maximum_heart_rate','exang':'exercise_induced_angina','ca':'vessels','thal':'defect'}, axis =1, inplace =True)\n",
        "heart_df.head(3)"
      ],
      "execution_count": null,
      "outputs": [
        {
          "output_type": "execute_result",
          "data": {
            "text/html": [
              "<div>\n",
              "<style scoped>\n",
              "    .dataframe tbody tr th:only-of-type {\n",
              "        vertical-align: middle;\n",
              "    }\n",
              "\n",
              "    .dataframe tbody tr th {\n",
              "        vertical-align: top;\n",
              "    }\n",
              "\n",
              "    .dataframe thead th {\n",
              "        text-align: right;\n",
              "    }\n",
              "</style>\n",
              "<table border=\"1\" class=\"dataframe\">\n",
              "  <thead>\n",
              "    <tr style=\"text-align: right;\">\n",
              "      <th></th>\n",
              "      <th>age</th>\n",
              "      <th>gender</th>\n",
              "      <th>chest_pain</th>\n",
              "      <th>blood_pressure</th>\n",
              "      <th>cholestral</th>\n",
              "      <th>blood_sugar</th>\n",
              "      <th>electrocardiographic_results</th>\n",
              "      <th>maximum_heart_rate</th>\n",
              "      <th>exercise_induced_angina</th>\n",
              "      <th>oldpeak</th>\n",
              "      <th>slope</th>\n",
              "      <th>vessels</th>\n",
              "      <th>defect</th>\n",
              "      <th>target</th>\n",
              "    </tr>\n",
              "  </thead>\n",
              "  <tbody>\n",
              "    <tr>\n",
              "      <th>0</th>\n",
              "      <td>63</td>\n",
              "      <td>1</td>\n",
              "      <td>3</td>\n",
              "      <td>145</td>\n",
              "      <td>233</td>\n",
              "      <td>1</td>\n",
              "      <td>0</td>\n",
              "      <td>150</td>\n",
              "      <td>0</td>\n",
              "      <td>2.3</td>\n",
              "      <td>0</td>\n",
              "      <td>0</td>\n",
              "      <td>1</td>\n",
              "      <td>1</td>\n",
              "    </tr>\n",
              "    <tr>\n",
              "      <th>1</th>\n",
              "      <td>37</td>\n",
              "      <td>1</td>\n",
              "      <td>2</td>\n",
              "      <td>130</td>\n",
              "      <td>250</td>\n",
              "      <td>0</td>\n",
              "      <td>1</td>\n",
              "      <td>187</td>\n",
              "      <td>0</td>\n",
              "      <td>3.5</td>\n",
              "      <td>0</td>\n",
              "      <td>0</td>\n",
              "      <td>2</td>\n",
              "      <td>1</td>\n",
              "    </tr>\n",
              "    <tr>\n",
              "      <th>2</th>\n",
              "      <td>41</td>\n",
              "      <td>0</td>\n",
              "      <td>1</td>\n",
              "      <td>130</td>\n",
              "      <td>204</td>\n",
              "      <td>0</td>\n",
              "      <td>0</td>\n",
              "      <td>172</td>\n",
              "      <td>0</td>\n",
              "      <td>1.4</td>\n",
              "      <td>2</td>\n",
              "      <td>0</td>\n",
              "      <td>2</td>\n",
              "      <td>1</td>\n",
              "    </tr>\n",
              "  </tbody>\n",
              "</table>\n",
              "</div>"
            ],
            "text/plain": [
              "   age  gender  chest_pain  blood_pressure  ...  slope  vessels  defect  target\n",
              "0   63       1           3             145  ...      0        0       1       1\n",
              "1   37       1           2             130  ...      0        0       2       1\n",
              "2   41       0           1             130  ...      2        0       2       1\n",
              "\n",
              "[3 rows x 14 columns]"
            ]
          },
          "metadata": {
            "tags": []
          },
          "execution_count": 5
        }
      ]
    },
    {
      "cell_type": "code",
      "metadata": {
        "id": "26YpxQWIR-Gg",
        "colab_type": "code",
        "colab": {
          "base_uri": "https://localhost:8080/",
          "height": 609
        },
        "outputId": "6e31bca8-4cf2-4b41-8b42-0853200bf1f6"
      },
      "source": [
        "#checking for outliers\n",
        "\n",
        "fig, ((ax1, ax2, ax3,ax4,ax5,ax6,ax7)) = plt.subplots(1,7, figsize=(20, 10))\n",
        "fig.suptitle('Boxplots for numeric variables')\n",
        "sns.boxplot(heart_df['age'], ax=ax1)\n",
        "sns.boxplot(heart_df['oldpeak'], ax=ax2)\n",
        "sns.boxplot(heart_df['chest_pain'], ax=ax3)\n",
        "sns.boxplot(heart_df['blood_pressure'], ax=ax4)\n",
        "sns.boxplot(heart_df['cholestral'], ax=ax5)\n",
        "sns.boxplot(heart_df['blood_sugar'], ax=ax6)\n",
        "sns.boxplot(heart_df['maximum_heart_rate'], ax=ax7)\n",
        "plt.show()\n",
        "\n",
        "#our dataset has outliers"
      ],
      "execution_count": null,
      "outputs": [
        {
          "output_type": "display_data",
          "data": {
            "image/png": "[encoded data removed]",
            "text/plain": [
              "<Figure size 1440x720 with 7 Axes>"
            ]
          },
          "metadata": {
            "tags": [],
            "needs_background": "light"
          }
        }
      ]
    },
    {
      "cell_type": "markdown",
      "metadata": {
        "id": "7dPSFxOmW9yn",
        "colab_type": "text"
      },
      "source": [
        "*We can observe from the boxplot that some of the columns contain outliers*"
      ]
    },
    {
      "cell_type": "code",
      "metadata": {
        "id": "Ktk3HGCIX7RS",
        "colab_type": "code",
        "colab": {}
      },
      "source": [
        "#Dealing with outliers"
      ],
      "execution_count": null,
      "outputs": []
    },
    {
      "cell_type": "markdown",
      "metadata": {
        "id": "sgXR2_79X13I",
        "colab_type": "text"
      },
      "source": [
        "*We decided to keep the outliers since we realised that our dataset has individuals with:*\n",
        "\n",
        "*cholestral above 240*\n",
        "\n",
        "*Fasting blood sugar above 120*\n",
        "\n",
        "*Blood pressure greater than 120* \n",
        "\n",
        "*slope that is flat/downward*\n",
        "\n",
        "*All these are considered high hence leading to high chances of heart attack*\n",
        "\n"
      ]
    },
    {
      "cell_type": "code",
      "metadata": {
        "id": "V9t5yA2GVD30",
        "colab_type": "code",
        "colab": {
          "base_uri": "https://localhost:8080/",
          "height": 510
        },
        "outputId": "a4b107c6-1036-4cb7-82f9-4195541e4917"
      },
      "source": [
        "#Checking for individuals with blood pressure greater than 120\n",
        "#as those with greater than 120 is considered high and they are predisposed to heart attack\n",
        "\n",
        "heart_df[heart_df['blood_pressure']>120]\n",
        "print(heart_df[heart_df['blood_pressure']>120])\n",
        "print(heart_df[heart_df['blood_pressure']>120].count())"
      ],
      "execution_count": null,
      "outputs": [
        {
          "output_type": "stream",
          "text": [
            "     age  gender  chest_pain  blood_pressure  ...  slope  vessels  defect  target\n",
            "0     63       1           3             145  ...      0        0       1       1\n",
            "1     37       1           2             130  ...      0        0       2       1\n",
            "2     41       0           1             130  ...      2        0       2       1\n",
            "5     57       1           0             140  ...      1        0       1       1\n",
            "6     56       0           1             140  ...      1        0       2       1\n",
            "..   ...     ...         ...             ...  ...    ...      ...     ...     ...\n",
            "297   59       1           0             164  ...      1        2       1       0\n",
            "298   57       0           0             140  ...      1        0       3       0\n",
            "300   68       1           0             144  ...      1        2       3       0\n",
            "301   57       1           0             130  ...      1        1       3       0\n",
            "302   57       0           1             130  ...      1        1       2       0\n",
            "\n",
            "[206 rows x 14 columns]\n",
            "age                             206\n",
            "gender                          206\n",
            "chest_pain                      206\n",
            "blood_pressure                  206\n",
            "cholestral                      206\n",
            "blood_sugar                     206\n",
            "electrocardiographic_results    206\n",
            "maximum_heart_rate              206\n",
            "exercise_induced_angina         206\n",
            "oldpeak                         206\n",
            "slope                           206\n",
            "vessels                         206\n",
            "defect                          206\n",
            "target                          206\n",
            "dtype: int64\n"
          ],
          "name": "stdout"
        }
      ]
    },
    {
      "cell_type": "markdown",
      "metadata": {
        "id": "2HJNFiI_YdCC",
        "colab_type": "text"
      },
      "source": [
        "*We have 206 individuals with high blood pressure*"
      ]
    },
    {
      "cell_type": "code",
      "metadata": {
        "id": "JyrjEN5CWsTf",
        "colab_type": "code",
        "colab": {
          "base_uri": "https://localhost:8080/",
          "height": 510
        },
        "outputId": "faf5f0fc-b352-40a8-a90e-bd3d2d9403fe"
      },
      "source": [
        "#Checking for individuals with cholestral greater than 240\n",
        "#as those with greater than 240 is considered high and they are predisposed to heart attack\n",
        "\n",
        "heart_df[heart_df['cholestral']>240]\n",
        "print(heart_df[heart_df['cholestral']>240])\n",
        "print(heart_df[heart_df['cholestral']>240].count())"
      ],
      "execution_count": null,
      "outputs": [
        {
          "output_type": "stream",
          "text": [
            "     age  gender  chest_pain  blood_pressure  ...  slope  vessels  defect  target\n",
            "1     37       1           2             130  ...      0        0       2       1\n",
            "4     57       0           0             120  ...      2        0       2       1\n",
            "6     56       0           1             140  ...      1        0       2       1\n",
            "7     44       1           1             120  ...      2        0       3       1\n",
            "11    48       0           2             130  ...      2        0       2       1\n",
            "..   ...     ...         ...             ...  ...    ...      ...     ...     ...\n",
            "285   46       1           0             140  ...      1        2       3       0\n",
            "288   57       1           0             110  ...      1        1       3       0\n",
            "291   58       1           0             114  ...      0        3       1       0\n",
            "298   57       0           0             140  ...      1        0       3       0\n",
            "299   45       1           3             110  ...      1        0       3       0\n",
            "\n",
            "[151 rows x 14 columns]\n",
            "age                             151\n",
            "gender                          151\n",
            "chest_pain                      151\n",
            "blood_pressure                  151\n",
            "cholestral                      151\n",
            "blood_sugar                     151\n",
            "electrocardiographic_results    151\n",
            "maximum_heart_rate              151\n",
            "exercise_induced_angina         151\n",
            "oldpeak                         151\n",
            "slope                           151\n",
            "vessels                         151\n",
            "defect                          151\n",
            "target                          151\n",
            "dtype: int64\n"
          ],
          "name": "stdout"
        }
      ]
    },
    {
      "cell_type": "markdown",
      "metadata": {
        "id": "g3Il_T1KYlqT",
        "colab_type": "text"
      },
      "source": [
        "*We have 151 individuals with high cholestral levels*"
      ]
    },
    {
      "cell_type": "code",
      "metadata": {
        "id": "TTv1jL4Q_TtF",
        "colab_type": "code",
        "colab": {}
      },
      "source": [
        "# some things do not make sense to me, like having a bathroom of, say, 4.25, or \n",
        "# a floor of 3.5\n",
        "# so we'll convert the 'bathrooms' and 'floors' variables from float to int\n",
        "\n",
        "house_df['bathrooms'] = house_df['bathrooms'].astype('int64')\n",
        "house_df['floors'] = house_df['floors'].astype('int64')\n",
        "print(\"Bathrooms type:\", house_df.bathrooms.dtype)\n",
        "print(\"Floors type:\", house_df.floors.dtype)"
      ],
      "execution_count": null,
      "outputs": []
    },
    {
      "cell_type": "code",
      "metadata": {
        "id": "rymWXIG4XQMp",
        "colab_type": "code",
        "colab": {
          "base_uri": "https://localhost:8080/",
          "height": 1000
        },
        "outputId": "d8a5d0d7-2b46-4790-ee5c-e6d9e6d1aa20"
      },
      "source": [
        "#Checking for individuals with blood sugar greater than 120\n",
        "#as those with greater than 120 is considered high and they are predisposed to heart attack\n",
        "\n",
        "heart_df[heart_df['blood_sugar']==1]\n",
        "print(heart_df[heart_df['blood_sugar']==1])\n",
        "print(heart_df[heart_df['blood_sugar']==1].count())\n",
        "\n",
        "#We have 45 individuals with high levels of blood sugar\n",
        "\n",
        "#Checking individuals with low blood sugar\n",
        "heart_df[heart_df['blood_sugar']==0]\n",
        "print(heart_df[heart_df['blood_sugar']==0])\n",
        "print(heart_df[heart_df['blood_sugar']==0].count())"
      ],
      "execution_count": null,
      "outputs": [
        {
          "output_type": "stream",
          "text": [
            "     age  gender  chest_pain  blood_pressure  ...  slope  vessels  defect  target\n",
            "0     63       1           3             145  ...      0        0       1       1\n",
            "8     52       1           2             172  ...      2        0       3       1\n",
            "14    58       0           3             150  ...      2        0       2       1\n",
            "23    61       1           2             150  ...      1        0       2       1\n",
            "26    59       1           2             150  ...      2        0       2       1\n",
            "28    65       0           2             140  ...      2        1       2       1\n",
            "29    53       1           2             130  ...      0        0       2       1\n",
            "36    54       0           2             135  ...      2        0       2       1\n",
            "60    71       0           2             110  ...      2        1       2       1\n",
            "64    58       1           2             140  ...      2        0       2       1\n",
            "76    51       1           2             125  ...      1        0       2       1\n",
            "78    52       1           1             128  ...      2        0       2       1\n",
            "83    52       1           3             152  ...      1        0       3       1\n",
            "87    46       1           1             101  ...      2        0       3       1\n",
            "90    48       1           2             124  ...      2        2       2       1\n",
            "93    54       0           1             132  ...      2        1       2       1\n",
            "97    52       1           0             108  ...      2        3       3       1\n",
            "99    53       1           2             130  ...      2        3       2       1\n",
            "103   42       1           2             120  ...      0        0       3       1\n",
            "106   69       1           3             160  ...      1        1       2       1\n",
            "111   57       1           2             150  ...      2        1       3       1\n",
            "136   60       0           2             120  ...      2        0       2       1\n",
            "137   62       1           1             128  ...      2        0       2       1\n",
            "169   53       1           0             140  ...      0        0       3       0\n",
            "170   56       1           2             130  ...      1        1       1       0\n",
            "176   60       1           0             117  ...      2        2       3       0\n",
            "197   67       1           0             125  ...      1        2       3       0\n",
            "203   68       1           2             180  ...      1        0       3       0\n",
            "214   56       1           0             125  ...      1        1       2       0\n",
            "215   43       0           0             132  ...      1        0       3       0\n",
            "217   63       1           0             130  ...      2        3       3       0\n",
            "219   48       1           0             130  ...      2        2       3       0\n",
            "222   65       1           3             138  ...      1        1       2       0\n",
            "223   56       0           0             200  ...      0        2       3       0\n",
            "231   57       1           0             165  ...      1        3       3       0\n",
            "251   43       1           0             132  ...      1        4       3       0\n",
            "252   62       0           0             138  ...      1        3       2       0\n",
            "260   66       0           0             178  ...      1        2       3       0\n",
            "269   56       1           0             130  ...      0        0       3       0\n",
            "278   58       0           1             136  ...      2        2       2       0\n",
            "281   52       1           0             128  ...      1        0       0       0\n",
            "282   59       1           2             126  ...      1        1       1       0\n",
            "292   58       0           0             170  ...      1        2       1       0\n",
            "297   59       1           0             164  ...      1        2       1       0\n",
            "300   68       1           0             144  ...      1        2       3       0\n",
            "\n",
            "[45 rows x 14 columns]\n",
            "age                             45\n",
            "gender                          45\n",
            "chest_pain                      45\n",
            "blood_pressure                  45\n",
            "cholestral                      45\n",
            "blood_sugar                     45\n",
            "electrocardiographic_results    45\n",
            "maximum_heart_rate              45\n",
            "exercise_induced_angina         45\n",
            "oldpeak                         45\n",
            "slope                           45\n",
            "vessels                         45\n",
            "defect                          45\n",
            "target                          45\n",
            "dtype: int64\n",
            "     age  gender  chest_pain  blood_pressure  ...  slope  vessels  defect  target\n",
            "1     37       1           2             130  ...      0        0       2       1\n",
            "2     41       0           1             130  ...      2        0       2       1\n",
            "3     56       1           1             120  ...      2        0       2       1\n",
            "4     57       0           0             120  ...      2        0       2       1\n",
            "5     57       1           0             140  ...      1        0       1       1\n",
            "..   ...     ...         ...             ...  ...    ...      ...     ...     ...\n",
            "296   63       0           0             124  ...      1        0       2       0\n",
            "298   57       0           0             140  ...      1        0       3       0\n",
            "299   45       1           3             110  ...      1        0       3       0\n",
            "301   57       1           0             130  ...      1        1       3       0\n",
            "302   57       0           1             130  ...      1        1       2       0\n",
            "\n",
            "[258 rows x 14 columns]\n",
            "age                             258\n",
            "gender                          258\n",
            "chest_pain                      258\n",
            "blood_pressure                  258\n",
            "cholestral                      258\n",
            "blood_sugar                     258\n",
            "electrocardiographic_results    258\n",
            "maximum_heart_rate              258\n",
            "exercise_induced_angina         258\n",
            "oldpeak                         258\n",
            "slope                           258\n",
            "vessels                         258\n",
            "defect                          258\n",
            "target                          258\n",
            "dtype: int64\n"
          ],
          "name": "stdout"
        }
      ]
    },
    {
      "cell_type": "markdown",
      "metadata": {
        "id": "LddOsCVRYz3d",
        "colab_type": "text"
      },
      "source": [
        "*We have more individuals with low blood sugar*"
      ]
    },
    {
      "cell_type": "code",
      "metadata": {
        "id": "h6Duomtwad8o",
        "colab_type": "code",
        "colab": {
          "base_uri": "https://localhost:8080/",
          "height": 1000
        },
        "outputId": "83f7c659-a7e3-4f2d-eb9d-2d98bc8f00f9"
      },
      "source": [
        "#Checking individuals with slope*****\n",
        "heart_df[heart_df['slope']==0]\n",
        "print(heart_df[heart_df['slope']==0])\n",
        "print(heart_df[heart_df['slope']==0].count()) \n",
        "\n",
        "heart_df[heart_df['slope']==1]\n",
        "print(heart_df[heart_df['slope']==1])\n",
        "print(heart_df[heart_df['slope']==1].count())\n",
        "\n",
        "heart_df[heart_df['slope']==2]\n",
        "print(heart_df[heart_df['slope']==2])\n",
        "print(heart_df[heart_df['slope']==2].count())\n"
      ],
      "execution_count": null,
      "outputs": [
        {
          "output_type": "stream",
          "text": [
            "     age  gender  chest_pain  blood_pressure  ...  slope  vessels  defect  target\n",
            "0     63       1           3             145  ...      0        0       1       1\n",
            "1     37       1           2             130  ...      0        0       2       1\n",
            "17    66       0           3             150  ...      0        0       2       1\n",
            "29    53       1           2             130  ...      0        0       2       1\n",
            "33    54       1           2             125  ...      0        1       2       1\n",
            "35    46       0           2             142  ...      0        0       2       1\n",
            "101   59       1           3             178  ...      0        0       3       1\n",
            "103   42       1           2             120  ...      0        0       3       1\n",
            "160   56       1           1             120  ...      0        0       2       1\n",
            "167   62       0           0             140  ...      0        2       2       0\n",
            "169   53       1           0             140  ...      0        0       3       0\n",
            "171   48       1           1             110  ...      0        0       3       0\n",
            "195   59       1           0             170  ...      0        0       3       0\n",
            "204   62       0           0             160  ...      0        3       3       0\n",
            "221   55       1           0             140  ...      0        0       3       0\n",
            "223   56       0           0             200  ...      0        2       3       0\n",
            "225   70       1           0             145  ...      0        0       3       0\n",
            "233   64       1           0             120  ...      0        1       2       0\n",
            "269   56       1           0             130  ...      0        0       3       0\n",
            "291   58       1           0             114  ...      0        3       1       0\n",
            "294   44       1           0             120  ...      0        0       1       0\n",
            "\n",
            "[21 rows x 14 columns]\n",
            "age                             21\n",
            "gender                          21\n",
            "chest_pain                      21\n",
            "blood_pressure                  21\n",
            "cholestral                      21\n",
            "blood_sugar                     21\n",
            "electrocardiographic_results    21\n",
            "maximum_heart_rate              21\n",
            "exercise_induced_angina         21\n",
            "oldpeak                         21\n",
            "slope                           21\n",
            "vessels                         21\n",
            "defect                          21\n",
            "target                          21\n",
            "dtype: int64\n",
            "     age  gender  chest_pain  blood_pressure  ...  slope  vessels  defect  target\n",
            "5     57       1           0             140  ...      1        0       1       1\n",
            "6     56       0           1             140  ...      1        0       2       1\n",
            "13    64       1           3             110  ...      1        0       2       1\n",
            "15    50       0           2             120  ...      1        0       2       1\n",
            "20    59       1           0             135  ...      1        0       3       1\n",
            "..   ...     ...         ...             ...  ...    ...      ...     ...     ...\n",
            "298   57       0           0             140  ...      1        0       3       0\n",
            "299   45       1           3             110  ...      1        0       3       0\n",
            "300   68       1           0             144  ...      1        2       3       0\n",
            "301   57       1           0             130  ...      1        1       3       0\n",
            "302   57       0           1             130  ...      1        1       2       0\n",
            "\n",
            "[140 rows x 14 columns]\n",
            "age                             140\n",
            "gender                          140\n",
            "chest_pain                      140\n",
            "blood_pressure                  140\n",
            "cholestral                      140\n",
            "blood_sugar                     140\n",
            "electrocardiographic_results    140\n",
            "maximum_heart_rate              140\n",
            "exercise_induced_angina         140\n",
            "oldpeak                         140\n",
            "slope                           140\n",
            "vessels                         140\n",
            "defect                          140\n",
            "target                          140\n",
            "dtype: int64\n",
            "     age  gender  chest_pain  blood_pressure  ...  slope  vessels  defect  target\n",
            "2     41       0           1             130  ...      2        0       2       1\n",
            "3     56       1           1             120  ...      2        0       2       1\n",
            "4     57       0           0             120  ...      2        0       2       1\n",
            "7     44       1           1             120  ...      2        0       3       1\n",
            "8     52       1           2             172  ...      2        0       3       1\n",
            "..   ...     ...         ...             ...  ...    ...      ...     ...     ...\n",
            "284   61       1           0             140  ...      2        1       3       0\n",
            "286   59       1           3             134  ...      2        2       2       0\n",
            "287   57       1           1             154  ...      2        1       2       0\n",
            "290   61       1           0             148  ...      2        1       3       0\n",
            "295   63       1           0             140  ...      2        2       3       0\n",
            "\n",
            "[142 rows x 14 columns]\n",
            "age                             142\n",
            "gender                          142\n",
            "chest_pain                      142\n",
            "blood_pressure                  142\n",
            "cholestral                      142\n",
            "blood_sugar                     142\n",
            "electrocardiographic_results    142\n",
            "maximum_heart_rate              142\n",
            "exercise_induced_angina         142\n",
            "oldpeak                         142\n",
            "slope                           142\n",
            "vessels                         142\n",
            "defect                          142\n",
            "target                          142\n",
            "dtype: int64\n"
          ],
          "name": "stdout"
        }
      ]
    },
    {
      "cell_type": "markdown",
      "metadata": {
        "id": "DeZzMiM5ZA8D",
        "colab_type": "text"
      },
      "source": [
        "*We have 21-upsloping, 140 flat sloping and 142, downsloping*"
      ]
    },
    {
      "cell_type": "markdown",
      "metadata": {
        "id": "NLhwku-mZPVW",
        "colab_type": "text"
      },
      "source": [
        "### 4) Data analysis\n",
        "\n",
        "i)Univariate analysis"
      ]
    },
    {
      "cell_type": "code",
      "metadata": {
        "id": "Ttg-2Zk4X-cR",
        "colab_type": "code",
        "colab": {
          "base_uri": "https://localhost:8080/",
          "height": 971
        },
        "outputId": "3fdfccfe-2f04-4c8a-e68b-106b5f6c4522"
      },
      "source": [
        "#Plotting our numerical variables on histogram to assess the relationship\n",
        "\n",
        "heart_df.hist(bins=10, figsize=(15,15))\n",
        "plt.suptitle(\"Histogram of numeric variables in heart attack dataset\")\n",
        "plt.savefig('Likelihood of heart attack Histogram')\n",
        "plt.show()"
      ],
      "execution_count": null,
      "outputs": [
        {
          "output_type": "display_data",
          "data": {
            "image/png": "[encoded data removed]",
            "text/plain": [
              "<Figure size 1080x1080 with 16 Axes>"
            ]
          },
          "metadata": {
            "tags": [],
            "needs_background": "light"
          }
        }
      ]
    },
    {
      "cell_type": "code",
      "metadata": {
        "id": "zmk5EH5kF_L9",
        "colab_type": "code",
        "colab": {}
      },
      "source": [
        "#We see that this is positively skewed (i.e., most of the observations are to the left of the middle of the graph) and distribution does not look normal \n",
        "#although it resembles it. This could be due to the presence of outliers, which we will look into in a bit. The shape of the distribution also appears to be leptokurtic, \n",
        "#which makes sense given that leptokurtic distributions appear thinner and taller than normal distributions due to the presence of outliers.\n",
        "\n"
      ],
      "execution_count": null,
      "outputs": []
    },
    {
      "cell_type": "markdown",
      "metadata": {
        "id": "peQ1RReWZimu",
        "colab_type": "text"
      },
      "source": [
        "*Our variables form a normal distribution but they vary as some are skewed to the right and others to the left*"
      ]
    },
    {
      "cell_type": "code",
      "metadata": {
        "id": "abtQ2ptKZatc",
        "colab_type": "code",
        "colab": {
          "base_uri": "https://localhost:8080/",
          "height": 296
        },
        "outputId": "c2803db1-7a33-470c-d499-2613cc79c9a2"
      },
      "source": [
        "#plotting relationships\n",
        "\n",
        "sns.countplot(heart_df['gender'])"
      ],
      "execution_count": null,
      "outputs": [
        {
          "output_type": "execute_result",
          "data": {
            "text/plain": [
              "<matplotlib.axes._subplots.AxesSubplot at 0x7f302b0d0358>"
            ]
          },
          "metadata": {
            "tags": []
          },
          "execution_count": 25
        },
        {
          "output_type": "display_data",
          "data": {
            "image/png": "[encoded data removed]",
            "text/plain": [
              "<Figure size 432x288 with 1 Axes>"
            ]
          },
          "metadata": {
            "tags": [],
            "needs_background": "light"
          }
        }
      ]
    },
    {
      "cell_type": "markdown",
      "metadata": {
        "id": "VYGgo7P5Zo8I",
        "colab_type": "text"
      },
      "source": [
        "*(1=male, 0=female)*\n",
        "\n",
        "*we have more male than female individuals in the dataset*\n"
      ]
    },
    {
      "cell_type": "code",
      "metadata": {
        "id": "nvBTaamFgZuh",
        "colab_type": "code",
        "colab": {
          "base_uri": "https://localhost:8080/",
          "height": 279
        },
        "outputId": "0b1fda85-b345-47a8-f2ce-95417460dbe3"
      },
      "source": [
        "# Plotting gender by percentage \n",
        "(heart_df['gender'].value_counts()/len(heart_df)).plot.bar()"
      ],
      "execution_count": null,
      "outputs": [
        {
          "output_type": "execute_result",
          "data": {
            "text/plain": [
              "<matplotlib.axes._subplots.AxesSubplot at 0x7f15ee8554a8>"
            ]
          },
          "metadata": {
            "tags": []
          },
          "execution_count": 20
        },
        {
          "output_type": "display_data",
          "data": {
            "image/png": "[encoded data removed]",
            "text/plain": [
              "<Figure size 432x288 with 1 Axes>"
            ]
          },
          "metadata": {
            "tags": [],
            "needs_background": "light"
          }
        }
      ]
    },
    {
      "cell_type": "markdown",
      "metadata": {
        "id": "l_pPcy0ZZ16S",
        "colab_type": "text"
      },
      "source": [
        "*Male is more than 60% while female is slightly above 30%*"
      ]
    },
    {
      "cell_type": "code",
      "metadata": {
        "id": "RwroMBE9Zay6",
        "colab_type": "code",
        "colab": {
          "base_uri": "https://localhost:8080/",
          "height": 297
        },
        "outputId": "3705b5fe-e038-4596-97c6-adac1df0db50"
      },
      "source": [
        "#plotting the types of chest pain to identify the rate at which individuals are affected\n",
        "sns.countplot(heart_df['chest_pain']) "
      ],
      "execution_count": null,
      "outputs": [
        {
          "output_type": "execute_result",
          "data": {
            "text/plain": [
              "<matplotlib.axes._subplots.AxesSubplot at 0x7f15ee284da0>"
            ]
          },
          "metadata": {
            "tags": []
          },
          "execution_count": 21
        },
        {
          "output_type": "display_data",
          "data": {
            "image/png": "[encoded data removed]",
            "text/plain": [
              "<Figure size 432x288 with 1 Axes>"
            ]
          },
          "metadata": {
            "tags": [],
            "needs_background": "light"
          }
        }
      ]
    },
    {
      "cell_type": "markdown",
      "metadata": {
        "id": "lGaIYEEaZ9hA",
        "colab_type": "text"
      },
      "source": [
        "*We have more individuals suffering from typical angina[0](this means they are experiencing discomfort due to less blood supply and oxygen)*\n",
        "\n",
        "*Followed by non anginal pain[2](they are experiencing chest pains but not caused by heart disease or heart attack)*"
      ]
    },
    {
      "cell_type": "code",
      "metadata": {
        "id": "SJPxutQzZa3y",
        "colab_type": "code",
        "colab": {
          "base_uri": "https://localhost:8080/",
          "height": 297
        },
        "outputId": "36acb42e-d239-4315-fb09-de0e23fb35e5"
      },
      "source": [
        "#Plotting electrocardiographic results\n",
        "sns.countplot(heart_df['electrocardiographic_results'])"
      ],
      "execution_count": null,
      "outputs": [
        {
          "output_type": "execute_result",
          "data": {
            "text/plain": [
              "<matplotlib.axes._subplots.AxesSubplot at 0x7f15eb73ada0>"
            ]
          },
          "metadata": {
            "tags": []
          },
          "execution_count": 22
        },
        {
          "output_type": "display_data",
          "data": {
            "image/png": "[encoded data removed]",
            "text/plain": [
              "<Figure size 432x288 with 1 Axes>"
            ]
          },
          "metadata": {
            "tags": [],
            "needs_background": "light"
          }
        }
      ]
    },
    {
      "cell_type": "markdown",
      "metadata": {
        "id": "oruRlIW9aS9S",
        "colab_type": "text"
      },
      "source": [
        "*We have more individuals with ST-T abnormality [1] means heart activity is showing abnormality while [0] is normal*"
      ]
    },
    {
      "cell_type": "code",
      "metadata": {
        "id": "JDKpamkPfP0M",
        "colab_type": "code",
        "colab": {
          "base_uri": "https://localhost:8080/",
          "height": 296
        },
        "outputId": "86bb1bfc-7dc9-4acc-ed0e-73661f0375d4"
      },
      "source": [
        "#Plotting the type of vessels in individuals\n",
        "sns.countplot(heart_df['vessels'])  "
      ],
      "execution_count": null,
      "outputs": [
        {
          "output_type": "execute_result",
          "data": {
            "text/plain": [
              "<matplotlib.axes._subplots.AxesSubplot at 0x7f15eb6a75c0>"
            ]
          },
          "metadata": {
            "tags": []
          },
          "execution_count": 23
        },
        {
          "output_type": "display_data",
          "data": {
            "image/png": "[encoded data removed]",
            "text/plain": [
              "<Figure size 432x288 with 1 Axes>"
            ]
          },
          "metadata": {
            "tags": [],
            "needs_background": "light"
          }
        }
      ]
    },
    {
      "cell_type": "markdown",
      "metadata": {
        "id": "Fwwqc9yWaeIY",
        "colab_type": "text"
      },
      "source": [
        "*We have more individuals with vessels 0 type*"
      ]
    },
    {
      "cell_type": "code",
      "metadata": {
        "id": "t4ruA7YPfQMz",
        "colab_type": "code",
        "colab": {
          "base_uri": "https://localhost:8080/",
          "height": 296
        },
        "outputId": "a9572369-4eb2-4cc5-cd9c-12f1f3ac06e5"
      },
      "source": [
        "#Plotting type of defect\n",
        "sns.countplot(heart_df['defect']) "
      ],
      "execution_count": null,
      "outputs": [
        {
          "output_type": "execute_result",
          "data": {
            "text/plain": [
              "<matplotlib.axes._subplots.AxesSubplot at 0x7f15eb6887f0>"
            ]
          },
          "metadata": {
            "tags": []
          },
          "execution_count": 24
        },
        {
          "output_type": "display_data",
          "data": {
            "image/png": "[encoded data removed]",
            "text/plain": [
              "<Figure size 432x288 with 1 Axes>"
            ]
          },
          "metadata": {
            "tags": [],
            "needs_background": "light"
          }
        }
      ]
    },
    {
      "cell_type": "markdown",
      "metadata": {
        "id": "UYHlZxZmak3w",
        "colab_type": "text"
      },
      "source": [
        "*We have more individuals with defect type 2 followed 3*"
      ]
    },
    {
      "cell_type": "code",
      "metadata": {
        "id": "iNtvJ0ZgfPwx",
        "colab_type": "code",
        "colab": {
          "base_uri": "https://localhost:8080/",
          "height": 296
        },
        "outputId": "0d9cd348-1fad-4a46-847b-93aab3d0683c"
      },
      "source": [
        "# Ditribution plot for gender\n",
        "sns.distplot(heart_df['age'], bins=10) "
      ],
      "execution_count": null,
      "outputs": [
        {
          "output_type": "execute_result",
          "data": {
            "text/plain": [
              "<matplotlib.axes._subplots.AxesSubplot at 0x7f15eb5f7fd0>"
            ]
          },
          "metadata": {
            "tags": []
          },
          "execution_count": 25
        },
        {
          "output_type": "display_data",
          "data": {
            "image/png": "[encoded data removed]",
            "text/plain": [
              "<Figure size 432x288 with 1 Axes>"
            ]
          },
          "metadata": {
            "tags": [],
            "needs_background": "light"
          }
        }
      ]
    },
    {
      "cell_type": "markdown",
      "metadata": {
        "id": "W2b96eJIaqop",
        "colab_type": "text"
      },
      "source": [
        "\n",
        "*This shows individual age was between 40-65 years* "
      ]
    },
    {
      "cell_type": "code",
      "metadata": {
        "id": "UgWHTcythaDQ",
        "colab_type": "code",
        "colab": {
          "base_uri": "https://localhost:8080/",
          "height": 296
        },
        "outputId": "e06bb826-60e3-473d-a818-d1995e30464f"
      },
      "source": [
        "# Ditribution plot for cholestral level\n",
        "sns.distplot(heart_df['cholestral']) "
      ],
      "execution_count": null,
      "outputs": [
        {
          "output_type": "execute_result",
          "data": {
            "text/plain": [
              "<matplotlib.axes._subplots.AxesSubplot at 0x7f15eb621f28>"
            ]
          },
          "metadata": {
            "tags": []
          },
          "execution_count": 26
        },
        {
          "output_type": "display_data",
          "data": {
            "image/png": "[encoded data removed]",
            "text/plain": [
              "<Figure size 432x288 with 1 Axes>"
            ]
          },
          "metadata": {
            "tags": [],
            "needs_background": "light"
          }
        }
      ]
    },
    {
      "cell_type": "markdown",
      "metadata": {
        "id": "CkAHPlFFay90",
        "colab_type": "text"
      },
      "source": [
        "\n",
        "*This shows that most individuals have high cholestral levels that is above 200 hence highly predisposed to heart attack*"
      ]
    },
    {
      "cell_type": "code",
      "metadata": {
        "id": "dGxknfWphaYg",
        "colab_type": "code",
        "colab": {
          "base_uri": "https://localhost:8080/",
          "height": 297
        },
        "outputId": "62162984-602e-44fa-faf4-869b66c5052e"
      },
      "source": [
        "# Ditribution plot for blood pressure\n",
        "\n",
        "sns.distplot(heart_df['blood_pressure']) "
      ],
      "execution_count": null,
      "outputs": [
        {
          "output_type": "execute_result",
          "data": {
            "text/plain": [
              "<matplotlib.axes._subplots.AxesSubplot at 0x7f15eb52d080>"
            ]
          },
          "metadata": {
            "tags": []
          },
          "execution_count": 27
        },
        {
          "output_type": "display_data",
          "data": {
            "image/png": "[encoded data removed]",
            "text/plain": [
              "<Figure size 432x288 with 1 Axes>"
            ]
          },
          "metadata": {
            "tags": [],
            "needs_background": "light"
          }
        }
      ]
    },
    {
      "cell_type": "markdown",
      "metadata": {
        "id": "lf2TyKaZa-Gp",
        "colab_type": "text"
      },
      "source": [
        "\n",
        "*This is distribution is skewed to the right showing individuals with blood pressure greater than 130 hence highly predisposed to heart attack*"
      ]
    },
    {
      "cell_type": "code",
      "metadata": {
        "id": "gMPmquBVhZ9V",
        "colab_type": "code",
        "colab": {
          "base_uri": "https://localhost:8080/",
          "height": 296
        },
        "outputId": "d7d50c6a-6d7d-4ad8-c9ea-54c48d7aa995"
      },
      "source": [
        " #Plotting individuals based on slope\n",
        " sns.countplot(heart_df['slope']) "
      ],
      "execution_count": null,
      "outputs": [
        {
          "output_type": "execute_result",
          "data": {
            "text/plain": [
              "<matplotlib.axes._subplots.AxesSubplot at 0x7f15eb490898>"
            ]
          },
          "metadata": {
            "tags": []
          },
          "execution_count": 28
        },
        {
          "output_type": "display_data",
          "data": {
            "image/png": "[encoded data removed]",
            "text/plain": [
              "<Figure size 432x288 with 1 Axes>"
            ]
          },
          "metadata": {
            "tags": [],
            "needs_background": "light"
          }
        }
      ]
    },
    {
      "cell_type": "markdown",
      "metadata": {
        "id": "oU13W0DFbPE0",
        "colab_type": "text"
      },
      "source": [
        " *Those with downsloping[2] are slighly more than flat [1]*\n",
        " \n",
        " *those whose exercise rate is downslopping and flat have a higher rate of getting a heart attck compared to those whose exercise rate is upslopping.*"
      ]
    },
    {
      "cell_type": "markdown",
      "metadata": {
        "id": "kETd6Btsjh9R",
        "colab_type": "text"
      },
      "source": [
        "ii)Bivariate analysis"
      ]
    },
    {
      "cell_type": "code",
      "metadata": {
        "id": "QK73UqLcyTWa",
        "colab_type": "code",
        "colab": {
          "base_uri": "https://localhost:8080/",
          "height": 503
        },
        "outputId": "63a48cae-c897-495f-ed77-18a90dcf3d4f"
      },
      "source": [
        "#Checking relationships using correlation Matrix\n",
        "\n",
        "CorrMatrix=heart_df.corr()\n",
        "CorrMatrix   "
      ],
      "execution_count": null,
      "outputs": [
        {
          "output_type": "execute_result",
          "data": {
            "text/html": [
              "<div>\n",
              "<style scoped>\n",
              "    .dataframe tbody tr th:only-of-type {\n",
              "        vertical-align: middle;\n",
              "    }\n",
              "\n",
              "    .dataframe tbody tr th {\n",
              "        vertical-align: top;\n",
              "    }\n",
              "\n",
              "    .dataframe thead th {\n",
              "        text-align: right;\n",
              "    }\n",
              "</style>\n",
              "<table border=\"1\" class=\"dataframe\">\n",
              "  <thead>\n",
              "    <tr style=\"text-align: right;\">\n",
              "      <th></th>\n",
              "      <th>age</th>\n",
              "      <th>gender</th>\n",
              "      <th>chest_pain</th>\n",
              "      <th>blood_pressure</th>\n",
              "      <th>cholestral</th>\n",
              "      <th>blood_sugar</th>\n",
              "      <th>electrocardiographic_results</th>\n",
              "      <th>maximum_heart_rate</th>\n",
              "      <th>exercise_induced_angina</th>\n",
              "      <th>oldpeak</th>\n",
              "      <th>slope</th>\n",
              "      <th>vessels</th>\n",
              "      <th>defect</th>\n",
              "      <th>target</th>\n",
              "    </tr>\n",
              "  </thead>\n",
              "  <tbody>\n",
              "    <tr>\n",
              "      <th>age</th>\n",
              "      <td>1.000000</td>\n",
              "      <td>-0.098447</td>\n",
              "      <td>-0.068653</td>\n",
              "      <td>0.279351</td>\n",
              "      <td>0.213678</td>\n",
              "      <td>0.121308</td>\n",
              "      <td>-0.116211</td>\n",
              "      <td>-0.398522</td>\n",
              "      <td>0.096801</td>\n",
              "      <td>0.210013</td>\n",
              "      <td>-0.168814</td>\n",
              "      <td>0.276326</td>\n",
              "      <td>0.068001</td>\n",
              "      <td>-0.225439</td>\n",
              "    </tr>\n",
              "    <tr>\n",
              "      <th>gender</th>\n",
              "      <td>-0.098447</td>\n",
              "      <td>1.000000</td>\n",
              "      <td>-0.049353</td>\n",
              "      <td>-0.056769</td>\n",
              "      <td>-0.197912</td>\n",
              "      <td>0.045032</td>\n",
              "      <td>-0.058196</td>\n",
              "      <td>-0.044020</td>\n",
              "      <td>0.141664</td>\n",
              "      <td>0.096093</td>\n",
              "      <td>-0.030711</td>\n",
              "      <td>0.118261</td>\n",
              "      <td>0.210041</td>\n",
              "      <td>-0.280937</td>\n",
              "    </tr>\n",
              "    <tr>\n",
              "      <th>chest_pain</th>\n",
              "      <td>-0.068653</td>\n",
              "      <td>-0.049353</td>\n",
              "      <td>1.000000</td>\n",
              "      <td>0.047608</td>\n",
              "      <td>-0.076904</td>\n",
              "      <td>0.094444</td>\n",
              "      <td>0.044421</td>\n",
              "      <td>0.295762</td>\n",
              "      <td>-0.394280</td>\n",
              "      <td>-0.149230</td>\n",
              "      <td>0.119717</td>\n",
              "      <td>-0.181053</td>\n",
              "      <td>-0.161736</td>\n",
              "      <td>0.433798</td>\n",
              "    </tr>\n",
              "    <tr>\n",
              "      <th>blood_pressure</th>\n",
              "      <td>0.279351</td>\n",
              "      <td>-0.056769</td>\n",
              "      <td>0.047608</td>\n",
              "      <td>1.000000</td>\n",
              "      <td>0.123174</td>\n",
              "      <td>0.177531</td>\n",
              "      <td>-0.114103</td>\n",
              "      <td>-0.046698</td>\n",
              "      <td>0.067616</td>\n",
              "      <td>0.193216</td>\n",
              "      <td>-0.121475</td>\n",
              "      <td>0.101389</td>\n",
              "      <td>0.062210</td>\n",
              "      <td>-0.144931</td>\n",
              "    </tr>\n",
              "    <tr>\n",
              "      <th>cholestral</th>\n",
              "      <td>0.213678</td>\n",
              "      <td>-0.197912</td>\n",
              "      <td>-0.076904</td>\n",
              "      <td>0.123174</td>\n",
              "      <td>1.000000</td>\n",
              "      <td>0.013294</td>\n",
              "      <td>-0.151040</td>\n",
              "      <td>-0.009940</td>\n",
              "      <td>0.067023</td>\n",
              "      <td>0.053952</td>\n",
              "      <td>-0.004038</td>\n",
              "      <td>0.070511</td>\n",
              "      <td>0.098803</td>\n",
              "      <td>-0.085239</td>\n",
              "    </tr>\n",
              "    <tr>\n",
              "      <th>blood_sugar</th>\n",
              "      <td>0.121308</td>\n",
              "      <td>0.045032</td>\n",
              "      <td>0.094444</td>\n",
              "      <td>0.177531</td>\n",
              "      <td>0.013294</td>\n",
              "      <td>1.000000</td>\n",
              "      <td>-0.084189</td>\n",
              "      <td>-0.008567</td>\n",
              "      <td>0.025665</td>\n",
              "      <td>0.005747</td>\n",
              "      <td>-0.059894</td>\n",
              "      <td>0.137979</td>\n",
              "      <td>-0.032019</td>\n",
              "      <td>-0.028046</td>\n",
              "    </tr>\n",
              "    <tr>\n",
              "      <th>electrocardiographic_results</th>\n",
              "      <td>-0.116211</td>\n",
              "      <td>-0.058196</td>\n",
              "      <td>0.044421</td>\n",
              "      <td>-0.114103</td>\n",
              "      <td>-0.151040</td>\n",
              "      <td>-0.084189</td>\n",
              "      <td>1.000000</td>\n",
              "      <td>0.044123</td>\n",
              "      <td>-0.070733</td>\n",
              "      <td>-0.058770</td>\n",
              "      <td>0.093045</td>\n",
              "      <td>-0.072042</td>\n",
              "      <td>-0.011981</td>\n",
              "      <td>0.137230</td>\n",
              "    </tr>\n",
              "    <tr>\n",
              "      <th>maximum_heart_rate</th>\n",
              "      <td>-0.398522</td>\n",
              "      <td>-0.044020</td>\n",
              "      <td>0.295762</td>\n",
              "      <td>-0.046698</td>\n",
              "      <td>-0.009940</td>\n",
              "      <td>-0.008567</td>\n",
              "      <td>0.044123</td>\n",
              "      <td>1.000000</td>\n",
              "      <td>-0.378812</td>\n",
              "      <td>-0.344187</td>\n",
              "      <td>0.386784</td>\n",
              "      <td>-0.213177</td>\n",
              "      <td>-0.096439</td>\n",
              "      <td>0.421741</td>\n",
              "    </tr>\n",
              "    <tr>\n",
              "      <th>exercise_induced_angina</th>\n",
              "      <td>0.096801</td>\n",
              "      <td>0.141664</td>\n",
              "      <td>-0.394280</td>\n",
              "      <td>0.067616</td>\n",
              "      <td>0.067023</td>\n",
              "      <td>0.025665</td>\n",
              "      <td>-0.070733</td>\n",
              "      <td>-0.378812</td>\n",
              "      <td>1.000000</td>\n",
              "      <td>0.288223</td>\n",
              "      <td>-0.257748</td>\n",
              "      <td>0.115739</td>\n",
              "      <td>0.206754</td>\n",
              "      <td>-0.436757</td>\n",
              "    </tr>\n",
              "    <tr>\n",
              "      <th>oldpeak</th>\n",
              "      <td>0.210013</td>\n",
              "      <td>0.096093</td>\n",
              "      <td>-0.149230</td>\n",
              "      <td>0.193216</td>\n",
              "      <td>0.053952</td>\n",
              "      <td>0.005747</td>\n",
              "      <td>-0.058770</td>\n",
              "      <td>-0.344187</td>\n",
              "      <td>0.288223</td>\n",
              "      <td>1.000000</td>\n",
              "      <td>-0.577537</td>\n",
              "      <td>0.222682</td>\n",
              "      <td>0.210244</td>\n",
              "      <td>-0.430696</td>\n",
              "    </tr>\n",
              "    <tr>\n",
              "      <th>slope</th>\n",
              "      <td>-0.168814</td>\n",
              "      <td>-0.030711</td>\n",
              "      <td>0.119717</td>\n",
              "      <td>-0.121475</td>\n",
              "      <td>-0.004038</td>\n",
              "      <td>-0.059894</td>\n",
              "      <td>0.093045</td>\n",
              "      <td>0.386784</td>\n",
              "      <td>-0.257748</td>\n",
              "      <td>-0.577537</td>\n",
              "      <td>1.000000</td>\n",
              "      <td>-0.080155</td>\n",
              "      <td>-0.104764</td>\n",
              "      <td>0.345877</td>\n",
              "    </tr>\n",
              "    <tr>\n",
              "      <th>vessels</th>\n",
              "      <td>0.276326</td>\n",
              "      <td>0.118261</td>\n",
              "      <td>-0.181053</td>\n",
              "      <td>0.101389</td>\n",
              "      <td>0.070511</td>\n",
              "      <td>0.137979</td>\n",
              "      <td>-0.072042</td>\n",
              "      <td>-0.213177</td>\n",
              "      <td>0.115739</td>\n",
              "      <td>0.222682</td>\n",
              "      <td>-0.080155</td>\n",
              "      <td>1.000000</td>\n",
              "      <td>0.151832</td>\n",
              "      <td>-0.391724</td>\n",
              "    </tr>\n",
              "    <tr>\n",
              "      <th>defect</th>\n",
              "      <td>0.068001</td>\n",
              "      <td>0.210041</td>\n",
              "      <td>-0.161736</td>\n",
              "      <td>0.062210</td>\n",
              "      <td>0.098803</td>\n",
              "      <td>-0.032019</td>\n",
              "      <td>-0.011981</td>\n",
              "      <td>-0.096439</td>\n",
              "      <td>0.206754</td>\n",
              "      <td>0.210244</td>\n",
              "      <td>-0.104764</td>\n",
              "      <td>0.151832</td>\n",
              "      <td>1.000000</td>\n",
              "      <td>-0.344029</td>\n",
              "    </tr>\n",
              "    <tr>\n",
              "      <th>target</th>\n",
              "      <td>-0.225439</td>\n",
              "      <td>-0.280937</td>\n",
              "      <td>0.433798</td>\n",
              "      <td>-0.144931</td>\n",
              "      <td>-0.085239</td>\n",
              "      <td>-0.028046</td>\n",
              "      <td>0.137230</td>\n",
              "      <td>0.421741</td>\n",
              "      <td>-0.436757</td>\n",
              "      <td>-0.430696</td>\n",
              "      <td>0.345877</td>\n",
              "      <td>-0.391724</td>\n",
              "      <td>-0.344029</td>\n",
              "      <td>1.000000</td>\n",
              "    </tr>\n",
              "  </tbody>\n",
              "</table>\n",
              "</div>"
            ],
            "text/plain": [
              "                                   age    gender  ...    defect    target\n",
              "age                           1.000000 -0.098447  ...  0.068001 -0.225439\n",
              "gender                       -0.098447  1.000000  ...  0.210041 -0.280937\n",
              "chest_pain                   -0.068653 -0.049353  ... -0.161736  0.433798\n",
              "blood_pressure                0.279351 -0.056769  ...  0.062210 -0.144931\n",
              "cholestral                    0.213678 -0.197912  ...  0.098803 -0.085239\n",
              "blood_sugar                   0.121308  0.045032  ... -0.032019 -0.028046\n",
              "electrocardiographic_results -0.116211 -0.058196  ... -0.011981  0.137230\n",
              "maximum_heart_rate           -0.398522 -0.044020  ... -0.096439  0.421741\n",
              "exercise_induced_angina       0.096801  0.141664  ...  0.206754 -0.436757\n",
              "oldpeak                       0.210013  0.096093  ...  0.210244 -0.430696\n",
              "slope                        -0.168814 -0.030711  ... -0.104764  0.345877\n",
              "vessels                       0.276326  0.118261  ...  0.151832 -0.391724\n",
              "defect                        0.068001  0.210041  ...  1.000000 -0.344029\n",
              "target                       -0.225439 -0.280937  ... -0.344029  1.000000\n",
              "\n",
              "[14 rows x 14 columns]"
            ]
          },
          "metadata": {
            "tags": []
          },
          "execution_count": 29
        }
      ]
    },
    {
      "cell_type": "code",
      "metadata": {
        "id": "z6Gl3vc4jHvS",
        "colab_type": "code",
        "colab": {
          "base_uri": "https://localhost:8080/",
          "height": 853
        },
        "outputId": "0094edfe-2039-4f7a-b76d-bfa090aadf43"
      },
      "source": [
        "# Plotting visualisation of the matrix for better clarity \n",
        "\n",
        "plt.figure(figsize=(12, 12))  \n",
        "\n",
        "# Creating our visualisation  \n",
        "# \n",
        "sns.heatmap(CorrMatrix, annot = True) "
      ],
      "execution_count": null,
      "outputs": [
        {
          "output_type": "execute_result",
          "data": {
            "text/plain": [
              "<matplotlib.axes._subplots.AxesSubplot at 0x7f15eb44e128>"
            ]
          },
          "metadata": {
            "tags": []
          },
          "execution_count": 30
        },
        {
          "output_type": "display_data",
          "data": {
            "image/png": "[encoded data removed]",
            "text/plain": [
              "<Figure size 864x864 with 2 Axes>"
            ]
          },
          "metadata": {
            "tags": [],
            "needs_background": "light"
          }
        }
      ]
    },
    {
      "cell_type": "markdown",
      "metadata": {
        "id": "Cd1gd0CObyzZ",
        "colab_type": "text"
      },
      "source": [
        "*From the above correlations, we can observe that maximum heart rate, defect and oldpeak have a high correlation to target*"
      ]
    },
    {
      "cell_type": "code",
      "metadata": {
        "id": "vGd6SLMvpjwW",
        "colab_type": "code",
        "colab": {
          "base_uri": "https://localhost:8080/",
          "height": 957
        },
        "outputId": "0978df79-56f6-436b-fbc8-74c019e0bdb3"
      },
      "source": [
        "#Plotting pair plots\n",
        "\n",
        "df = pd.DataFrame(heart_df, columns= ['age','gender','cholestral','maximum_heart_rate','defect','target'])\n",
        "\n",
        "sns.pairplot(df) \n",
        "plt.show()\n",
        "\n",
        "# It is difficult tell the the relationships among the varibles using pair plots, one of the key reason is that the data is encoded"
      ],
      "execution_count": null,
      "outputs": [
        {
          "output_type": "display_data",
          "data": {
            "image/png": "[encoded data removed]",
            "text/plain": [
              "<Figure size 1080x1080 with 42 Axes>"
            ]
          },
          "metadata": {
            "tags": [],
            "needs_background": "light"
          }
        }
      ]
    },
    {
      "cell_type": "code",
      "metadata": {
        "id": "KZwLUxAwpj2C",
        "colab_type": "code",
        "colab": {
          "base_uri": "https://localhost:8080/",
          "height": 296
        },
        "outputId": "a925ea4c-16ce-4ad9-fea8-16fb68085c98"
      },
      "source": [
        "# Plotting staked plots\n",
        "sns.barplot(x= 'gender', y = 'cholestral', data = heart_df, hue='target')"
      ],
      "execution_count": null,
      "outputs": [
        {
          "output_type": "execute_result",
          "data": {
            "text/plain": [
              "<matplotlib.axes._subplots.AxesSubplot at 0x7f15e82b4e48>"
            ]
          },
          "metadata": {
            "tags": []
          },
          "execution_count": 32
        },
        {
          "output_type": "display_data",
          "data": {
            "image/png": "[encoded data removed]",
            "text/plain": [
              "<Figure size 432x288 with 1 Axes>"
            ]
          },
          "metadata": {
            "tags": [],
            "needs_background": "light"
          }
        }
      ]
    },
    {
      "cell_type": "code",
      "metadata": {
        "id": "2b5IY9WRjpjl",
        "colab_type": "code",
        "colab": {
          "base_uri": "https://localhost:8080/",
          "height": 296
        },
        "outputId": "2e141d19-2fb1-4370-dec6-902092af4644"
      },
      "source": [
        "# Plotting staked plots\n",
        "sns.barplot(x= 'gender', y = 'chest_pain', data = heart_df, hue='target')"
      ],
      "execution_count": null,
      "outputs": [
        {
          "output_type": "execute_result",
          "data": {
            "text/plain": [
              "<matplotlib.axes._subplots.AxesSubplot at 0x7f23cacc14a8>"
            ]
          },
          "metadata": {
            "tags": []
          },
          "execution_count": 6
        },
        {
          "output_type": "display_data",
          "data": {
            "image/png": "[encoded data removed]",
            "text/plain": [
              "<Figure size 432x288 with 1 Axes>"
            ]
          },
          "metadata": {
            "tags": [],
            "needs_background": "light"
          }
        }
      ]
    },
    {
      "cell_type": "code",
      "metadata": {
        "id": "mvLSzW8Xjqn8",
        "colab_type": "code",
        "colab": {
          "base_uri": "https://localhost:8080/",
          "height": 296
        },
        "outputId": "c7e97cbd-24c2-40a4-e2fa-1f31335c3cb5"
      },
      "source": [
        "# Plotting staked plots\n",
        "sns.barplot(x= 'gender', y = 'slope', data = heart_df, hue='target')"
      ],
      "execution_count": null,
      "outputs": [
        {
          "output_type": "execute_result",
          "data": {
            "text/plain": [
              "<matplotlib.axes._subplots.AxesSubplot at 0x7f23cabbca58>"
            ]
          },
          "metadata": {
            "tags": []
          },
          "execution_count": 7
        },
        {
          "output_type": "display_data",
          "data": {
            "image/png": "[encoded data removed]",
            "text/plain": [
              "<Figure size 432x288 with 1 Axes>"
            ]
          },
          "metadata": {
            "tags": [],
            "needs_background": "light"
          }
        }
      ]
    },
    {
      "cell_type": "code",
      "metadata": {
        "id": "Vu6mnC3BkpQR",
        "colab_type": "code",
        "colab": {
          "base_uri": "https://localhost:8080/",
          "height": 296
        },
        "outputId": "ab589135-5153-4211-c02d-a6ce567647ee"
      },
      "source": [
        "# Plotting staked plots\n",
        "sns.barplot(x= 'gender', y = 'electrocardiographic_results', data = heart_df, hue='target')"
      ],
      "execution_count": null,
      "outputs": [
        {
          "output_type": "execute_result",
          "data": {
            "text/plain": [
              "<matplotlib.axes._subplots.AxesSubplot at 0x7f23ca6f6320>"
            ]
          },
          "metadata": {
            "tags": []
          },
          "execution_count": 8
        },
        {
          "output_type": "display_data",
          "data": {
            "image/png": "[encoded data removed]",
            "text/plain": [
              "<Figure size 432x288 with 1 Axes>"
            ]
          },
          "metadata": {
            "tags": [],
            "needs_background": "light"
          }
        }
      ]
    },
    {
      "cell_type": "markdown",
      "metadata": {
        "id": "inRP0SVTcGbk",
        "colab_type": "text"
      },
      "source": [
        "*Female individuals have higher levels of cholestral than \n",
        "male hence predisposing them to heart attack"
      ]
    },
    {
      "cell_type": "code",
      "metadata": {
        "id": "dLvxSQwDpj72",
        "colab_type": "code",
        "colab": {
          "base_uri": "https://localhost:8080/",
          "height": 296
        },
        "outputId": "2c457238-8ae1-41f7-83ae-6c94a0cda657"
      },
      "source": [
        "# Plotting staked plots\n",
        "sns.barplot(x= 'gender', y = 'defect', data = heart_df, hue='target')"
      ],
      "execution_count": null,
      "outputs": [
        {
          "output_type": "execute_result",
          "data": {
            "text/plain": [
              "<matplotlib.axes._subplots.AxesSubplot at 0x7f15e822de10>"
            ]
          },
          "metadata": {
            "tags": []
          },
          "execution_count": 33
        },
        {
          "output_type": "display_data",
          "data": {
            "image/png": "[encoded data removed]",
            "text/plain": [
              "<Figure size 432x288 with 1 Axes>"
            ]
          },
          "metadata": {
            "tags": [],
            "needs_background": "light"
          }
        }
      ]
    },
    {
      "cell_type": "markdown",
      "metadata": {
        "id": "LYNTYbY3gBTo",
        "colab_type": "text"
      },
      "source": [
        "*Male have less chances of heart attack than female* "
      ]
    },
    {
      "cell_type": "code",
      "metadata": {
        "id": "qcyrtsv5kGdy",
        "colab_type": "code",
        "colab": {
          "base_uri": "https://localhost:8080/",
          "height": 325
        },
        "outputId": "60ca3128-058a-4d6a-8012-5209b8fff757"
      },
      "source": [
        "sns.catplot(kind = 'count', data = heart_df, x = 'age', hue = 'target', \n",
        "            order = heart_df['age'].sort_values().unique(),\n",
        "            height=6,aspect=3)\n",
        "\n",
        "plt.title('Variation of Age for each target class')\n",
        "plt.show()"
      ],
      "execution_count": null,
      "outputs": [
        {
          "output_type": "display_data",
          "data": {
            "image/png": "[encoded data removed]",
            "text/plain": [
              "<Figure size 1338.38x432 with 1 Axes>"
            ]
          },
          "metadata": {
            "tags": [],
            "needs_background": "light"
          }
        }
      ]
    },
    {
      "cell_type": "markdown",
      "metadata": {
        "id": "MRqEa3cngMpb",
        "colab_type": "text"
      },
      "source": [
        "*from the above graph, we can observe that higher risk are experiences between the age of 41 and 54*\n",
        "\n",
        "*this is because males are at a higher risk at a younger age 40years and abovle while female from age 55*"
      ]
    },
    {
      "cell_type": "code",
      "metadata": {
        "id": "35Zth0fUmljO",
        "colab_type": "code",
        "colab": {
          "base_uri": "https://localhost:8080/",
          "height": 385
        },
        "outputId": "ec0309e1-f022-43a8-ca10-44c542d83ded"
      },
      "source": [
        "#age and gender\n",
        "sns.catplot(kind = 'bar', data = heart_df, y = 'age', x = 'gender', hue = 'target')\n",
        "plt.title('Distribution of age vs gender with the target class')\n",
        "plt.show()"
      ],
      "execution_count": null,
      "outputs": [
        {
          "output_type": "display_data",
          "data": {
            "image/png": "[encoded data removed]",
            "text/plain": [
              "<Figure size 402.375x360 with 1 Axes>"
            ]
          },
          "metadata": {
            "tags": [],
            "needs_background": "light"
          }
        }
      ]
    },
    {
      "cell_type": "markdown",
      "metadata": {
        "id": "5VbyW3y-gQo7",
        "colab_type": "text"
      },
      "source": [
        "*females suffering from heart disease are older than the males* "
      ]
    },
    {
      "cell_type": "code",
      "metadata": {
        "id": "elxUD0PbHK4O",
        "colab_type": "code",
        "colab": {
          "base_uri": "https://localhost:8080/",
          "height": 386
        },
        "outputId": "56e23c9b-76e9-4477-c32e-ae695c3b2f40"
      },
      "source": [
        "#Plotting scatter plot \n",
        "\n",
        "sns.relplot(x = 'age', y='maximum_heart_rate', hue='target', data=heart_df)"
      ],
      "execution_count": null,
      "outputs": [
        {
          "output_type": "execute_result",
          "data": {
            "text/plain": [
              "<seaborn.axisgrid.FacetGrid at 0x7f15eb488048>"
            ]
          },
          "metadata": {
            "tags": []
          },
          "execution_count": 36
        },
        {
          "output_type": "display_data",
          "data": {
            "image/png": "[encoded data removed]",
            "text/plain": [
              "<Figure size 426.375x360 with 1 Axes>"
            ]
          },
          "metadata": {
            "tags": [],
            "needs_background": "light"
          }
        }
      ]
    },
    {
      "cell_type": "markdown",
      "metadata": {
        "id": "FbMMLJ1_gVWC",
        "colab_type": "text"
      },
      "source": [
        "*Individuals with high maximum heart rate have a high chance of heart attack*"
      ]
    },
    {
      "cell_type": "markdown",
      "metadata": {
        "id": "HCksbMw8JWlk",
        "colab_type": "text"
      },
      "source": [
        "iii)Multivariate analysis"
      ]
    },
    {
      "cell_type": "code",
      "metadata": {
        "id": "sgjxjXr6HLAR",
        "colab_type": "code",
        "colab": {
          "base_uri": "https://localhost:8080/",
          "height": 439
        },
        "outputId": "c95c6894-8296-42be-95d3-25cdcd47f5a2"
      },
      "source": [
        "# Separating our target label (chances of heart attack) from the other features\n",
        "factors = heart_df.drop(['target'], 1)\n",
        "heart_chances_label = heart_df['target']\n",
        "\n",
        "factors"
      ],
      "execution_count": null,
      "outputs": [
        {
          "output_type": "execute_result",
          "data": {
            "text/html": [
              "<div>\n",
              "<style scoped>\n",
              "    .dataframe tbody tr th:only-of-type {\n",
              "        vertical-align: middle;\n",
              "    }\n",
              "\n",
              "    .dataframe tbody tr th {\n",
              "        vertical-align: top;\n",
              "    }\n",
              "\n",
              "    .dataframe thead th {\n",
              "        text-align: right;\n",
              "    }\n",
              "</style>\n",
              "<table border=\"1\" class=\"dataframe\">\n",
              "  <thead>\n",
              "    <tr style=\"text-align: right;\">\n",
              "      <th></th>\n",
              "      <th>age</th>\n",
              "      <th>gender</th>\n",
              "      <th>chest_pain</th>\n",
              "      <th>blood_pressure</th>\n",
              "      <th>cholestral</th>\n",
              "      <th>blood_sugar</th>\n",
              "      <th>electrocardiographic_results</th>\n",
              "      <th>maximum_heart_rate</th>\n",
              "      <th>exercise_induced_angina</th>\n",
              "      <th>oldpeak</th>\n",
              "      <th>slope</th>\n",
              "      <th>vessels</th>\n",
              "      <th>defect</th>\n",
              "    </tr>\n",
              "  </thead>\n",
              "  <tbody>\n",
              "    <tr>\n",
              "      <th>0</th>\n",
              "      <td>63</td>\n",
              "      <td>1</td>\n",
              "      <td>3</td>\n",
              "      <td>145</td>\n",
              "      <td>233</td>\n",
              "      <td>1</td>\n",
              "      <td>0</td>\n",
              "      <td>150</td>\n",
              "      <td>0</td>\n",
              "      <td>2.3</td>\n",
              "      <td>0</td>\n",
              "      <td>0</td>\n",
              "      <td>1</td>\n",
              "    </tr>\n",
              "    <tr>\n",
              "      <th>1</th>\n",
              "      <td>37</td>\n",
              "      <td>1</td>\n",
              "      <td>2</td>\n",
              "      <td>130</td>\n",
              "      <td>250</td>\n",
              "      <td>0</td>\n",
              "      <td>1</td>\n",
              "      <td>187</td>\n",
              "      <td>0</td>\n",
              "      <td>3.5</td>\n",
              "      <td>0</td>\n",
              "      <td>0</td>\n",
              "      <td>2</td>\n",
              "    </tr>\n",
              "    <tr>\n",
              "      <th>2</th>\n",
              "      <td>41</td>\n",
              "      <td>0</td>\n",
              "      <td>1</td>\n",
              "      <td>130</td>\n",
              "      <td>204</td>\n",
              "      <td>0</td>\n",
              "      <td>0</td>\n",
              "      <td>172</td>\n",
              "      <td>0</td>\n",
              "      <td>1.4</td>\n",
              "      <td>2</td>\n",
              "      <td>0</td>\n",
              "      <td>2</td>\n",
              "    </tr>\n",
              "    <tr>\n",
              "      <th>3</th>\n",
              "      <td>56</td>\n",
              "      <td>1</td>\n",
              "      <td>1</td>\n",
              "      <td>120</td>\n",
              "      <td>236</td>\n",
              "      <td>0</td>\n",
              "      <td>1</td>\n",
              "      <td>178</td>\n",
              "      <td>0</td>\n",
              "      <td>0.8</td>\n",
              "      <td>2</td>\n",
              "      <td>0</td>\n",
              "      <td>2</td>\n",
              "    </tr>\n",
              "    <tr>\n",
              "      <th>4</th>\n",
              "      <td>57</td>\n",
              "      <td>0</td>\n",
              "      <td>0</td>\n",
              "      <td>120</td>\n",
              "      <td>354</td>\n",
              "      <td>0</td>\n",
              "      <td>1</td>\n",
              "      <td>163</td>\n",
              "      <td>1</td>\n",
              "      <td>0.6</td>\n",
              "      <td>2</td>\n",
              "      <td>0</td>\n",
              "      <td>2</td>\n",
              "    </tr>\n",
              "    <tr>\n",
              "      <th>...</th>\n",
              "      <td>...</td>\n",
              "      <td>...</td>\n",
              "      <td>...</td>\n",
              "      <td>...</td>\n",
              "      <td>...</td>\n",
              "      <td>...</td>\n",
              "      <td>...</td>\n",
              "      <td>...</td>\n",
              "      <td>...</td>\n",
              "      <td>...</td>\n",
              "      <td>...</td>\n",
              "      <td>...</td>\n",
              "      <td>...</td>\n",
              "    </tr>\n",
              "    <tr>\n",
              "      <th>298</th>\n",
              "      <td>57</td>\n",
              "      <td>0</td>\n",
              "      <td>0</td>\n",
              "      <td>140</td>\n",
              "      <td>241</td>\n",
              "      <td>0</td>\n",
              "      <td>1</td>\n",
              "      <td>123</td>\n",
              "      <td>1</td>\n",
              "      <td>0.2</td>\n",
              "      <td>1</td>\n",
              "      <td>0</td>\n",
              "      <td>3</td>\n",
              "    </tr>\n",
              "    <tr>\n",
              "      <th>299</th>\n",
              "      <td>45</td>\n",
              "      <td>1</td>\n",
              "      <td>3</td>\n",
              "      <td>110</td>\n",
              "      <td>264</td>\n",
              "      <td>0</td>\n",
              "      <td>1</td>\n",
              "      <td>132</td>\n",
              "      <td>0</td>\n",
              "      <td>1.2</td>\n",
              "      <td>1</td>\n",
              "      <td>0</td>\n",
              "      <td>3</td>\n",
              "    </tr>\n",
              "    <tr>\n",
              "      <th>300</th>\n",
              "      <td>68</td>\n",
              "      <td>1</td>\n",
              "      <td>0</td>\n",
              "      <td>144</td>\n",
              "      <td>193</td>\n",
              "      <td>1</td>\n",
              "      <td>1</td>\n",
              "      <td>141</td>\n",
              "      <td>0</td>\n",
              "      <td>3.4</td>\n",
              "      <td>1</td>\n",
              "      <td>2</td>\n",
              "      <td>3</td>\n",
              "    </tr>\n",
              "    <tr>\n",
              "      <th>301</th>\n",
              "      <td>57</td>\n",
              "      <td>1</td>\n",
              "      <td>0</td>\n",
              "      <td>130</td>\n",
              "      <td>131</td>\n",
              "      <td>0</td>\n",
              "      <td>1</td>\n",
              "      <td>115</td>\n",
              "      <td>1</td>\n",
              "      <td>1.2</td>\n",
              "      <td>1</td>\n",
              "      <td>1</td>\n",
              "      <td>3</td>\n",
              "    </tr>\n",
              "    <tr>\n",
              "      <th>302</th>\n",
              "      <td>57</td>\n",
              "      <td>0</td>\n",
              "      <td>1</td>\n",
              "      <td>130</td>\n",
              "      <td>236</td>\n",
              "      <td>0</td>\n",
              "      <td>0</td>\n",
              "      <td>174</td>\n",
              "      <td>0</td>\n",
              "      <td>0.0</td>\n",
              "      <td>1</td>\n",
              "      <td>1</td>\n",
              "      <td>2</td>\n",
              "    </tr>\n",
              "  </tbody>\n",
              "</table>\n",
              "<p>303 rows × 13 columns</p>\n",
              "</div>"
            ],
            "text/plain": [
              "     age  gender  chest_pain  blood_pressure  ...  oldpeak  slope  vessels  defect\n",
              "0     63       1           3             145  ...      2.3      0        0       1\n",
              "1     37       1           2             130  ...      3.5      0        0       2\n",
              "2     41       0           1             130  ...      1.4      2        0       2\n",
              "3     56       1           1             120  ...      0.8      2        0       2\n",
              "4     57       0           0             120  ...      0.6      2        0       2\n",
              "..   ...     ...         ...             ...  ...      ...    ...      ...     ...\n",
              "298   57       0           0             140  ...      0.2      1        0       3\n",
              "299   45       1           3             110  ...      1.2      1        0       3\n",
              "300   68       1           0             144  ...      3.4      1        2       3\n",
              "301   57       1           0             130  ...      1.2      1        1       3\n",
              "302   57       0           1             130  ...      0.0      1        1       2\n",
              "\n",
              "[303 rows x 13 columns]"
            ]
          },
          "metadata": {
            "tags": []
          },
          "execution_count": 37
        }
      ]
    },
    {
      "cell_type": "markdown",
      "metadata": {
        "id": "-4CTgf85ga9H",
        "colab_type": "text"
      },
      "source": [
        "*observing all the factors*"
      ]
    },
    {
      "cell_type": "code",
      "metadata": {
        "id": "ANnvns-NMBSj",
        "colab_type": "code",
        "colab": {
          "base_uri": "https://localhost:8080/",
          "height": 68
        },
        "outputId": "4a579928-f0bc-4fa4-d1e4-6d2253fb48d1"
      },
      "source": [
        "#Subject our features to LDA model\n",
        "\n",
        "# Import Linear Discriminant Analysis method from sklearn library\n",
        "from sklearn.discriminant_analysis import LinearDiscriminantAnalysis as LDA\n",
        "\n",
        "# Create an instance of LDA\n",
        "lda = LDA()\n",
        "\n",
        "lda_= lda.fit(factors, heart_chances_label)\n",
        "lda_factors = lda_.transform(factors)\n",
        "\n",
        "# Display the coeficients of the reducted columns\n",
        "lda_.coef_"
      ],
      "execution_count": null,
      "outputs": [
        {
          "output_type": "execute_result",
          "data": {
            "text/plain": [
              "array([[-0.00681126, -1.62719637,  0.9356873 , -0.01652941, -0.00293515,\n",
              "         0.14423959,  0.41384821,  0.02506711, -1.19589967, -0.48807609,\n",
              "         0.65569868, -0.83522031, -0.98828825]])"
            ]
          },
          "metadata": {
            "tags": []
          },
          "execution_count": 38
        }
      ]
    },
    {
      "cell_type": "markdown",
      "metadata": {
        "id": "8hU5FFZsgfgQ",
        "colab_type": "text"
      },
      "source": [
        "*The array displays the coefficients of the reducted columns*"
      ]
    },
    {
      "cell_type": "code",
      "metadata": {
        "id": "DQi3sGqLMBPQ",
        "colab_type": "code",
        "colab": {
          "base_uri": "https://localhost:8080/",
          "height": 452
        },
        "outputId": "66ccf760-e162-40f1-abb0-25cfb21d30f9"
      },
      "source": [
        "# Since the coefficients are in an array, we needto create a dataframe so that we can extract the name of the columns\n",
        "factors_heart_attack = pd.DataFrame(index=factors.columns.values, data=lda_.coef_[0].T)\n",
        "pd.options.display.float_format='{:.8f}'.format \n",
        "factors_heart_attack.sort_values(0, ascending=False) "
      ],
      "execution_count": null,
      "outputs": [
        {
          "output_type": "execute_result",
          "data": {
            "text/html": [
              "<div>\n",
              "<style scoped>\n",
              "    .dataframe tbody tr th:only-of-type {\n",
              "        vertical-align: middle;\n",
              "    }\n",
              "\n",
              "    .dataframe tbody tr th {\n",
              "        vertical-align: top;\n",
              "    }\n",
              "\n",
              "    .dataframe thead th {\n",
              "        text-align: right;\n",
              "    }\n",
              "</style>\n",
              "<table border=\"1\" class=\"dataframe\">\n",
              "  <thead>\n",
              "    <tr style=\"text-align: right;\">\n",
              "      <th></th>\n",
              "      <th>0</th>\n",
              "    </tr>\n",
              "  </thead>\n",
              "  <tbody>\n",
              "    <tr>\n",
              "      <th>chest_pain</th>\n",
              "      <td>0.93568730</td>\n",
              "    </tr>\n",
              "    <tr>\n",
              "      <th>slope</th>\n",
              "      <td>0.65569868</td>\n",
              "    </tr>\n",
              "    <tr>\n",
              "      <th>electrocardiographic_results</th>\n",
              "      <td>0.41384821</td>\n",
              "    </tr>\n",
              "    <tr>\n",
              "      <th>blood_sugar</th>\n",
              "      <td>0.14423959</td>\n",
              "    </tr>\n",
              "    <tr>\n",
              "      <th>maximum_heart_rate</th>\n",
              "      <td>0.02506711</td>\n",
              "    </tr>\n",
              "    <tr>\n",
              "      <th>cholestral</th>\n",
              "      <td>-0.00293515</td>\n",
              "    </tr>\n",
              "    <tr>\n",
              "      <th>age</th>\n",
              "      <td>-0.00681126</td>\n",
              "    </tr>\n",
              "    <tr>\n",
              "      <th>blood_pressure</th>\n",
              "      <td>-0.01652941</td>\n",
              "    </tr>\n",
              "    <tr>\n",
              "      <th>oldpeak</th>\n",
              "      <td>-0.48807609</td>\n",
              "    </tr>\n",
              "    <tr>\n",
              "      <th>vessels</th>\n",
              "      <td>-0.83522031</td>\n",
              "    </tr>\n",
              "    <tr>\n",
              "      <th>defect</th>\n",
              "      <td>-0.98828825</td>\n",
              "    </tr>\n",
              "    <tr>\n",
              "      <th>exercise_induced_angina</th>\n",
              "      <td>-1.19589967</td>\n",
              "    </tr>\n",
              "    <tr>\n",
              "      <th>gender</th>\n",
              "      <td>-1.62719637</td>\n",
              "    </tr>\n",
              "  </tbody>\n",
              "</table>\n",
              "</div>"
            ],
            "text/plain": [
              "                                       0\n",
              "chest_pain                    0.93568730\n",
              "slope                         0.65569868\n",
              "electrocardiographic_results  0.41384821\n",
              "blood_sugar                   0.14423959\n",
              "maximum_heart_rate            0.02506711\n",
              "cholestral                   -0.00293515\n",
              "age                          -0.00681126\n",
              "blood_pressure               -0.01652941\n",
              "oldpeak                      -0.48807609\n",
              "vessels                      -0.83522031\n",
              "defect                       -0.98828825\n",
              "exercise_induced_angina      -1.19589967\n",
              "gender                       -1.62719637"
            ]
          },
          "metadata": {
            "tags": []
          },
          "execution_count": 39
        }
      ]
    },
    {
      "cell_type": "markdown",
      "metadata": {
        "id": "NeIIQ6IAghBs",
        "colab_type": "text"
      },
      "source": [
        "*chest pain, slope and electrocardiographic results are the main factors that increases chances of one getting a heart attack*"
      ]
    },
    {
      "cell_type": "markdown",
      "metadata": {
        "id": "aOAk0kCjWtQv",
        "colab_type": "text"
      },
      "source": [
        "Conclusion\n",
        "\n",
        "*The slope,chest pain and electrocardiographic results are the top 3 factors that lead to high chances of heart attack.*\n"
      ]
    },
    {
      "cell_type": "markdown",
      "metadata": {
        "id": "xaLGHq8NvlBL",
        "colab_type": "text"
      },
      "source": [
        "Linear Discriminant Analysis"
      ]
    },
    {
      "cell_type": "code",
      "metadata": {
        "id": "CzbFqVr6piiY",
        "colab_type": "code",
        "colab": {}
      },
      "source": [
        "#We will divide our dataset into features and labels \n",
        "#X is our dependent variable (target) defining high or low chances of getting a heart attack\n",
        "#y is our independent factors that contribute to high chances of heart attack\n",
        "\n",
        "X = heart_df.iloc[:,0:12].values \n",
        "y = heart_df.iloc[:, 12].values "
      ],
      "execution_count": null,
      "outputs": []
    },
    {
      "cell_type": "code",
      "metadata": {
        "id": "NVROsiXwpizG",
        "colab_type": "code",
        "colab": {}
      },
      "source": [
        "# Then we will divide our data into training and test sets\n",
        "\n",
        "from sklearn.model_selection import train_test_split\n",
        "X_train, X_test, y_train, y_test = train_test_split(X, y, test_size=0.2, random_state=0)"
      ],
      "execution_count": null,
      "outputs": []
    },
    {
      "cell_type": "code",
      "metadata": {
        "id": "3BL5KXztqVRM",
        "colab_type": "code",
        "colab": {}
      },
      "source": [
        "# Perform Feature scaling\n",
        "\n",
        "from sklearn.preprocessing import StandardScaler\n",
        "sc = StandardScaler()\n",
        "X_train = sc.fit_transform(X_train)\n",
        "X_test = sc.transform(X_test)"
      ],
      "execution_count": null,
      "outputs": []
    },
    {
      "cell_type": "code",
      "metadata": {
        "id": "cZXk4A-lqVNc",
        "colab_type": "code",
        "colab": {}
      },
      "source": [
        "# We the peform LinearDiscriminantAnalysis (LDA) with Scikit-Learn\n",
        "\n",
        "\n",
        "from sklearn.discriminant_analysis import LinearDiscriminantAnalysis as LDA\n",
        "lda = LDA(n_components=1)\n",
        "X_train = lda.fit_transform(X_train, y_train)\n",
        "X_test = lda.transform(X_test) "
      ],
      "execution_count": null,
      "outputs": []
    },
    {
      "cell_type": "code",
      "metadata": {
        "id": "IPbzBxWvqVIr",
        "colab_type": "code",
        "colab": {}
      },
      "source": [
        "# Training and Making Predictions\n",
        "# \n",
        "\n",
        "from sklearn.ensemble import RandomForestClassifier\n",
        "\n",
        "classifier = RandomForestClassifier(max_depth=2, random_state=0)\n",
        "classifier.fit(X_train, y_train)\n",
        "y_pred = classifier.predict(X_test)"
      ],
      "execution_count": null,
      "outputs": []
    },
    {
      "cell_type": "code",
      "metadata": {
        "id": "HrP60KGnqVAD",
        "colab_type": "code",
        "colab": {
          "base_uri": "https://localhost:8080/",
          "height": 85
        },
        "outputId": "a6d76fef-f52d-44c5-8c44-1bda452ae522"
      },
      "source": [
        "# Evaluating the Performance\n",
        "# with the help of a confusion matrix and find the accuracy of the prediction.\n",
        "# \n",
        "\n",
        "from sklearn.metrics import confusion_matrix\n",
        "from sklearn.metrics import accuracy_score\n",
        "\n",
        "cm = confusion_matrix(y_test, y_pred)\n",
        "print(cm)\n",
        "print('Accuracy' + str(accuracy_score(y_test, y_pred)))"
      ],
      "execution_count": null,
      "outputs": [
        {
          "output_type": "stream",
          "text": [
            "[[ 0  1  1]\n",
            " [ 0 26  6]\n",
            " [ 0 11 16]]\n",
            "Accuracy0.6885245901639344\n"
          ],
          "name": "stdout"
        }
      ]
    },
    {
      "cell_type": "markdown",
      "metadata": {
        "id": "HpFqjSltXP9Q",
        "colab_type": "text"
      },
      "source": [
        "### 5)Hypothesis Testing\n",
        "\n",
        "Hypothesis 1\n",
        "\n",
        "Testing whether there is a difference between the mean age of female and male individuals with high chances of heart attack.\n",
        "\n",
        "Ho: female(age) = male(age)\n",
        "\n",
        "H1: female(age) != male(age)\n"
      ]
    },
    {
      "cell_type": "code",
      "metadata": {
        "id": "Xusv9JLLlTyD",
        "colab_type": "code",
        "colab": {
          "base_uri": "https://localhost:8080/",
          "height": 439
        },
        "outputId": "fd534776-960e-4087-f0b1-150ad469f27d"
      },
      "source": [
        "#Getting individuals with higher chances of heart attack\n",
        "\n",
        "df=heart_df[heart_df['target']==1]\n",
        "df"
      ],
      "execution_count": null,
      "outputs": [
        {
          "output_type": "execute_result",
          "data": {
            "text/html": [
              "<div>\n",
              "<style scoped>\n",
              "    .dataframe tbody tr th:only-of-type {\n",
              "        vertical-align: middle;\n",
              "    }\n",
              "\n",
              "    .dataframe tbody tr th {\n",
              "        vertical-align: top;\n",
              "    }\n",
              "\n",
              "    .dataframe thead th {\n",
              "        text-align: right;\n",
              "    }\n",
              "</style>\n",
              "<table border=\"1\" class=\"dataframe\">\n",
              "  <thead>\n",
              "    <tr style=\"text-align: right;\">\n",
              "      <th></th>\n",
              "      <th>age</th>\n",
              "      <th>gender</th>\n",
              "      <th>chest_pain</th>\n",
              "      <th>blood_pressure</th>\n",
              "      <th>cholestral</th>\n",
              "      <th>blood_sugar</th>\n",
              "      <th>electrocardiographic_results</th>\n",
              "      <th>maximum_heart_rate</th>\n",
              "      <th>exercise_induced_angina</th>\n",
              "      <th>oldpeak</th>\n",
              "      <th>slope</th>\n",
              "      <th>vessels</th>\n",
              "      <th>defect</th>\n",
              "      <th>target</th>\n",
              "    </tr>\n",
              "  </thead>\n",
              "  <tbody>\n",
              "    <tr>\n",
              "      <th>0</th>\n",
              "      <td>63</td>\n",
              "      <td>1</td>\n",
              "      <td>3</td>\n",
              "      <td>145</td>\n",
              "      <td>233</td>\n",
              "      <td>1</td>\n",
              "      <td>0</td>\n",
              "      <td>150</td>\n",
              "      <td>0</td>\n",
              "      <td>2.3</td>\n",
              "      <td>0</td>\n",
              "      <td>0</td>\n",
              "      <td>1</td>\n",
              "      <td>1</td>\n",
              "    </tr>\n",
              "    <tr>\n",
              "      <th>1</th>\n",
              "      <td>37</td>\n",
              "      <td>1</td>\n",
              "      <td>2</td>\n",
              "      <td>130</td>\n",
              "      <td>250</td>\n",
              "      <td>0</td>\n",
              "      <td>1</td>\n",
              "      <td>187</td>\n",
              "      <td>0</td>\n",
              "      <td>3.5</td>\n",
              "      <td>0</td>\n",
              "      <td>0</td>\n",
              "      <td>2</td>\n",
              "      <td>1</td>\n",
              "    </tr>\n",
              "    <tr>\n",
              "      <th>2</th>\n",
              "      <td>41</td>\n",
              "      <td>0</td>\n",
              "      <td>1</td>\n",
              "      <td>130</td>\n",
              "      <td>204</td>\n",
              "      <td>0</td>\n",
              "      <td>0</td>\n",
              "      <td>172</td>\n",
              "      <td>0</td>\n",
              "      <td>1.4</td>\n",
              "      <td>2</td>\n",
              "      <td>0</td>\n",
              "      <td>2</td>\n",
              "      <td>1</td>\n",
              "    </tr>\n",
              "    <tr>\n",
              "      <th>3</th>\n",
              "      <td>56</td>\n",
              "      <td>1</td>\n",
              "      <td>1</td>\n",
              "      <td>120</td>\n",
              "      <td>236</td>\n",
              "      <td>0</td>\n",
              "      <td>1</td>\n",
              "      <td>178</td>\n",
              "      <td>0</td>\n",
              "      <td>0.8</td>\n",
              "      <td>2</td>\n",
              "      <td>0</td>\n",
              "      <td>2</td>\n",
              "      <td>1</td>\n",
              "    </tr>\n",
              "    <tr>\n",
              "      <th>4</th>\n",
              "      <td>57</td>\n",
              "      <td>0</td>\n",
              "      <td>0</td>\n",
              "      <td>120</td>\n",
              "      <td>354</td>\n",
              "      <td>0</td>\n",
              "      <td>1</td>\n",
              "      <td>163</td>\n",
              "      <td>1</td>\n",
              "      <td>0.6</td>\n",
              "      <td>2</td>\n",
              "      <td>0</td>\n",
              "      <td>2</td>\n",
              "      <td>1</td>\n",
              "    </tr>\n",
              "    <tr>\n",
              "      <th>...</th>\n",
              "      <td>...</td>\n",
              "      <td>...</td>\n",
              "      <td>...</td>\n",
              "      <td>...</td>\n",
              "      <td>...</td>\n",
              "      <td>...</td>\n",
              "      <td>...</td>\n",
              "      <td>...</td>\n",
              "      <td>...</td>\n",
              "      <td>...</td>\n",
              "      <td>...</td>\n",
              "      <td>...</td>\n",
              "      <td>...</td>\n",
              "      <td>...</td>\n",
              "    </tr>\n",
              "    <tr>\n",
              "      <th>160</th>\n",
              "      <td>56</td>\n",
              "      <td>1</td>\n",
              "      <td>1</td>\n",
              "      <td>120</td>\n",
              "      <td>240</td>\n",
              "      <td>0</td>\n",
              "      <td>1</td>\n",
              "      <td>169</td>\n",
              "      <td>0</td>\n",
              "      <td>0.0</td>\n",
              "      <td>0</td>\n",
              "      <td>0</td>\n",
              "      <td>2</td>\n",
              "      <td>1</td>\n",
              "    </tr>\n",
              "    <tr>\n",
              "      <th>161</th>\n",
              "      <td>55</td>\n",
              "      <td>0</td>\n",
              "      <td>1</td>\n",
              "      <td>132</td>\n",
              "      <td>342</td>\n",
              "      <td>0</td>\n",
              "      <td>1</td>\n",
              "      <td>166</td>\n",
              "      <td>0</td>\n",
              "      <td>1.2</td>\n",
              "      <td>2</td>\n",
              "      <td>0</td>\n",
              "      <td>2</td>\n",
              "      <td>1</td>\n",
              "    </tr>\n",
              "    <tr>\n",
              "      <th>162</th>\n",
              "      <td>41</td>\n",
              "      <td>1</td>\n",
              "      <td>1</td>\n",
              "      <td>120</td>\n",
              "      <td>157</td>\n",
              "      <td>0</td>\n",
              "      <td>1</td>\n",
              "      <td>182</td>\n",
              "      <td>0</td>\n",
              "      <td>0.0</td>\n",
              "      <td>2</td>\n",
              "      <td>0</td>\n",
              "      <td>2</td>\n",
              "      <td>1</td>\n",
              "    </tr>\n",
              "    <tr>\n",
              "      <th>163</th>\n",
              "      <td>38</td>\n",
              "      <td>1</td>\n",
              "      <td>2</td>\n",
              "      <td>138</td>\n",
              "      <td>175</td>\n",
              "      <td>0</td>\n",
              "      <td>1</td>\n",
              "      <td>173</td>\n",
              "      <td>0</td>\n",
              "      <td>0.0</td>\n",
              "      <td>2</td>\n",
              "      <td>4</td>\n",
              "      <td>2</td>\n",
              "      <td>1</td>\n",
              "    </tr>\n",
              "    <tr>\n",
              "      <th>164</th>\n",
              "      <td>38</td>\n",
              "      <td>1</td>\n",
              "      <td>2</td>\n",
              "      <td>138</td>\n",
              "      <td>175</td>\n",
              "      <td>0</td>\n",
              "      <td>1</td>\n",
              "      <td>173</td>\n",
              "      <td>0</td>\n",
              "      <td>0.0</td>\n",
              "      <td>2</td>\n",
              "      <td>4</td>\n",
              "      <td>2</td>\n",
              "      <td>1</td>\n",
              "    </tr>\n",
              "  </tbody>\n",
              "</table>\n",
              "<p>165 rows × 14 columns</p>\n",
              "</div>"
            ],
            "text/plain": [
              "     age  gender  chest_pain  blood_pressure  ...  slope  vessels  defect  target\n",
              "0     63       1           3             145  ...      0        0       1       1\n",
              "1     37       1           2             130  ...      0        0       2       1\n",
              "2     41       0           1             130  ...      2        0       2       1\n",
              "3     56       1           1             120  ...      2        0       2       1\n",
              "4     57       0           0             120  ...      2        0       2       1\n",
              "..   ...     ...         ...             ...  ...    ...      ...     ...     ...\n",
              "160   56       1           1             120  ...      0        0       2       1\n",
              "161   55       0           1             132  ...      2        0       2       1\n",
              "162   41       1           1             120  ...      2        0       2       1\n",
              "163   38       1           2             138  ...      2        4       2       1\n",
              "164   38       1           2             138  ...      2        4       2       1\n",
              "\n",
              "[165 rows x 14 columns]"
            ]
          },
          "metadata": {
            "tags": []
          },
          "execution_count": 31
        }
      ]
    },
    {
      "cell_type": "markdown",
      "metadata": {
        "id": "mcwlLpMlg939",
        "colab_type": "text"
      },
      "source": [
        "*dataframe that contains only individals with higher chances of getting heart attack*"
      ]
    },
    {
      "cell_type": "code",
      "metadata": {
        "id": "dCGdu0N1ly-O",
        "colab_type": "code",
        "colab": {
          "base_uri": "https://localhost:8080/",
          "height": 142
        },
        "outputId": "0a5ea004-7c0d-48c6-8799-5623efdc856f"
      },
      "source": [
        "#population mean of male and female individuals who have high chances of heart attack\n",
        "df1=pd.pivot_table(df,index=['gender'],values='age',aggfunc='mean')\n",
        "df1"
      ],
      "execution_count": null,
      "outputs": [
        {
          "output_type": "execute_result",
          "data": {
            "text/html": [
              "<div>\n",
              "<style scoped>\n",
              "    .dataframe tbody tr th:only-of-type {\n",
              "        vertical-align: middle;\n",
              "    }\n",
              "\n",
              "    .dataframe tbody tr th {\n",
              "        vertical-align: top;\n",
              "    }\n",
              "\n",
              "    .dataframe thead th {\n",
              "        text-align: right;\n",
              "    }\n",
              "</style>\n",
              "<table border=\"1\" class=\"dataframe\">\n",
              "  <thead>\n",
              "    <tr style=\"text-align: right;\">\n",
              "      <th></th>\n",
              "      <th>age</th>\n",
              "    </tr>\n",
              "    <tr>\n",
              "      <th>gender</th>\n",
              "      <th></th>\n",
              "    </tr>\n",
              "  </thead>\n",
              "  <tbody>\n",
              "    <tr>\n",
              "      <th>0</th>\n",
              "      <td>54.555556</td>\n",
              "    </tr>\n",
              "    <tr>\n",
              "      <th>1</th>\n",
              "      <td>50.903226</td>\n",
              "    </tr>\n",
              "  </tbody>\n",
              "</table>\n",
              "</div>"
            ],
            "text/plain": [
              "              age\n",
              "gender           \n",
              "0       54.555556\n",
              "1       50.903226"
            ]
          },
          "metadata": {
            "tags": []
          },
          "execution_count": 32
        }
      ]
    },
    {
      "cell_type": "markdown",
      "metadata": {
        "id": "V8huT-xQg2Wv",
        "colab_type": "text"
      },
      "source": [
        "*the population mean of female and male*"
      ]
    },
    {
      "cell_type": "code",
      "metadata": {
        "id": "vg90DCJgHLKq",
        "colab_type": "code",
        "colab": {
          "base_uri": "https://localhost:8080/",
          "height": 102
        },
        "outputId": "0765093a-ccb3-4cd9-b2c3-f0f0b4213c02"
      },
      "source": [
        "#Printing the array of female ages with high chances of heart attack\n",
        "\n",
        "age_females=df[df['gender']== 0]['age'].values\n",
        "age_females"
      ],
      "execution_count": null,
      "outputs": [
        {
          "output_type": "execute_result",
          "data": {
            "text/plain": [
              "array([41, 57, 56, 48, 58, 50, 58, 66, 69, 71, 65, 41, 46, 54, 65, 65, 51,\n",
              "       53, 53, 53, 51, 44, 63, 57, 71, 35, 45, 62, 43, 55, 60, 42, 67, 54,\n",
              "       58, 54, 45, 62, 63, 68, 45, 50, 50, 64, 64, 37, 46, 46, 64, 41, 54,\n",
              "       39, 34, 67, 52, 74, 54, 49, 41, 49, 60, 51, 42, 67, 76, 44, 60, 71,\n",
              "       66, 39, 58, 55])"
            ]
          },
          "metadata": {
            "tags": []
          },
          "execution_count": 33
        }
      ]
    },
    {
      "cell_type": "markdown",
      "metadata": {
        "id": "xvIzNwt9g437",
        "colab_type": "text"
      },
      "source": [
        "*An array displaying the female ages*"
      ]
    },
    {
      "cell_type": "code",
      "metadata": {
        "id": "W7nvh110HLWo",
        "colab_type": "code",
        "colab": {
          "base_uri": "https://localhost:8080/",
          "height": 119
        },
        "outputId": "e97e2daa-515a-454e-93d8-56e61a10fdd5"
      },
      "source": [
        "#Printing the array of male ages with high chances of heart attack\n",
        "\n",
        "age_males=df[df['gender']== 1]['age'].values\n",
        "age_males"
      ],
      "execution_count": null,
      "outputs": [
        {
          "output_type": "execute_result",
          "data": {
            "text/plain": [
              "array([63, 37, 56, 57, 44, 52, 57, 54, 49, 64, 43, 59, 44, 42, 61, 40, 59,\n",
              "       51, 53, 65, 44, 54, 51, 54, 48, 45, 39, 52, 44, 47, 66, 62, 52, 48,\n",
              "       45, 34, 54, 52, 41, 58, 51, 44, 54, 51, 29, 51, 51, 59, 52, 58, 41,\n",
              "       45, 52, 68, 46, 48, 57, 52, 53, 52, 43, 53, 42, 59, 42, 50, 69, 57,\n",
              "       43, 55, 41, 56, 59, 47, 42, 41, 62, 57, 64, 43, 70, 44, 42, 66, 64,\n",
              "       47, 35, 58, 56, 56, 41, 38, 38])"
            ]
          },
          "metadata": {
            "tags": []
          },
          "execution_count": 34
        }
      ]
    },
    {
      "cell_type": "markdown",
      "metadata": {
        "id": "6eA1ukTGhJXL",
        "colab_type": "text"
      },
      "source": [
        "*An array displaying the male ages*"
      ]
    },
    {
      "cell_type": "code",
      "metadata": {
        "id": "pFzNWwREjIh7",
        "colab_type": "code",
        "colab": {
          "base_uri": "https://localhost:8080/",
          "height": 68
        },
        "outputId": "f36e4439-a4b8-4920-ecd0-8e309e6cfe47"
      },
      "source": [
        "# Getting a random sample size of 50 female ages with high chances of heart attack\n",
        "\n",
        "SampleF=age_females[np.argsort(np.random.random_sample(len(age_females)))[:50]]\n",
        "\n",
        "SampleF "
      ],
      "execution_count": null,
      "outputs": [
        {
          "output_type": "execute_result",
          "data": {
            "text/plain": [
              "array([64, 68, 46, 63, 53, 54, 45, 56, 57, 66, 54, 46, 71, 67, 50, 67, 41,\n",
              "       39, 74, 60, 49, 58, 69, 58, 58, 65, 34, 66, 42, 39, 48, 46, 53, 63,\n",
              "       58, 45, 55, 41, 65, 37, 65, 50, 51, 64, 44, 51, 67, 51, 54, 41])"
            ]
          },
          "metadata": {
            "tags": []
          },
          "execution_count": 35
        }
      ]
    },
    {
      "cell_type": "markdown",
      "metadata": {
        "id": "a3G49JRehOVT",
        "colab_type": "text"
      },
      "source": [
        "*The array displays the 50 random ages of females selected from our dataframe*"
      ]
    },
    {
      "cell_type": "code",
      "metadata": {
        "id": "cnrtU4UejIpu",
        "colab_type": "code",
        "colab": {
          "base_uri": "https://localhost:8080/",
          "height": 68
        },
        "outputId": "0c6406de-2f5a-4458-edaa-2ab8e6e2eb8f"
      },
      "source": [
        "# Getting a random sample size of 50 male ages with high chances of heart attack\n",
        "\n",
        "SampleM=age_males[np.argsort(np.random.random_sample(len(age_males)))[:50]]\n",
        "\n",
        "SampleM "
      ],
      "execution_count": null,
      "outputs": [
        {
          "output_type": "execute_result",
          "data": {
            "text/plain": [
              "array([55, 41, 52, 59, 42, 69, 43, 39, 58, 52, 47, 35, 56, 68, 43, 65, 59,\n",
              "       41, 42, 56, 53, 59, 44, 41, 59, 66, 37, 51, 44, 52, 51, 42, 45, 70,\n",
              "       64, 45, 44, 34, 47, 51, 51, 42, 53, 38, 50, 57, 44, 46, 59, 42])"
            ]
          },
          "metadata": {
            "tags": []
          },
          "execution_count": 37
        }
      ]
    },
    {
      "cell_type": "markdown",
      "metadata": {
        "id": "A_bZ0NU8hcKJ",
        "colab_type": "text"
      },
      "source": [
        "*The array displays the 50 random ages of males selected from our dataframe*"
      ]
    },
    {
      "cell_type": "code",
      "metadata": {
        "id": "v4jhQJuYjI3e",
        "colab_type": "code",
        "colab": {
          "base_uri": "https://localhost:8080/",
          "height": 51
        },
        "outputId": "ec6a5e27-9a03-437b-9d2b-15979e23075b"
      },
      "source": [
        "#Calculating population variance of female and male ages with high chances of heart attack and mean of sample of the same\n",
        "\n",
        "varPopF=np.var(age_females) \n",
        "varPopM=np.var(age_males)\n",
        "\n",
        "\n",
        "meanOfSampF=np.mean(SampleF)\n",
        "meanOfSampM=np.mean(SampleM)\n",
        "\n",
        "print(meanOfSampF)\n",
        "print(meanOfSampM)\n",
        "\n",
        "n1=50 \n",
        "n2=50"
      ],
      "execution_count": null,
      "outputs": [
        {
          "output_type": "stream",
          "text": [
            "54.56\n",
            "50.06\n"
          ],
          "name": "stdout"
        }
      ]
    },
    {
      "cell_type": "markdown",
      "metadata": {
        "id": "YEppzCPJhisW",
        "colab_type": "text"
      },
      "source": [
        "*Sample mean of females is 54.24 and that for males is 52.04*"
      ]
    },
    {
      "cell_type": "code",
      "metadata": {
        "id": "DLPe-pLOkEiU",
        "colab_type": "code",
        "colab": {
          "base_uri": "https://localhost:8080/",
          "height": 34
        },
        "outputId": "2da554bf-c406-41e6-ff01-f914f587deab"
      },
      "source": [
        " #Calculating the Z-test which is the observed value\n",
        " #Since we have population parameters we can calculate the variance of the population\n",
        " #Note mu1-mu1=0 so we don't need to calculate it, this comes from our hypothesis testing Ho\n",
        "\n",
        "import math \n",
        "(meanOfSampF-meanOfSampM) - (0) / (math.sqrt((varPopF/50)+(varPopM/50)))"
      ],
      "execution_count": null,
      "outputs": [
        {
          "output_type": "execute_result",
          "data": {
            "text/plain": [
              "4.5"
            ]
          },
          "metadata": {
            "tags": []
          },
          "execution_count": 41
        }
      ]
    },
    {
      "cell_type": "markdown",
      "metadata": {
        "id": "vjmy89o7hj8A",
        "colab_type": "text"
      },
      "source": [
        "*From the above calculation, we get a z test statistic of 2.20*"
      ]
    },
    {
      "cell_type": "markdown",
      "metadata": {
        "id": "omT_bpEkmin5",
        "colab_type": "text"
      },
      "source": [
        "Conclusion\n",
        "\n"
      ]
    },
    {
      "cell_type": "code",
      "metadata": {
        "id": "w6czuab-z7q4",
        "colab_type": "code",
        "colab": {
          "base_uri": "https://localhost:8080/",
          "height": 51
        },
        "outputId": "bc35f01a-ffbc-4b53-e792-574adc647b6c"
      },
      "source": [
        "#calculating p value\n",
        "zscore=4.5\n",
        "pval = stats.norm.cdf(zscore)\n",
        "print(pval)\n",
        "\n",
        "#alpha of 0.05\n",
        "if pval < 0.05:\n",
        "  print('Reject null hypothesis')\n",
        "else:\n",
        "  print('Fail to reject the null hypothesis')"
      ],
      "execution_count": null,
      "outputs": [
        {
          "output_type": "stream",
          "text": [
            "0.9999966023268753\n",
            "Fail to reject the null hypothesis\n"
          ],
          "name": "stdout"
        }
      ]
    },
    {
      "cell_type": "markdown",
      "metadata": {
        "id": "bYXZKWLn2Bus",
        "colab_type": "text"
      },
      "source": [
        "*the pvalue(0.9999) is greater than the significance level(0.05) hence we fail to reject the null hypothesis as there is a strong evidence for this*"
      ]
    },
    {
      "cell_type": "code",
      "metadata": {
        "id": "Sinu_2p7kEcY",
        "colab_type": "code",
        "colab": {
          "base_uri": "https://localhost:8080/",
          "height": 207
        },
        "outputId": "a45e44ba-6513-4fde-e2f9-e8292b427192"
      },
      "source": [
        "#Calculating standard error\n",
        "\n",
        "std_error = df.std() / np.sqrt(n1)\n",
        "std_error stats.norm.interval(0.99, loc=meanOfSampFemale, scale=std_error)\n",
        "\n",
        "# We are 99% confident that the age of the female sample mean is between 50.68 and 53.99"
      ],
      "execution_count": null,
      "outputs": [
        {
          "output_type": "stream",
          "text": [
            "/usr/local/lib/python3.6/dist-packages/scipy/stats/_distn_infrastructure.py:2003: RuntimeWarning: invalid value encountered in multiply\n",
            "  lower_bound = _a * scale + loc\n",
            "/usr/local/lib/python3.6/dist-packages/scipy/stats/_distn_infrastructure.py:2004: RuntimeWarning: invalid value encountered in multiply\n",
            "  upper_bound = _b * scale + loc\n"
          ],
          "name": "stderr"
        },
        {
          "output_type": "execute_result",
          "data": {
            "text/plain": [
              "(array([50.54091498, 53.83879261, 53.67312735, 48.12977736, 34.51190596,\n",
              "        53.89344588, 53.83610632, 47.03524716, 53.89344588, 53.73561483,\n",
              "        53.8037524 , 53.71076725, 53.85033696,         nan]),\n",
              " array([57.49908502, 54.20120739, 54.36687265, 59.91022264, 73.52809404,\n",
              "        54.14655412, 54.20389368, 61.00475284, 54.14655412, 54.30438517,\n",
              "        54.2362476 , 54.32923275, 54.18966304,         nan]))"
            ]
          },
          "metadata": {
            "tags": []
          },
          "execution_count": 54
        }
      ]
    },
    {
      "cell_type": "code",
      "metadata": {
        "id": "oNj5tgwAkEZQ",
        "colab_type": "code",
        "colab": {
          "base_uri": "https://localhost:8080/",
          "height": 207
        },
        "outputId": "d6b37b76-5bb6-42f9-d63e-4382c08b0c32"
      },
      "source": [
        "#Calculating standard error \n",
        "\n",
        "std_error = df.std() / np.sqrt(n2)\n",
        "std_error stats.norm.interval(0.99, loc=meanOfSampMale, scale=std_error)\n",
        "\n",
        "# We are 99% confident that the age of the Male sample mean is between 49.64 and 52.95"
      ],
      "execution_count": null,
      "outputs": [
        {
          "output_type": "stream",
          "text": [
            "/usr/local/lib/python3.6/dist-packages/scipy/stats/_distn_infrastructure.py:2003: RuntimeWarning: invalid value encountered in multiply\n",
            "  lower_bound = _a * scale + loc\n",
            "/usr/local/lib/python3.6/dist-packages/scipy/stats/_distn_infrastructure.py:2004: RuntimeWarning: invalid value encountered in multiply\n",
            "  upper_bound = _b * scale + loc\n"
          ],
          "name": "stderr"
        },
        {
          "output_type": "execute_result",
          "data": {
            "text/plain": [
              "(array([48.34091498, 51.63879261, 51.47312735, 45.92977736, 32.31190596,\n",
              "        51.69344588, 51.63610632, 44.83524716, 51.69344588, 51.53561483,\n",
              "        51.6037524 , 51.51076725, 51.65033696,         nan]),\n",
              " array([55.29908502, 52.00120739, 52.16687265, 57.71022264, 71.32809404,\n",
              "        51.94655412, 52.00389368, 58.80475284, 51.94655412, 52.10438517,\n",
              "        52.0362476 , 52.12923275, 51.98966304,         nan]))"
            ]
          },
          "metadata": {
            "tags": []
          },
          "execution_count": 55
        }
      ]
    },
    {
      "cell_type": "markdown",
      "metadata": {
        "id": "mVNfUDPy7Sdc",
        "colab_type": "text"
      },
      "source": [
        "Hypothesis 2"
      ]
    },
    {
      "cell_type": "markdown",
      "metadata": {
        "id": "v3Z-A4HY703g",
        "colab_type": "text"
      },
      "source": [
        "*The average age of individuals who are more likely to have a heart attack with chest pain 0(Typical Angina) is greater than the average age of individuals who are more likely to have a heart attack with chest pain 3(Asymptomatic).\n",
        "\n",
        "Ho: female(chest pain type) >= male(chest pain type)\n",
        "\n",
        "H1:emale(chest pain type) < male(chest pain type)\n",
        "\n"
      ]
    },
    {
      "cell_type": "code",
      "metadata": {
        "id": "ULpYULaT7QYc",
        "colab_type": "code",
        "colab": {
          "base_uri": "https://localhost:8080/",
          "height": 439
        },
        "outputId": "73c8fdc3-7753-4372-ce4d-b35ea0e97e54"
      },
      "source": [
        "#creating a dataset with only individuals with a higher chance of getting a heart attack\n",
        "df2 = heart_df[heart_df['target']==1]\n",
        "df2"
      ],
      "execution_count": null,
      "outputs": [
        {
          "output_type": "execute_result",
          "data": {
            "text/html": [
              "<div>\n",
              "<style scoped>\n",
              "    .dataframe tbody tr th:only-of-type {\n",
              "        vertical-align: middle;\n",
              "    }\n",
              "\n",
              "    .dataframe tbody tr th {\n",
              "        vertical-align: top;\n",
              "    }\n",
              "\n",
              "    .dataframe thead th {\n",
              "        text-align: right;\n",
              "    }\n",
              "</style>\n",
              "<table border=\"1\" class=\"dataframe\">\n",
              "  <thead>\n",
              "    <tr style=\"text-align: right;\">\n",
              "      <th></th>\n",
              "      <th>age</th>\n",
              "      <th>gender</th>\n",
              "      <th>chest_pain</th>\n",
              "      <th>blood_pressure</th>\n",
              "      <th>cholestral</th>\n",
              "      <th>blood_sugar</th>\n",
              "      <th>electrocardiographic_results</th>\n",
              "      <th>maximum_heart_rate</th>\n",
              "      <th>exercise_induced_angina</th>\n",
              "      <th>oldpeak</th>\n",
              "      <th>slope</th>\n",
              "      <th>vessels</th>\n",
              "      <th>defect</th>\n",
              "      <th>target</th>\n",
              "    </tr>\n",
              "  </thead>\n",
              "  <tbody>\n",
              "    <tr>\n",
              "      <th>0</th>\n",
              "      <td>63</td>\n",
              "      <td>1</td>\n",
              "      <td>3</td>\n",
              "      <td>145</td>\n",
              "      <td>233</td>\n",
              "      <td>1</td>\n",
              "      <td>0</td>\n",
              "      <td>150</td>\n",
              "      <td>0</td>\n",
              "      <td>2.30000000</td>\n",
              "      <td>0</td>\n",
              "      <td>0</td>\n",
              "      <td>1</td>\n",
              "      <td>1</td>\n",
              "    </tr>\n",
              "    <tr>\n",
              "      <th>1</th>\n",
              "      <td>37</td>\n",
              "      <td>1</td>\n",
              "      <td>2</td>\n",
              "      <td>130</td>\n",
              "      <td>250</td>\n",
              "      <td>0</td>\n",
              "      <td>1</td>\n",
              "      <td>187</td>\n",
              "      <td>0</td>\n",
              "      <td>3.50000000</td>\n",
              "      <td>0</td>\n",
              "      <td>0</td>\n",
              "      <td>2</td>\n",
              "      <td>1</td>\n",
              "    </tr>\n",
              "    <tr>\n",
              "      <th>2</th>\n",
              "      <td>41</td>\n",
              "      <td>0</td>\n",
              "      <td>1</td>\n",
              "      <td>130</td>\n",
              "      <td>204</td>\n",
              "      <td>0</td>\n",
              "      <td>0</td>\n",
              "      <td>172</td>\n",
              "      <td>0</td>\n",
              "      <td>1.40000000</td>\n",
              "      <td>2</td>\n",
              "      <td>0</td>\n",
              "      <td>2</td>\n",
              "      <td>1</td>\n",
              "    </tr>\n",
              "    <tr>\n",
              "      <th>3</th>\n",
              "      <td>56</td>\n",
              "      <td>1</td>\n",
              "      <td>1</td>\n",
              "      <td>120</td>\n",
              "      <td>236</td>\n",
              "      <td>0</td>\n",
              "      <td>1</td>\n",
              "      <td>178</td>\n",
              "      <td>0</td>\n",
              "      <td>0.80000000</td>\n",
              "      <td>2</td>\n",
              "      <td>0</td>\n",
              "      <td>2</td>\n",
              "      <td>1</td>\n",
              "    </tr>\n",
              "    <tr>\n",
              "      <th>4</th>\n",
              "      <td>57</td>\n",
              "      <td>0</td>\n",
              "      <td>0</td>\n",
              "      <td>120</td>\n",
              "      <td>354</td>\n",
              "      <td>0</td>\n",
              "      <td>1</td>\n",
              "      <td>163</td>\n",
              "      <td>1</td>\n",
              "      <td>0.60000000</td>\n",
              "      <td>2</td>\n",
              "      <td>0</td>\n",
              "      <td>2</td>\n",
              "      <td>1</td>\n",
              "    </tr>\n",
              "    <tr>\n",
              "      <th>...</th>\n",
              "      <td>...</td>\n",
              "      <td>...</td>\n",
              "      <td>...</td>\n",
              "      <td>...</td>\n",
              "      <td>...</td>\n",
              "      <td>...</td>\n",
              "      <td>...</td>\n",
              "      <td>...</td>\n",
              "      <td>...</td>\n",
              "      <td>...</td>\n",
              "      <td>...</td>\n",
              "      <td>...</td>\n",
              "      <td>...</td>\n",
              "      <td>...</td>\n",
              "    </tr>\n",
              "    <tr>\n",
              "      <th>160</th>\n",
              "      <td>56</td>\n",
              "      <td>1</td>\n",
              "      <td>1</td>\n",
              "      <td>120</td>\n",
              "      <td>240</td>\n",
              "      <td>0</td>\n",
              "      <td>1</td>\n",
              "      <td>169</td>\n",
              "      <td>0</td>\n",
              "      <td>0.00000000</td>\n",
              "      <td>0</td>\n",
              "      <td>0</td>\n",
              "      <td>2</td>\n",
              "      <td>1</td>\n",
              "    </tr>\n",
              "    <tr>\n",
              "      <th>161</th>\n",
              "      <td>55</td>\n",
              "      <td>0</td>\n",
              "      <td>1</td>\n",
              "      <td>132</td>\n",
              "      <td>342</td>\n",
              "      <td>0</td>\n",
              "      <td>1</td>\n",
              "      <td>166</td>\n",
              "      <td>0</td>\n",
              "      <td>1.20000000</td>\n",
              "      <td>2</td>\n",
              "      <td>0</td>\n",
              "      <td>2</td>\n",
              "      <td>1</td>\n",
              "    </tr>\n",
              "    <tr>\n",
              "      <th>162</th>\n",
              "      <td>41</td>\n",
              "      <td>1</td>\n",
              "      <td>1</td>\n",
              "      <td>120</td>\n",
              "      <td>157</td>\n",
              "      <td>0</td>\n",
              "      <td>1</td>\n",
              "      <td>182</td>\n",
              "      <td>0</td>\n",
              "      <td>0.00000000</td>\n",
              "      <td>2</td>\n",
              "      <td>0</td>\n",
              "      <td>2</td>\n",
              "      <td>1</td>\n",
              "    </tr>\n",
              "    <tr>\n",
              "      <th>163</th>\n",
              "      <td>38</td>\n",
              "      <td>1</td>\n",
              "      <td>2</td>\n",
              "      <td>138</td>\n",
              "      <td>175</td>\n",
              "      <td>0</td>\n",
              "      <td>1</td>\n",
              "      <td>173</td>\n",
              "      <td>0</td>\n",
              "      <td>0.00000000</td>\n",
              "      <td>2</td>\n",
              "      <td>4</td>\n",
              "      <td>2</td>\n",
              "      <td>1</td>\n",
              "    </tr>\n",
              "    <tr>\n",
              "      <th>164</th>\n",
              "      <td>38</td>\n",
              "      <td>1</td>\n",
              "      <td>2</td>\n",
              "      <td>138</td>\n",
              "      <td>175</td>\n",
              "      <td>0</td>\n",
              "      <td>1</td>\n",
              "      <td>173</td>\n",
              "      <td>0</td>\n",
              "      <td>0.00000000</td>\n",
              "      <td>2</td>\n",
              "      <td>4</td>\n",
              "      <td>2</td>\n",
              "      <td>1</td>\n",
              "    </tr>\n",
              "  </tbody>\n",
              "</table>\n",
              "<p>165 rows × 14 columns</p>\n",
              "</div>"
            ],
            "text/plain": [
              "     age  gender  chest_pain  blood_pressure  ...  slope  vessels  defect  target\n",
              "0     63       1           3             145  ...      0        0       1       1\n",
              "1     37       1           2             130  ...      0        0       2       1\n",
              "2     41       0           1             130  ...      2        0       2       1\n",
              "3     56       1           1             120  ...      2        0       2       1\n",
              "4     57       0           0             120  ...      2        0       2       1\n",
              "..   ...     ...         ...             ...  ...    ...      ...     ...     ...\n",
              "160   56       1           1             120  ...      0        0       2       1\n",
              "161   55       0           1             132  ...      2        0       2       1\n",
              "162   41       1           1             120  ...      2        0       2       1\n",
              "163   38       1           2             138  ...      2        4       2       1\n",
              "164   38       1           2             138  ...      2        4       2       1\n",
              "\n",
              "[165 rows x 14 columns]"
            ]
          },
          "metadata": {
            "tags": []
          },
          "execution_count": 56
        }
      ]
    },
    {
      "cell_type": "markdown",
      "metadata": {
        "id": "y--e22F18m7O",
        "colab_type": "text"
      },
      "source": [
        "*Dataframe that only displays individuals at a higher risk of getting heart attack*"
      ]
    },
    {
      "cell_type": "code",
      "metadata": {
        "id": "f_vujlAX7QVm",
        "colab_type": "code",
        "colab": {
          "base_uri": "https://localhost:8080/",
          "height": 204
        },
        "outputId": "30990808-bab8-4c56-c985-dadb9ba0631a"
      },
      "source": [
        "#Finding the average age of individuals prone to a heart attack with different chest pains\n",
        "df3=pd.pivot_table(df2, index=['chest_pain'], values='age', aggfunc='mean')\n",
        "df3 "
      ],
      "execution_count": null,
      "outputs": [
        {
          "output_type": "execute_result",
          "data": {
            "text/html": [
              "<div>\n",
              "<style scoped>\n",
              "    .dataframe tbody tr th:only-of-type {\n",
              "        vertical-align: middle;\n",
              "    }\n",
              "\n",
              "    .dataframe tbody tr th {\n",
              "        vertical-align: top;\n",
              "    }\n",
              "\n",
              "    .dataframe thead th {\n",
              "        text-align: right;\n",
              "    }\n",
              "</style>\n",
              "<table border=\"1\" class=\"dataframe\">\n",
              "  <thead>\n",
              "    <tr style=\"text-align: right;\">\n",
              "      <th></th>\n",
              "      <th>age</th>\n",
              "    </tr>\n",
              "    <tr>\n",
              "      <th>chest_pain</th>\n",
              "      <th></th>\n",
              "    </tr>\n",
              "  </thead>\n",
              "  <tbody>\n",
              "    <tr>\n",
              "      <th>0</th>\n",
              "      <td>54.07692308</td>\n",
              "    </tr>\n",
              "    <tr>\n",
              "      <th>1</th>\n",
              "      <td>50.02439024</td>\n",
              "    </tr>\n",
              "    <tr>\n",
              "      <th>2</th>\n",
              "      <td>52.21739130</td>\n",
              "    </tr>\n",
              "    <tr>\n",
              "      <th>3</th>\n",
              "      <td>56.18750000</td>\n",
              "    </tr>\n",
              "  </tbody>\n",
              "</table>\n",
              "</div>"
            ],
            "text/plain": [
              "                   age\n",
              "chest_pain            \n",
              "0          54.07692308\n",
              "1          50.02439024\n",
              "2          52.21739130\n",
              "3          56.18750000"
            ]
          },
          "metadata": {
            "tags": []
          },
          "execution_count": 59
        }
      ]
    },
    {
      "cell_type": "markdown",
      "metadata": {
        "id": "LipXux8R9Up5",
        "colab_type": "text"
      },
      "source": [
        "*average age of individuals with different types chest pains*"
      ]
    },
    {
      "cell_type": "code",
      "metadata": {
        "id": "2Wr6bEPl7QTI",
        "colab_type": "code",
        "colab": {
          "base_uri": "https://localhost:8080/",
          "height": 34
        },
        "outputId": "d56b3939-e8c6-4989-84f0-248491e908d6"
      },
      "source": [
        "#Finding the number of individuals of chest pain type 3 with high chances of heart attack\n",
        "cp3=df2[df2['chest_pain']==3]\n",
        "cp3['chest_pain'].count()"
      ],
      "execution_count": null,
      "outputs": [
        {
          "output_type": "execute_result",
          "data": {
            "text/plain": [
              "16"
            ]
          },
          "metadata": {
            "tags": []
          },
          "execution_count": 60
        }
      ]
    },
    {
      "cell_type": "markdown",
      "metadata": {
        "id": "C8K9A7GQAxpu",
        "colab_type": "text"
      },
      "source": [
        "*there are 16 individuals with type 3 chest pain ie non-anginal pain*"
      ]
    },
    {
      "cell_type": "code",
      "metadata": {
        "id": "4_AjHYdE7QQN",
        "colab_type": "code",
        "colab": {
          "base_uri": "https://localhost:8080/",
          "height": 34
        },
        "outputId": "98b46fb4-aa2a-4347-b0da-ef9cfb164a8d"
      },
      "source": [
        "#Finding the number of individuals of chest pain type 0 with high chances of heart attack\n",
        "cp0=df2[df2['chest_pain']==0]\n",
        "cp0['chest_pain'].count()"
      ],
      "execution_count": null,
      "outputs": [
        {
          "output_type": "execute_result",
          "data": {
            "text/plain": [
              "39"
            ]
          },
          "metadata": {
            "tags": []
          },
          "execution_count": 61
        }
      ]
    },
    {
      "cell_type": "markdown",
      "metadata": {
        "id": "Sb8oElHFBDks",
        "colab_type": "text"
      },
      "source": [
        "*there are 39 individuals with type 0 chest pain ie typical angina*"
      ]
    },
    {
      "cell_type": "code",
      "metadata": {
        "id": "hruKMJLR7QN5",
        "colab_type": "code",
        "colab": {
          "base_uri": "https://localhost:8080/",
          "height": 224
        },
        "outputId": "3ed0c15c-607a-4c6c-a040-1e49d24954c0"
      },
      "source": [
        "# Getting a random sample size of 50 individuals with chest pain 3 with high chances of heart attack\n",
        "\n",
        "sample_cp3 = cp3.sample(n=50, replace = \"False\")\n",
        "sample_cp3.head()"
      ],
      "execution_count": null,
      "outputs": [
        {
          "output_type": "execute_result",
          "data": {
            "text/html": [
              "<div>\n",
              "<style scoped>\n",
              "    .dataframe tbody tr th:only-of-type {\n",
              "        vertical-align: middle;\n",
              "    }\n",
              "\n",
              "    .dataframe tbody tr th {\n",
              "        vertical-align: top;\n",
              "    }\n",
              "\n",
              "    .dataframe thead th {\n",
              "        text-align: right;\n",
              "    }\n",
              "</style>\n",
              "<table border=\"1\" class=\"dataframe\">\n",
              "  <thead>\n",
              "    <tr style=\"text-align: right;\">\n",
              "      <th></th>\n",
              "      <th>age</th>\n",
              "      <th>gender</th>\n",
              "      <th>chest_pain</th>\n",
              "      <th>blood_pressure</th>\n",
              "      <th>cholestral</th>\n",
              "      <th>blood_sugar</th>\n",
              "      <th>electrocardiographic_results</th>\n",
              "      <th>maximum_heart_rate</th>\n",
              "      <th>exercise_induced_angina</th>\n",
              "      <th>oldpeak</th>\n",
              "      <th>slope</th>\n",
              "      <th>vessels</th>\n",
              "      <th>defect</th>\n",
              "      <th>target</th>\n",
              "    </tr>\n",
              "  </thead>\n",
              "  <tbody>\n",
              "    <tr>\n",
              "      <th>34</th>\n",
              "      <td>51</td>\n",
              "      <td>1</td>\n",
              "      <td>3</td>\n",
              "      <td>125</td>\n",
              "      <td>213</td>\n",
              "      <td>0</td>\n",
              "      <td>0</td>\n",
              "      <td>125</td>\n",
              "      <td>1</td>\n",
              "      <td>1.40000000</td>\n",
              "      <td>2</td>\n",
              "      <td>1</td>\n",
              "      <td>2</td>\n",
              "      <td>1</td>\n",
              "    </tr>\n",
              "    <tr>\n",
              "      <th>19</th>\n",
              "      <td>69</td>\n",
              "      <td>0</td>\n",
              "      <td>3</td>\n",
              "      <td>140</td>\n",
              "      <td>239</td>\n",
              "      <td>0</td>\n",
              "      <td>1</td>\n",
              "      <td>151</td>\n",
              "      <td>0</td>\n",
              "      <td>1.80000000</td>\n",
              "      <td>2</td>\n",
              "      <td>2</td>\n",
              "      <td>2</td>\n",
              "      <td>1</td>\n",
              "    </tr>\n",
              "    <tr>\n",
              "      <th>24</th>\n",
              "      <td>40</td>\n",
              "      <td>1</td>\n",
              "      <td>3</td>\n",
              "      <td>140</td>\n",
              "      <td>199</td>\n",
              "      <td>0</td>\n",
              "      <td>1</td>\n",
              "      <td>178</td>\n",
              "      <td>1</td>\n",
              "      <td>1.40000000</td>\n",
              "      <td>2</td>\n",
              "      <td>0</td>\n",
              "      <td>3</td>\n",
              "      <td>1</td>\n",
              "    </tr>\n",
              "    <tr>\n",
              "      <th>34</th>\n",
              "      <td>51</td>\n",
              "      <td>1</td>\n",
              "      <td>3</td>\n",
              "      <td>125</td>\n",
              "      <td>213</td>\n",
              "      <td>0</td>\n",
              "      <td>0</td>\n",
              "      <td>125</td>\n",
              "      <td>1</td>\n",
              "      <td>1.40000000</td>\n",
              "      <td>2</td>\n",
              "      <td>1</td>\n",
              "      <td>2</td>\n",
              "      <td>1</td>\n",
              "    </tr>\n",
              "    <tr>\n",
              "      <th>19</th>\n",
              "      <td>69</td>\n",
              "      <td>0</td>\n",
              "      <td>3</td>\n",
              "      <td>140</td>\n",
              "      <td>239</td>\n",
              "      <td>0</td>\n",
              "      <td>1</td>\n",
              "      <td>151</td>\n",
              "      <td>0</td>\n",
              "      <td>1.80000000</td>\n",
              "      <td>2</td>\n",
              "      <td>2</td>\n",
              "      <td>2</td>\n",
              "      <td>1</td>\n",
              "    </tr>\n",
              "  </tbody>\n",
              "</table>\n",
              "</div>"
            ],
            "text/plain": [
              "    age  gender  chest_pain  blood_pressure  ...  slope  vessels  defect  target\n",
              "34   51       1           3             125  ...      2        1       2       1\n",
              "19   69       0           3             140  ...      2        2       2       1\n",
              "24   40       1           3             140  ...      2        0       3       1\n",
              "34   51       1           3             125  ...      2        1       2       1\n",
              "19   69       0           3             140  ...      2        2       2       1\n",
              "\n",
              "[5 rows x 14 columns]"
            ]
          },
          "metadata": {
            "tags": []
          },
          "execution_count": 62
        }
      ]
    },
    {
      "cell_type": "markdown",
      "metadata": {
        "id": "khV03Wo6Bdf4",
        "colab_type": "text"
      },
      "source": [
        "*dataframe that contains individuals with type 3 chest pain*"
      ]
    },
    {
      "cell_type": "code",
      "metadata": {
        "id": "HJM4yPu47QFl",
        "colab_type": "code",
        "colab": {
          "base_uri": "https://localhost:8080/",
          "height": 224
        },
        "outputId": "9cd0f62d-1d73-4e9a-8d65-2db0244b93bb"
      },
      "source": [
        "# Getting a random sample size of 50 individuals with chest pain 0 with high chances of heart attack\n",
        "\n",
        "sample_cp0 = cp0.sample(n=50, replace = \"False\")\n",
        "sample_cp0.head()"
      ],
      "execution_count": null,
      "outputs": [
        {
          "output_type": "execute_result",
          "data": {
            "text/html": [
              "<div>\n",
              "<style scoped>\n",
              "    .dataframe tbody tr th:only-of-type {\n",
              "        vertical-align: middle;\n",
              "    }\n",
              "\n",
              "    .dataframe tbody tr th {\n",
              "        vertical-align: top;\n",
              "    }\n",
              "\n",
              "    .dataframe thead th {\n",
              "        text-align: right;\n",
              "    }\n",
              "</style>\n",
              "<table border=\"1\" class=\"dataframe\">\n",
              "  <thead>\n",
              "    <tr style=\"text-align: right;\">\n",
              "      <th></th>\n",
              "      <th>age</th>\n",
              "      <th>gender</th>\n",
              "      <th>chest_pain</th>\n",
              "      <th>blood_pressure</th>\n",
              "      <th>cholestral</th>\n",
              "      <th>blood_sugar</th>\n",
              "      <th>electrocardiographic_results</th>\n",
              "      <th>maximum_heart_rate</th>\n",
              "      <th>exercise_induced_angina</th>\n",
              "      <th>oldpeak</th>\n",
              "      <th>slope</th>\n",
              "      <th>vessels</th>\n",
              "      <th>defect</th>\n",
              "      <th>target</th>\n",
              "    </tr>\n",
              "  </thead>\n",
              "  <tbody>\n",
              "    <tr>\n",
              "      <th>69</th>\n",
              "      <td>62</td>\n",
              "      <td>0</td>\n",
              "      <td>0</td>\n",
              "      <td>124</td>\n",
              "      <td>209</td>\n",
              "      <td>0</td>\n",
              "      <td>1</td>\n",
              "      <td>163</td>\n",
              "      <td>0</td>\n",
              "      <td>0.00000000</td>\n",
              "      <td>2</td>\n",
              "      <td>0</td>\n",
              "      <td>2</td>\n",
              "      <td>1</td>\n",
              "    </tr>\n",
              "    <tr>\n",
              "      <th>135</th>\n",
              "      <td>49</td>\n",
              "      <td>0</td>\n",
              "      <td>0</td>\n",
              "      <td>130</td>\n",
              "      <td>269</td>\n",
              "      <td>0</td>\n",
              "      <td>1</td>\n",
              "      <td>163</td>\n",
              "      <td>0</td>\n",
              "      <td>0.00000000</td>\n",
              "      <td>2</td>\n",
              "      <td>0</td>\n",
              "      <td>2</td>\n",
              "      <td>1</td>\n",
              "    </tr>\n",
              "    <tr>\n",
              "      <th>59</th>\n",
              "      <td>57</td>\n",
              "      <td>0</td>\n",
              "      <td>0</td>\n",
              "      <td>128</td>\n",
              "      <td>303</td>\n",
              "      <td>0</td>\n",
              "      <td>0</td>\n",
              "      <td>159</td>\n",
              "      <td>0</td>\n",
              "      <td>0.00000000</td>\n",
              "      <td>2</td>\n",
              "      <td>1</td>\n",
              "      <td>2</td>\n",
              "      <td>1</td>\n",
              "    </tr>\n",
              "    <tr>\n",
              "      <th>107</th>\n",
              "      <td>45</td>\n",
              "      <td>0</td>\n",
              "      <td>0</td>\n",
              "      <td>138</td>\n",
              "      <td>236</td>\n",
              "      <td>0</td>\n",
              "      <td>0</td>\n",
              "      <td>152</td>\n",
              "      <td>1</td>\n",
              "      <td>0.20000000</td>\n",
              "      <td>1</td>\n",
              "      <td>0</td>\n",
              "      <td>2</td>\n",
              "      <td>1</td>\n",
              "    </tr>\n",
              "    <tr>\n",
              "      <th>22</th>\n",
              "      <td>42</td>\n",
              "      <td>1</td>\n",
              "      <td>0</td>\n",
              "      <td>140</td>\n",
              "      <td>226</td>\n",
              "      <td>0</td>\n",
              "      <td>1</td>\n",
              "      <td>178</td>\n",
              "      <td>0</td>\n",
              "      <td>0.00000000</td>\n",
              "      <td>2</td>\n",
              "      <td>0</td>\n",
              "      <td>2</td>\n",
              "      <td>1</td>\n",
              "    </tr>\n",
              "  </tbody>\n",
              "</table>\n",
              "</div>"
            ],
            "text/plain": [
              "     age  gender  chest_pain  blood_pressure  ...  slope  vessels  defect  target\n",
              "69    62       0           0             124  ...      2        0       2       1\n",
              "135   49       0           0             130  ...      2        0       2       1\n",
              "59    57       0           0             128  ...      2        1       2       1\n",
              "107   45       0           0             138  ...      1        0       2       1\n",
              "22    42       1           0             140  ...      2        0       2       1\n",
              "\n",
              "[5 rows x 14 columns]"
            ]
          },
          "metadata": {
            "tags": []
          },
          "execution_count": 63
        }
      ]
    },
    {
      "cell_type": "markdown",
      "metadata": {
        "id": "y9K0zzJCBn6L",
        "colab_type": "text"
      },
      "source": [
        "*dataframe that contains individuals with type 0 chest pain*"
      ]
    },
    {
      "cell_type": "code",
      "metadata": {
        "id": "89a0YjNv-kfq",
        "colab_type": "code",
        "colab": {
          "base_uri": "https://localhost:8080/",
          "height": 85
        },
        "outputId": "d74ab5fd-7c85-416d-a68c-5cc2c94c1158"
      },
      "source": [
        "#Calculating population variance of the ages of individuals with chest pain 3 and chest pain 0 with high chances of heart attack and mean of sample of the same\n",
        "var3=df2['age'].var()\n",
        "var0=df2['age'].var()\n",
        "\n",
        "print(var3)\n",
        "print(var0)\n",
        "\n",
        "mean3=sample_cp3['age'].mean()\n",
        "mean0=sample_cp0['age'].mean()\n",
        "\n",
        "print(mean3)\n",
        "print(mean0)"
      ],
      "execution_count": null,
      "outputs": [
        {
          "output_type": "stream",
          "text": [
            "91.21492978566154\n",
            "91.21492978566154\n",
            "57.06\n",
            "54.7\n"
          ],
          "name": "stdout"
        }
      ]
    },
    {
      "cell_type": "markdown",
      "metadata": {
        "id": "5GNadIyvBrMD",
        "colab_type": "text"
      },
      "source": [
        "*the variance and mean of individuals with type 3 chest pain is 91.21 and 57.06 respectively*\n",
        "\n",
        "*the variance and mean of individuals with type 0 chest pain is 91.21 and 54.7 respectively*\n"
      ]
    },
    {
      "cell_type": "code",
      "metadata": {
        "id": "Z9JWjQsp-kdj",
        "colab_type": "code",
        "colab": {
          "base_uri": "https://localhost:8080/",
          "height": 34
        },
        "outputId": "ba16d414-e430-40ad-d05f-49d3d3f51c8b"
      },
      "source": [
        "#Calculating the Z-score\n",
        "\n",
        "#Calculating the number of rows in each to get the sample size\n",
        "\n",
        "n1 = len(sample_cp3.index)\n",
        "n2 = len(sample_cp0.index)\n",
        "mean_diff = mean3 - mean0\n",
        "\n",
        "import math\n",
        "zscore = (mean3 - mean0) - mean_diff / (math.sqrt((var3/n1)+(var0/n2)))\n",
        "zscore"
      ],
      "execution_count": null,
      "outputs": [
        {
          "output_type": "execute_result",
          "data": {
            "text/plain": [
              "1.124482095882867"
            ]
          },
          "metadata": {
            "tags": []
          },
          "execution_count": 66
        }
      ]
    },
    {
      "cell_type": "markdown",
      "metadata": {
        "id": "tYK5XmsUCSvw",
        "colab_type": "text"
      },
      "source": [
        "*from the calculations above, our zscore is 1.12*"
      ]
    },
    {
      "cell_type": "code",
      "metadata": {
        "id": "U9aasPOB-kbQ",
        "colab_type": "code",
        "colab": {
          "base_uri": "https://localhost:8080/",
          "height": 51
        },
        "outputId": "4eacd25e-4a79-4541-d4ac-6ae9ab5a3cc7"
      },
      "source": [
        "#calculating p value\n",
        "\n",
        "pval = stats.norm.cdf(zscore)\n",
        "print(pval)\n",
        "\n",
        "#alpha of 0.05\n",
        "if pval < 0.05:\n",
        "  print('Reject null hypothesis')\n",
        "else:\n",
        "  print('Fail to reject hypothesis')"
      ],
      "execution_count": null,
      "outputs": [
        {
          "output_type": "stream",
          "text": [
            "0.9860965524865014\n",
            "Fail to reject hypothesis\n"
          ],
          "name": "stdout"
        }
      ]
    },
    {
      "cell_type": "markdown",
      "metadata": {
        "id": "edHlYvCqAVaE",
        "colab_type": "text"
      },
      "source": [
        "*the pvalue(0.98) is greater than the significance level(0.05) hence we accept the null hypothesis as there is a strong evidence for this*"
      ]
    },
    {
      "cell_type": "markdown",
      "metadata": {
        "id": "a-hrk7OfHbJP",
        "colab_type": "text"
      },
      "source": [
        "Hypothesis 3"
      ]
    },
    {
      "cell_type": "markdown",
      "metadata": {
        "id": "wS8kMbZ-HmlN",
        "colab_type": "text"
      },
      "source": [
        "Testing whether there is a difference between the mean cholestral levels in men and that of women.\n",
        "\n",
        "The null hypothesis is that there is actually a difference between to means and the alternative hypothesis is that there is no difference between the two means.\n",
        "\n",
        "Ho: men(cholestral levels) = women(choletral levels)\n",
        "\n",
        "H1: men(cholestral levels) != women(choletral levels)"
      ]
    },
    {
      "cell_type": "code",
      "metadata": {
        "id": "dr-HYGi8Y-iy",
        "colab_type": "code",
        "colab": {}
      },
      "source": [
        "males = heart_df[heart_df['gender']==1]\n",
        "females = heart_df[heart_df['gender']==0]"
      ],
      "execution_count": null,
      "outputs": []
    },
    {
      "cell_type": "code",
      "metadata": {
        "id": "TSAHTj5LZNN1",
        "colab_type": "code",
        "colab": {
          "base_uri": "https://localhost:8080/",
          "height": 34
        },
        "outputId": "659e9118-9139-4caa-857e-943ca7a1ef5f"
      },
      "source": [
        "males['cholestral'].mean()"
      ],
      "execution_count": null,
      "outputs": [
        {
          "output_type": "execute_result",
          "data": {
            "text/plain": [
              "239.28985507246378"
            ]
          },
          "metadata": {
            "tags": []
          },
          "execution_count": 104
        }
      ]
    },
    {
      "cell_type": "code",
      "metadata": {
        "id": "jMg-R6EEZSc6",
        "colab_type": "code",
        "colab": {
          "base_uri": "https://localhost:8080/",
          "height": 34
        },
        "outputId": "2db77da5-e46f-4883-f588-e50d65979efb"
      },
      "source": [
        "females['cholestral'].mean()"
      ],
      "execution_count": null,
      "outputs": [
        {
          "output_type": "execute_result",
          "data": {
            "text/plain": [
              "261.3020833333333"
            ]
          },
          "metadata": {
            "tags": []
          },
          "execution_count": 105
        }
      ]
    },
    {
      "cell_type": "code",
      "metadata": {
        "id": "AYCzOeiBZc2c",
        "colab_type": "code",
        "colab": {
          "base_uri": "https://localhost:8080/",
          "height": 296
        },
        "outputId": "aa883e5e-4e19-4b27-ca59-4b20092eb81b"
      },
      "source": [
        "sns.distplot(males['cholestral'])"
      ],
      "execution_count": null,
      "outputs": [
        {
          "output_type": "execute_result",
          "data": {
            "text/plain": [
              "<matplotlib.axes._subplots.AxesSubplot at 0x7f15e2876c50>"
            ]
          },
          "metadata": {
            "tags": []
          },
          "execution_count": 106
        },
        {
          "output_type": "display_data",
          "data": {
            "image/png": "[encoded data removed]",
            "text/plain": [
              "<Figure size 432x288 with 1 Axes>"
            ]
          },
          "metadata": {
            "tags": [],
            "needs_background": "light"
          }
        }
      ]
    },
    {
      "cell_type": "code",
      "metadata": {
        "id": "4OyTOYeoZhXs",
        "colab_type": "code",
        "colab": {
          "base_uri": "https://localhost:8080/",
          "height": 296
        },
        "outputId": "9c672018-9487-479d-c7d6-5852ebf18a2e"
      },
      "source": [
        "sns.distplot(females['cholestral'])"
      ],
      "execution_count": null,
      "outputs": [
        {
          "output_type": "execute_result",
          "data": {
            "text/plain": [
              "<matplotlib.axes._subplots.AxesSubplot at 0x7f15e80d90b8>"
            ]
          },
          "metadata": {
            "tags": []
          },
          "execution_count": 107
        },
        {
          "output_type": "display_data",
          "data": {
            "image/png": "[encoded data removed]",
            "text/plain": [
              "<Figure size 432x288 with 1 Axes>"
            ]
          },
          "metadata": {
            "tags": [],
            "needs_background": "light"
          }
        }
      ]
    },
    {
      "cell_type": "code",
      "metadata": {
        "id": "OF5n8JA1dG1b",
        "colab_type": "code",
        "colab": {
          "base_uri": "https://localhost:8080/",
          "height": 34
        },
        "outputId": "f47bef85-5d26-4171-94cc-66ff45dfc945"
      },
      "source": [
        "from scipy.stats import norm\n",
        "males_size=males.shape[0]\n",
        "males_sample_size=int(0.4 * males_size)\n",
        "males_sample_size"
      ],
      "execution_count": null,
      "outputs": [
        {
          "output_type": "execute_result",
          "data": {
            "text/plain": [
              "82"
            ]
          },
          "metadata": {
            "tags": []
          },
          "execution_count": 108
        }
      ]
    },
    {
      "cell_type": "code",
      "metadata": {
        "id": "7r9pm1KpdcmH",
        "colab_type": "code",
        "colab": {
          "base_uri": "https://localhost:8080/",
          "height": 34
        },
        "outputId": "deccd75e-7d2d-4430-a5c3-5505eecba863"
      },
      "source": [
        "females_size=females.shape[0]\n",
        "females_sample_size=int(0.4* females_size)\n",
        "females_sample_size"
      ],
      "execution_count": null,
      "outputs": [
        {
          "output_type": "execute_result",
          "data": {
            "text/plain": [
              "38"
            ]
          },
          "metadata": {
            "tags": []
          },
          "execution_count": 109
        }
      ]
    },
    {
      "cell_type": "code",
      "metadata": {
        "id": "L6ygAg7wdixi",
        "colab_type": "code",
        "colab": {
          "base_uri": "https://localhost:8080/",
          "height": 224
        },
        "outputId": "7597731a-5185-47bc-cbe1-977d5fd9a0c7"
      },
      "source": [
        "males_sample_data=males.sample(n=males_sample_size, replace='False')\n",
        "males_sample_data.head()"
      ],
      "execution_count": null,
      "outputs": [
        {
          "output_type": "execute_result",
          "data": {
            "text/html": [
              "<div>\n",
              "<style scoped>\n",
              "    .dataframe tbody tr th:only-of-type {\n",
              "        vertical-align: middle;\n",
              "    }\n",
              "\n",
              "    .dataframe tbody tr th {\n",
              "        vertical-align: top;\n",
              "    }\n",
              "\n",
              "    .dataframe thead th {\n",
              "        text-align: right;\n",
              "    }\n",
              "</style>\n",
              "<table border=\"1\" class=\"dataframe\">\n",
              "  <thead>\n",
              "    <tr style=\"text-align: right;\">\n",
              "      <th></th>\n",
              "      <th>age</th>\n",
              "      <th>gender</th>\n",
              "      <th>chest_pain</th>\n",
              "      <th>blood_pressure</th>\n",
              "      <th>cholestral</th>\n",
              "      <th>blood_sugar</th>\n",
              "      <th>electrocardiographic_results</th>\n",
              "      <th>maximum_heart_rate</th>\n",
              "      <th>exercise_induced_angina</th>\n",
              "      <th>oldpeak</th>\n",
              "      <th>slope</th>\n",
              "      <th>vessels</th>\n",
              "      <th>defect</th>\n",
              "      <th>target</th>\n",
              "    </tr>\n",
              "  </thead>\n",
              "  <tbody>\n",
              "    <tr>\n",
              "      <th>256</th>\n",
              "      <td>58</td>\n",
              "      <td>1</td>\n",
              "      <td>0</td>\n",
              "      <td>128</td>\n",
              "      <td>259</td>\n",
              "      <td>0</td>\n",
              "      <td>0</td>\n",
              "      <td>130</td>\n",
              "      <td>1</td>\n",
              "      <td>3.00000000</td>\n",
              "      <td>1</td>\n",
              "      <td>2</td>\n",
              "      <td>3</td>\n",
              "      <td>0</td>\n",
              "    </tr>\n",
              "    <tr>\n",
              "      <th>232</th>\n",
              "      <td>55</td>\n",
              "      <td>1</td>\n",
              "      <td>0</td>\n",
              "      <td>160</td>\n",
              "      <td>289</td>\n",
              "      <td>0</td>\n",
              "      <td>0</td>\n",
              "      <td>145</td>\n",
              "      <td>1</td>\n",
              "      <td>0.80000000</td>\n",
              "      <td>1</td>\n",
              "      <td>1</td>\n",
              "      <td>3</td>\n",
              "      <td>0</td>\n",
              "    </tr>\n",
              "    <tr>\n",
              "      <th>202</th>\n",
              "      <td>58</td>\n",
              "      <td>1</td>\n",
              "      <td>0</td>\n",
              "      <td>150</td>\n",
              "      <td>270</td>\n",
              "      <td>0</td>\n",
              "      <td>0</td>\n",
              "      <td>111</td>\n",
              "      <td>1</td>\n",
              "      <td>0.80000000</td>\n",
              "      <td>2</td>\n",
              "      <td>0</td>\n",
              "      <td>3</td>\n",
              "      <td>0</td>\n",
              "    </tr>\n",
              "    <tr>\n",
              "      <th>196</th>\n",
              "      <td>46</td>\n",
              "      <td>1</td>\n",
              "      <td>2</td>\n",
              "      <td>150</td>\n",
              "      <td>231</td>\n",
              "      <td>0</td>\n",
              "      <td>1</td>\n",
              "      <td>147</td>\n",
              "      <td>0</td>\n",
              "      <td>3.60000000</td>\n",
              "      <td>1</td>\n",
              "      <td>0</td>\n",
              "      <td>2</td>\n",
              "      <td>0</td>\n",
              "    </tr>\n",
              "    <tr>\n",
              "      <th>1</th>\n",
              "      <td>37</td>\n",
              "      <td>1</td>\n",
              "      <td>2</td>\n",
              "      <td>130</td>\n",
              "      <td>250</td>\n",
              "      <td>0</td>\n",
              "      <td>1</td>\n",
              "      <td>187</td>\n",
              "      <td>0</td>\n",
              "      <td>3.50000000</td>\n",
              "      <td>0</td>\n",
              "      <td>0</td>\n",
              "      <td>2</td>\n",
              "      <td>1</td>\n",
              "    </tr>\n",
              "  </tbody>\n",
              "</table>\n",
              "</div>"
            ],
            "text/plain": [
              "     age  gender  chest_pain  blood_pressure  ...  slope  vessels  defect  target\n",
              "256   58       1           0             128  ...      1        2       3       0\n",
              "232   55       1           0             160  ...      1        1       3       0\n",
              "202   58       1           0             150  ...      2        0       3       0\n",
              "196   46       1           2             150  ...      1        0       2       0\n",
              "1     37       1           2             130  ...      0        0       2       1\n",
              "\n",
              "[5 rows x 14 columns]"
            ]
          },
          "metadata": {
            "tags": []
          },
          "execution_count": 110
        }
      ]
    },
    {
      "cell_type": "code",
      "metadata": {
        "id": "RBJyN8zyd1YY",
        "colab_type": "code",
        "colab": {
          "base_uri": "https://localhost:8080/",
          "height": 224
        },
        "outputId": "24b257c8-b639-413d-e0f8-89e22aba7ffc"
      },
      "source": [
        "females_sample_data=females.sample(n=females_sample_size, replace='False')\n",
        "females_sample_data.head(5)"
      ],
      "execution_count": null,
      "outputs": [
        {
          "output_type": "execute_result",
          "data": {
            "text/html": [
              "<div>\n",
              "<style scoped>\n",
              "    .dataframe tbody tr th:only-of-type {\n",
              "        vertical-align: middle;\n",
              "    }\n",
              "\n",
              "    .dataframe tbody tr th {\n",
              "        vertical-align: top;\n",
              "    }\n",
              "\n",
              "    .dataframe thead th {\n",
              "        text-align: right;\n",
              "    }\n",
              "</style>\n",
              "<table border=\"1\" class=\"dataframe\">\n",
              "  <thead>\n",
              "    <tr style=\"text-align: right;\">\n",
              "      <th></th>\n",
              "      <th>age</th>\n",
              "      <th>gender</th>\n",
              "      <th>chest_pain</th>\n",
              "      <th>blood_pressure</th>\n",
              "      <th>cholestral</th>\n",
              "      <th>blood_sugar</th>\n",
              "      <th>electrocardiographic_results</th>\n",
              "      <th>maximum_heart_rate</th>\n",
              "      <th>exercise_induced_angina</th>\n",
              "      <th>oldpeak</th>\n",
              "      <th>slope</th>\n",
              "      <th>vessels</th>\n",
              "      <th>defect</th>\n",
              "      <th>target</th>\n",
              "    </tr>\n",
              "  </thead>\n",
              "  <tbody>\n",
              "    <tr>\n",
              "      <th>89</th>\n",
              "      <td>58</td>\n",
              "      <td>0</td>\n",
              "      <td>0</td>\n",
              "      <td>100</td>\n",
              "      <td>248</td>\n",
              "      <td>0</td>\n",
              "      <td>0</td>\n",
              "      <td>122</td>\n",
              "      <td>0</td>\n",
              "      <td>1.00000000</td>\n",
              "      <td>1</td>\n",
              "      <td>0</td>\n",
              "      <td>2</td>\n",
              "      <td>1</td>\n",
              "    </tr>\n",
              "    <tr>\n",
              "      <th>213</th>\n",
              "      <td>61</td>\n",
              "      <td>0</td>\n",
              "      <td>0</td>\n",
              "      <td>145</td>\n",
              "      <td>307</td>\n",
              "      <td>0</td>\n",
              "      <td>0</td>\n",
              "      <td>146</td>\n",
              "      <td>1</td>\n",
              "      <td>1.00000000</td>\n",
              "      <td>1</td>\n",
              "      <td>0</td>\n",
              "      <td>3</td>\n",
              "      <td>0</td>\n",
              "    </tr>\n",
              "    <tr>\n",
              "      <th>50</th>\n",
              "      <td>51</td>\n",
              "      <td>0</td>\n",
              "      <td>2</td>\n",
              "      <td>130</td>\n",
              "      <td>256</td>\n",
              "      <td>0</td>\n",
              "      <td>0</td>\n",
              "      <td>149</td>\n",
              "      <td>0</td>\n",
              "      <td>0.50000000</td>\n",
              "      <td>2</td>\n",
              "      <td>0</td>\n",
              "      <td>2</td>\n",
              "      <td>1</td>\n",
              "    </tr>\n",
              "    <tr>\n",
              "      <th>85</th>\n",
              "      <td>67</td>\n",
              "      <td>0</td>\n",
              "      <td>2</td>\n",
              "      <td>115</td>\n",
              "      <td>564</td>\n",
              "      <td>0</td>\n",
              "      <td>0</td>\n",
              "      <td>160</td>\n",
              "      <td>0</td>\n",
              "      <td>1.60000000</td>\n",
              "      <td>1</td>\n",
              "      <td>0</td>\n",
              "      <td>3</td>\n",
              "      <td>1</td>\n",
              "    </tr>\n",
              "    <tr>\n",
              "      <th>216</th>\n",
              "      <td>62</td>\n",
              "      <td>0</td>\n",
              "      <td>2</td>\n",
              "      <td>130</td>\n",
              "      <td>263</td>\n",
              "      <td>0</td>\n",
              "      <td>1</td>\n",
              "      <td>97</td>\n",
              "      <td>0</td>\n",
              "      <td>1.20000000</td>\n",
              "      <td>1</td>\n",
              "      <td>1</td>\n",
              "      <td>3</td>\n",
              "      <td>0</td>\n",
              "    </tr>\n",
              "  </tbody>\n",
              "</table>\n",
              "</div>"
            ],
            "text/plain": [
              "     age  gender  chest_pain  blood_pressure  ...  slope  vessels  defect  target\n",
              "89    58       0           0             100  ...      1        0       2       1\n",
              "213   61       0           0             145  ...      1        0       3       0\n",
              "50    51       0           2             130  ...      2        0       2       1\n",
              "85    67       0           2             115  ...      1        0       3       1\n",
              "216   62       0           2             130  ...      1        1       3       0\n",
              "\n",
              "[5 rows x 14 columns]"
            ]
          },
          "metadata": {
            "tags": []
          },
          "execution_count": 111
        }
      ]
    },
    {
      "cell_type": "code",
      "metadata": {
        "id": "rWMaqb2rd5i2",
        "colab_type": "code",
        "colab": {}
      },
      "source": [
        "males_parameters=norm.fit(males_sample_data['cholestral'])\n",
        "female_parameters=norm.fit(females_sample_data['cholestral'])"
      ],
      "execution_count": null,
      "outputs": []
    },
    {
      "cell_type": "code",
      "metadata": {
        "id": "tasLXN9xeDyg",
        "colab_type": "code",
        "colab": {}
      },
      "source": [
        "x=np.linspace(-5, 5, 100)"
      ],
      "execution_count": null,
      "outputs": []
    },
    {
      "cell_type": "code",
      "metadata": {
        "id": "MoSIQDOseQtx",
        "colab_type": "code",
        "colab": {}
      },
      "source": [
        "fitted_males=norm.pdf(x, loc=males_parameters[0], scale=males_parameters[1])\n",
        "fitted_females=norm.pdf(x, loc=female_parameters[0], scale=female_parameters[1])"
      ],
      "execution_count": null,
      "outputs": []
    },
    {
      "cell_type": "code",
      "metadata": {
        "id": "rzUddML7fM3W",
        "colab_type": "code",
        "colab": {
          "base_uri": "https://localhost:8080/",
          "height": 51
        },
        "outputId": "0b99ba8e-7ffc-46e4-d8e5-5d9550efbb15"
      },
      "source": [
        "from scipy.stats import stats as stats\n",
        "from statsmodels.stats import weightstats as stests\n",
        "# Calculating t\n",
        "ztest, pval1 =stests.ztest(fitted_males, x2=fitted_females, value=0, alternative='two-sided')\n",
        "print(\"The p- value is :\", float(pval1))\n",
        "alpha=0.05\n",
        "if pval1 < alpha:\n",
        "  print(\"Reject the null hypothesis\")\n",
        "if pval1 > alpha:\n",
        "  print(\"Fail to reject the null hypothesis\")  "
      ],
      "execution_count": null,
      "outputs": [
        {
          "output_type": "stream",
          "text": [
            "The p- value is : 0.0\n",
            "Reject the null hypothesis\n"
          ],
          "name": "stdout"
        }
      ]
    },
    {
      "cell_type": "markdown",
      "metadata": {
        "id": "6WUqWPzNCLAU",
        "colab_type": "text"
      },
      "source": [
        "Recommendations\n",
        "\n",
        "1. Adopt healthy habits\n",
        "\n",
        "2. Exercise\n",
        "\n",
        "3. Detoxication programs to improve ECG results\n",
        "\n",
        "4. Fitness Apps with meal plans.\n",
        "\n",
        "5. Exercise tracking Apps.\n",
        "\n",
        "6. Create Awareness for ages less than 40 on digital\n",
        "platforms such as facebook, instagram and twitter."
      ]
    },
    {
      "cell_type": "markdown",
      "metadata": {
        "id": "H8n5D-mGsmEh",
        "colab_type": "text"
      },
      "source": [
        "## 6) Machine learning algorithms"
      ]
    },
    {
      "cell_type": "code",
      "metadata": {
        "id": "aCzKFwwMsss0",
        "colab_type": "code",
        "colab": {
          "base_uri": "https://localhost:8080/",
          "height": 204
        },
        "outputId": "86cb6560-4101-4cbe-aab5-523f433b6365"
      },
      "source": [
        "heart_df.head()"
      ],
      "execution_count": 7,
      "outputs": [
        {
          "output_type": "execute_result",
          "data": {
            "text/html": [
              "<div>\n",
              "<style scoped>\n",
              "    .dataframe tbody tr th:only-of-type {\n",
              "        vertical-align: middle;\n",
              "    }\n",
              "\n",
              "    .dataframe tbody tr th {\n",
              "        vertical-align: top;\n",
              "    }\n",
              "\n",
              "    .dataframe thead th {\n",
              "        text-align: right;\n",
              "    }\n",
              "</style>\n",
              "<table border=\"1\" class=\"dataframe\">\n",
              "  <thead>\n",
              "    <tr style=\"text-align: right;\">\n",
              "      <th></th>\n",
              "      <th>age</th>\n",
              "      <th>sex</th>\n",
              "      <th>cp</th>\n",
              "      <th>trestbps</th>\n",
              "      <th>chol</th>\n",
              "      <th>fbs</th>\n",
              "      <th>restecg</th>\n",
              "      <th>thalach</th>\n",
              "      <th>exang</th>\n",
              "      <th>oldpeak</th>\n",
              "      <th>slope</th>\n",
              "      <th>ca</th>\n",
              "      <th>thal</th>\n",
              "      <th>target</th>\n",
              "    </tr>\n",
              "  </thead>\n",
              "  <tbody>\n",
              "    <tr>\n",
              "      <th>0</th>\n",
              "      <td>63</td>\n",
              "      <td>1</td>\n",
              "      <td>3</td>\n",
              "      <td>145</td>\n",
              "      <td>233</td>\n",
              "      <td>1</td>\n",
              "      <td>0</td>\n",
              "      <td>150</td>\n",
              "      <td>0</td>\n",
              "      <td>2.3</td>\n",
              "      <td>0</td>\n",
              "      <td>0</td>\n",
              "      <td>1</td>\n",
              "      <td>1</td>\n",
              "    </tr>\n",
              "    <tr>\n",
              "      <th>1</th>\n",
              "      <td>37</td>\n",
              "      <td>1</td>\n",
              "      <td>2</td>\n",
              "      <td>130</td>\n",
              "      <td>250</td>\n",
              "      <td>0</td>\n",
              "      <td>1</td>\n",
              "      <td>187</td>\n",
              "      <td>0</td>\n",
              "      <td>3.5</td>\n",
              "      <td>0</td>\n",
              "      <td>0</td>\n",
              "      <td>2</td>\n",
              "      <td>1</td>\n",
              "    </tr>\n",
              "    <tr>\n",
              "      <th>2</th>\n",
              "      <td>41</td>\n",
              "      <td>0</td>\n",
              "      <td>1</td>\n",
              "      <td>130</td>\n",
              "      <td>204</td>\n",
              "      <td>0</td>\n",
              "      <td>0</td>\n",
              "      <td>172</td>\n",
              "      <td>0</td>\n",
              "      <td>1.4</td>\n",
              "      <td>2</td>\n",
              "      <td>0</td>\n",
              "      <td>2</td>\n",
              "      <td>1</td>\n",
              "    </tr>\n",
              "    <tr>\n",
              "      <th>3</th>\n",
              "      <td>56</td>\n",
              "      <td>1</td>\n",
              "      <td>1</td>\n",
              "      <td>120</td>\n",
              "      <td>236</td>\n",
              "      <td>0</td>\n",
              "      <td>1</td>\n",
              "      <td>178</td>\n",
              "      <td>0</td>\n",
              "      <td>0.8</td>\n",
              "      <td>2</td>\n",
              "      <td>0</td>\n",
              "      <td>2</td>\n",
              "      <td>1</td>\n",
              "    </tr>\n",
              "    <tr>\n",
              "      <th>4</th>\n",
              "      <td>57</td>\n",
              "      <td>0</td>\n",
              "      <td>0</td>\n",
              "      <td>120</td>\n",
              "      <td>354</td>\n",
              "      <td>0</td>\n",
              "      <td>1</td>\n",
              "      <td>163</td>\n",
              "      <td>1</td>\n",
              "      <td>0.6</td>\n",
              "      <td>2</td>\n",
              "      <td>0</td>\n",
              "      <td>2</td>\n",
              "      <td>1</td>\n",
              "    </tr>\n",
              "  </tbody>\n",
              "</table>\n",
              "</div>"
            ],
            "text/plain": [
              "   age  sex  cp  trestbps  chol  fbs  ...  exang  oldpeak  slope  ca  thal  target\n",
              "0   63    1   3       145   233    1  ...      0      2.3      0   0     1       1\n",
              "1   37    1   2       130   250    0  ...      0      3.5      0   0     2       1\n",
              "2   41    0   1       130   204    0  ...      0      1.4      2   0     2       1\n",
              "3   56    1   1       120   236    0  ...      0      0.8      2   0     2       1\n",
              "4   57    0   0       120   354    0  ...      1      0.6      2   0     2       1\n",
              "\n",
              "[5 rows x 14 columns]"
            ]
          },
          "metadata": {
            "tags": []
          },
          "execution_count": 7
        }
      ]
    },
    {
      "cell_type": "markdown",
      "metadata": {
        "id": "8vtEd002tZdI",
        "colab_type": "text"
      },
      "source": [
        "## **Data Preprocessing**"
      ]
    },
    {
      "cell_type": "code",
      "metadata": {
        "id": "kDjFhhdVswyx",
        "colab_type": "code",
        "colab": {}
      },
      "source": [
        "#scaling our data\n",
        "dataset = pd.get_dummies(heart_df, columns = ['sex', 'cp', 'fbs', 'restecg', 'exang', 'slope', 'ca', 'thal'])\n",
        "\n",
        "from sklearn.preprocessing import StandardScaler\n",
        "standardScaler = StandardScaler()\n",
        "columns_to_scale = ['age', 'trestbps', 'chol', 'thalach', 'oldpeak']\n",
        "dataset[columns_to_scale] = standardScaler.fit_transform(dataset[columns_to_scale])"
      ],
      "execution_count": 13,
      "outputs": []
    },
    {
      "cell_type": "code",
      "metadata": {
        "id": "brIZ5r9Pt8Fd",
        "colab_type": "code",
        "colab": {
          "base_uri": "https://localhost:8080/",
          "height": 224
        },
        "outputId": "1d872610-63ea-4050-abfe-55272c611d77"
      },
      "source": [
        "dataset.head()"
      ],
      "execution_count": 15,
      "outputs": [
        {
          "output_type": "execute_result",
          "data": {
            "text/html": [
              "<div>\n",
              "<style scoped>\n",
              "    .dataframe tbody tr th:only-of-type {\n",
              "        vertical-align: middle;\n",
              "    }\n",
              "\n",
              "    .dataframe tbody tr th {\n",
              "        vertical-align: top;\n",
              "    }\n",
              "\n",
              "    .dataframe thead th {\n",
              "        text-align: right;\n",
              "    }\n",
              "</style>\n",
              "<table border=\"1\" class=\"dataframe\">\n",
              "  <thead>\n",
              "    <tr style=\"text-align: right;\">\n",
              "      <th></th>\n",
              "      <th>age</th>\n",
              "      <th>trestbps</th>\n",
              "      <th>chol</th>\n",
              "      <th>thalach</th>\n",
              "      <th>oldpeak</th>\n",
              "      <th>target</th>\n",
              "      <th>sex_0</th>\n",
              "      <th>sex_1</th>\n",
              "      <th>cp_0</th>\n",
              "      <th>cp_1</th>\n",
              "      <th>cp_2</th>\n",
              "      <th>cp_3</th>\n",
              "      <th>fbs_0</th>\n",
              "      <th>fbs_1</th>\n",
              "      <th>restecg_0</th>\n",
              "      <th>restecg_1</th>\n",
              "      <th>restecg_2</th>\n",
              "      <th>exang_0</th>\n",
              "      <th>exang_1</th>\n",
              "      <th>slope_0</th>\n",
              "      <th>slope_1</th>\n",
              "      <th>slope_2</th>\n",
              "      <th>ca_0</th>\n",
              "      <th>ca_1</th>\n",
              "      <th>ca_2</th>\n",
              "      <th>ca_3</th>\n",
              "      <th>ca_4</th>\n",
              "      <th>thal_0</th>\n",
              "      <th>thal_1</th>\n",
              "      <th>thal_2</th>\n",
              "      <th>thal_3</th>\n",
              "    </tr>\n",
              "  </thead>\n",
              "  <tbody>\n",
              "    <tr>\n",
              "      <th>0</th>\n",
              "      <td>0.952197</td>\n",
              "      <td>0.763956</td>\n",
              "      <td>-0.256334</td>\n",
              "      <td>0.015443</td>\n",
              "      <td>1.087338</td>\n",
              "      <td>1</td>\n",
              "      <td>0</td>\n",
              "      <td>1</td>\n",
              "      <td>0</td>\n",
              "      <td>0</td>\n",
              "      <td>0</td>\n",
              "      <td>1</td>\n",
              "      <td>0</td>\n",
              "      <td>1</td>\n",
              "      <td>1</td>\n",
              "      <td>0</td>\n",
              "      <td>0</td>\n",
              "      <td>1</td>\n",
              "      <td>0</td>\n",
              "      <td>1</td>\n",
              "      <td>0</td>\n",
              "      <td>0</td>\n",
              "      <td>1</td>\n",
              "      <td>0</td>\n",
              "      <td>0</td>\n",
              "      <td>0</td>\n",
              "      <td>0</td>\n",
              "      <td>0</td>\n",
              "      <td>1</td>\n",
              "      <td>0</td>\n",
              "      <td>0</td>\n",
              "    </tr>\n",
              "    <tr>\n",
              "      <th>1</th>\n",
              "      <td>-1.915313</td>\n",
              "      <td>-0.092738</td>\n",
              "      <td>0.072199</td>\n",
              "      <td>1.633471</td>\n",
              "      <td>2.122573</td>\n",
              "      <td>1</td>\n",
              "      <td>0</td>\n",
              "      <td>1</td>\n",
              "      <td>0</td>\n",
              "      <td>0</td>\n",
              "      <td>1</td>\n",
              "      <td>0</td>\n",
              "      <td>1</td>\n",
              "      <td>0</td>\n",
              "      <td>0</td>\n",
              "      <td>1</td>\n",
              "      <td>0</td>\n",
              "      <td>1</td>\n",
              "      <td>0</td>\n",
              "      <td>1</td>\n",
              "      <td>0</td>\n",
              "      <td>0</td>\n",
              "      <td>1</td>\n",
              "      <td>0</td>\n",
              "      <td>0</td>\n",
              "      <td>0</td>\n",
              "      <td>0</td>\n",
              "      <td>0</td>\n",
              "      <td>0</td>\n",
              "      <td>1</td>\n",
              "      <td>0</td>\n",
              "    </tr>\n",
              "    <tr>\n",
              "      <th>2</th>\n",
              "      <td>-1.474158</td>\n",
              "      <td>-0.092738</td>\n",
              "      <td>-0.816773</td>\n",
              "      <td>0.977514</td>\n",
              "      <td>0.310912</td>\n",
              "      <td>1</td>\n",
              "      <td>1</td>\n",
              "      <td>0</td>\n",
              "      <td>0</td>\n",
              "      <td>1</td>\n",
              "      <td>0</td>\n",
              "      <td>0</td>\n",
              "      <td>1</td>\n",
              "      <td>0</td>\n",
              "      <td>1</td>\n",
              "      <td>0</td>\n",
              "      <td>0</td>\n",
              "      <td>1</td>\n",
              "      <td>0</td>\n",
              "      <td>0</td>\n",
              "      <td>0</td>\n",
              "      <td>1</td>\n",
              "      <td>1</td>\n",
              "      <td>0</td>\n",
              "      <td>0</td>\n",
              "      <td>0</td>\n",
              "      <td>0</td>\n",
              "      <td>0</td>\n",
              "      <td>0</td>\n",
              "      <td>1</td>\n",
              "      <td>0</td>\n",
              "    </tr>\n",
              "    <tr>\n",
              "      <th>3</th>\n",
              "      <td>0.180175</td>\n",
              "      <td>-0.663867</td>\n",
              "      <td>-0.198357</td>\n",
              "      <td>1.239897</td>\n",
              "      <td>-0.206705</td>\n",
              "      <td>1</td>\n",
              "      <td>0</td>\n",
              "      <td>1</td>\n",
              "      <td>0</td>\n",
              "      <td>1</td>\n",
              "      <td>0</td>\n",
              "      <td>0</td>\n",
              "      <td>1</td>\n",
              "      <td>0</td>\n",
              "      <td>0</td>\n",
              "      <td>1</td>\n",
              "      <td>0</td>\n",
              "      <td>1</td>\n",
              "      <td>0</td>\n",
              "      <td>0</td>\n",
              "      <td>0</td>\n",
              "      <td>1</td>\n",
              "      <td>1</td>\n",
              "      <td>0</td>\n",
              "      <td>0</td>\n",
              "      <td>0</td>\n",
              "      <td>0</td>\n",
              "      <td>0</td>\n",
              "      <td>0</td>\n",
              "      <td>1</td>\n",
              "      <td>0</td>\n",
              "    </tr>\n",
              "    <tr>\n",
              "      <th>4</th>\n",
              "      <td>0.290464</td>\n",
              "      <td>-0.663867</td>\n",
              "      <td>2.082050</td>\n",
              "      <td>0.583939</td>\n",
              "      <td>-0.379244</td>\n",
              "      <td>1</td>\n",
              "      <td>1</td>\n",
              "      <td>0</td>\n",
              "      <td>1</td>\n",
              "      <td>0</td>\n",
              "      <td>0</td>\n",
              "      <td>0</td>\n",
              "      <td>1</td>\n",
              "      <td>0</td>\n",
              "      <td>0</td>\n",
              "      <td>1</td>\n",
              "      <td>0</td>\n",
              "      <td>0</td>\n",
              "      <td>1</td>\n",
              "      <td>0</td>\n",
              "      <td>0</td>\n",
              "      <td>1</td>\n",
              "      <td>1</td>\n",
              "      <td>0</td>\n",
              "      <td>0</td>\n",
              "      <td>0</td>\n",
              "      <td>0</td>\n",
              "      <td>0</td>\n",
              "      <td>0</td>\n",
              "      <td>1</td>\n",
              "      <td>0</td>\n",
              "    </tr>\n",
              "  </tbody>\n",
              "</table>\n",
              "</div>"
            ],
            "text/plain": [
              "        age  trestbps      chol   thalach  ...  thal_0  thal_1  thal_2  thal_3\n",
              "0  0.952197  0.763956 -0.256334  0.015443  ...       0       1       0       0\n",
              "1 -1.915313 -0.092738  0.072199  1.633471  ...       0       0       1       0\n",
              "2 -1.474158 -0.092738 -0.816773  0.977514  ...       0       0       1       0\n",
              "3  0.180175 -0.663867 -0.198357  1.239897  ...       0       0       1       0\n",
              "4  0.290464 -0.663867  2.082050  0.583939  ...       0       0       1       0\n",
              "\n",
              "[5 rows x 31 columns]"
            ]
          },
          "metadata": {
            "tags": []
          },
          "execution_count": 15
        }
      ]
    },
    {
      "cell_type": "code",
      "metadata": {
        "id": "F-tdHXg9uW5p",
        "colab_type": "code",
        "colab": {}
      },
      "source": [
        "#split the dataset into 67% training data and 33% testing data.\n",
        "from sklearn.model_selection import train_test_split\n",
        "y = heart_df['target']\n",
        "X = heart_df.drop(['target'], axis = 1)\n",
        "X_train, X_test, y_train, y_test = train_test_split(X, y, test_size = 0.33, random_state = 0)"
      ],
      "execution_count": 17,
      "outputs": []
    },
    {
      "cell_type": "markdown",
      "metadata": {
        "id": "IUHbvlnmvM-W",
        "colab_type": "text"
      },
      "source": [
        "## ***K Nearest Neighbors***"
      ]
    },
    {
      "cell_type": "markdown",
      "metadata": {
        "id": "kIWWq6tWvSt7",
        "colab_type": "text"
      },
      "source": [
        "This classifier looks for the classes of K nearest neighbors of a given data point and based on the majority class, it assigns a class to this data point. However, the number of neighbors can be varied. I varied them from 1 to 20 neighbors and calculated the test score in each case."
      ]
    },
    {
      "cell_type": "code",
      "metadata": {
        "id": "G6mtWHKavV5I",
        "colab_type": "code",
        "colab": {
          "base_uri": "https://localhost:8080/",
          "height": 357
        },
        "outputId": "e0c6e696-42cd-4d97-db28-5c484913838c"
      },
      "source": [
        "from sklearn.neighbors import KNeighborsClassifier\n",
        "knn_scores = []\n",
        "for k in range(1,21): # diff k values\n",
        "    knn_classifier = KNeighborsClassifier(n_neighbors = k)\n",
        "    knn_classifier.fit(X_train, y_train)\n",
        "    knn_scores.append(knn_classifier.score(X_test, y_test))\n",
        "knn_scores"
      ],
      "execution_count": 20,
      "outputs": [
        {
          "output_type": "execute_result",
          "data": {
            "text/plain": [
              "[0.78,\n",
              " 0.8,\n",
              " 0.82,\n",
              " 0.84,\n",
              " 0.84,\n",
              " 0.83,\n",
              " 0.83,\n",
              " 0.82,\n",
              " 0.81,\n",
              " 0.81,\n",
              " 0.83,\n",
              " 0.82,\n",
              " 0.83,\n",
              " 0.84,\n",
              " 0.82,\n",
              " 0.82,\n",
              " 0.83,\n",
              " 0.81,\n",
              " 0.81,\n",
              " 0.8]"
            ]
          },
          "metadata": {
            "tags": []
          },
          "execution_count": 20
        }
      ]
    },
    {
      "cell_type": "code",
      "metadata": {
        "id": "IdKal6fhvpQ_",
        "colab_type": "code",
        "colab": {
          "base_uri": "https://localhost:8080/",
          "height": 312
        },
        "outputId": "8af037d0-6602-452e-db27-9c82698f0037"
      },
      "source": [
        "#plotting a line graph of the number of neighbors and the test score achieved in each case\n",
        "plt.plot([k for k in range(1, 21)], knn_scores, color = 'red')\n",
        "for i in range(1,21):\n",
        "    plt.text(i, knn_scores[i-1], (i, knn_scores[i-1]))\n",
        "plt.xticks([i for i in range(1, 21)])\n",
        "plt.xlabel('Number of Neighbors (K)')\n",
        "plt.ylabel('Scores')\n",
        "plt.title('K Neighbors Classifier scores for different K values')"
      ],
      "execution_count": 21,
      "outputs": [
        {
          "output_type": "execute_result",
          "data": {
            "text/plain": [
              "Text(0.5, 1.0, 'K Neighbors Classifier scores for different K values')"
            ]
          },
          "metadata": {
            "tags": []
          },
          "execution_count": 21
        },
        {
          "output_type": "display_data",
          "data": {
            "image/png": "[encoded data removed]",
            "text/plain": [
              "<Figure size 432x288 with 1 Axes>"
            ]
          },
          "metadata": {
            "tags": [],
            "needs_background": "light"
          }
        }
      ]
    },
    {
      "cell_type": "markdown",
      "metadata": {
        "id": "N4l94IqzwOhs",
        "colab_type": "text"
      },
      "source": [
        "*We have achieved a maximum score of 84% when the number of neighbors is 4, 5 and 14*"
      ]
    },
    {
      "cell_type": "code",
      "metadata": {
        "id": "WXlymH22whFZ",
        "colab_type": "code",
        "colab": {
          "base_uri": "https://localhost:8080/",
          "height": 204
        },
        "outputId": "930b4991-36a3-495f-89d6-860825cd2d99"
      },
      "source": [
        "#metrics\n",
        "from sklearn.metrics import classification_report, confusion_matrix\n",
        "classifier = KNeighborsClassifier(n_neighbors=5) #initializing our parameter\n",
        "classifier.fit(X_train, y_train)\n",
        "y_pred=classifier.predict(X_test)\n",
        "print(confusion_matrix(y_test, y_pred))\n",
        "print(classification_report(y_test, y_pred))"
      ],
      "execution_count": 24,
      "outputs": [
        {
          "output_type": "stream",
          "text": [
            "[[37 11]\n",
            " [ 5 47]]\n",
            "              precision    recall  f1-score   support\n",
            "\n",
            "           0       0.88      0.77      0.82        48\n",
            "           1       0.81      0.90      0.85        52\n",
            "\n",
            "    accuracy                           0.84       100\n",
            "   macro avg       0.85      0.84      0.84       100\n",
            "weighted avg       0.84      0.84      0.84       100\n",
            "\n"
          ],
          "name": "stdout"
        }
      ]
    },
    {
      "cell_type": "markdown",
      "metadata": {
        "id": "S7u8GTqNwOWd",
        "colab_type": "text"
      },
      "source": [
        "## ***Support Vector Classifier***"
      ]
    },
    {
      "cell_type": "markdown",
      "metadata": {
        "id": "dqtkSqAexO4p",
        "colab_type": "text"
      },
      "source": [
        "*This classifier aims at forming a hyperplane that can separate the classes as much as possible by adjusting the distance between the data points and the hyperplane. There are several kernels based on which the hyperplane is decided. I tried four kernels namely, linear, poly, rbf, and sigmoid.*"
      ]
    },
    {
      "cell_type": "code",
      "metadata": {
        "id": "n2_uBNZkxTGW",
        "colab_type": "code",
        "colab": {
          "base_uri": "https://localhost:8080/",
          "height": 34
        },
        "outputId": "597330de-9609-4ed8-83d0-610dd5c8655c"
      },
      "source": [
        "from sklearn.svm import SVC\n",
        "svc_scores = []\n",
        "kernels = ['linear', 'poly', 'rbf', 'sigmoid']\n",
        "for i in range(len(kernels)):\n",
        "    svc_classifier = SVC(kernel = kernels[i])\n",
        "    svc_classifier.fit(X_train, y_train)\n",
        "    svc_scores.append(svc_classifier.score(X_test, y_test))\n",
        "svc_scores"
      ],
      "execution_count": 26,
      "outputs": [
        {
          "output_type": "execute_result",
          "data": {
            "text/plain": [
              "[0.81, 0.81, 0.82, 0.8]"
            ]
          },
          "metadata": {
            "tags": []
          },
          "execution_count": 26
        }
      ]
    },
    {
      "cell_type": "markdown",
      "metadata": {
        "id": "-Zx2RDiixnpA",
        "colab_type": "text"
      },
      "source": [
        "*Once I had the scores for each, I used the rainbow method to select different colors for each bar and plot a bar graph of the scores achieved by each*"
      ]
    },
    {
      "cell_type": "code",
      "metadata": {
        "id": "69IQE1E-xhN6",
        "colab_type": "code",
        "colab": {
          "base_uri": "https://localhost:8080/",
          "height": 312
        },
        "outputId": "1fd90825-c27c-4398-9a21-cd197977852b"
      },
      "source": [
        "from matplotlib.cm import rainbow\n",
        "colors = rainbow(np.linspace(0, 1, len(kernels)))\n",
        "plt.bar(kernels, svc_scores, color = colors)\n",
        "for i in range(len(kernels)):\n",
        "    plt.text(i, svc_scores[i], svc_scores[i])\n",
        "plt.xlabel('Kernels')\n",
        "plt.ylabel('Scores')\n",
        "plt.title('Support Vector Classifier scores for different kernels')"
      ],
      "execution_count": 29,
      "outputs": [
        {
          "output_type": "execute_result",
          "data": {
            "text/plain": [
              "Text(0.5, 1.0, 'Support Vector Classifier scores for different kernels')"
            ]
          },
          "metadata": {
            "tags": []
          },
          "execution_count": 29
        },
        {
          "output_type": "display_data",
          "data": {
            "image/png": "[encoded data removed]",
            "text/plain": [
              "<Figure size 432x288 with 1 Axes>"
            ]
          },
          "metadata": {
            "tags": [],
            "needs_background": "light"
          }
        }
      ]
    },
    {
      "cell_type": "markdown",
      "metadata": {
        "id": "5I_jBktAyIlg",
        "colab_type": "text"
      },
      "source": [
        "*rbf performed best with a score of 82%*"
      ]
    },
    {
      "cell_type": "markdown",
      "metadata": {
        "id": "jovyecXlydkb",
        "colab_type": "text"
      },
      "source": [
        "***Random Forest Classfier***"
      ]
    },
    {
      "cell_type": "markdown",
      "metadata": {
        "id": "Jyp-Mbr7yhxx",
        "colab_type": "text"
      },
      "source": [
        "It creates a forest of trees where each tree is formed by a random selection of features from the total features. Here, we can vary the number of trees that will be used to predict the class. I calculate test scores over 10, 100, 200, 500 and 1000 trees."
      ]
    },
    {
      "cell_type": "code",
      "metadata": {
        "id": "JZD2nLQkyIVI",
        "colab_type": "code",
        "colab": {
          "base_uri": "https://localhost:8080/",
          "height": 34
        },
        "outputId": "e203f256-0c0b-4a80-b959-5dfdcecd445d"
      },
      "source": [
        "from sklearn.ensemble import RandomForestClassifier\n",
        "\n",
        "rf_scores = []\n",
        "estimators = [10, 100, 200, 500, 1000]\n",
        "for i in estimators:\n",
        "    rf_classifier = RandomForestClassifier(n_estimators = i, random_state = 0)\n",
        "    rf_classifier.fit(X_train, y_train)\n",
        "    rf_scores.append(rf_classifier.score(X_test, y_test))\n",
        "rf_scores"
      ],
      "execution_count": 31,
      "outputs": [
        {
          "output_type": "execute_result",
          "data": {
            "text/plain": [
              "[0.8, 0.84, 0.85, 0.84, 0.83]"
            ]
          },
          "metadata": {
            "tags": []
          },
          "execution_count": 31
        }
      ]
    },
    {
      "cell_type": "code",
      "metadata": {
        "id": "UaM-7DKEy3jl",
        "colab_type": "code",
        "colab": {
          "base_uri": "https://localhost:8080/",
          "height": 312
        },
        "outputId": "2360e9ef-708b-41e0-ba88-4786f1c175f6"
      },
      "source": [
        "colors = rainbow(np.linspace(0, 1, len(estimators)))\n",
        "plt.bar([i for i in range(len(estimators))], rf_scores, color = colors, width = 0.8)\n",
        "for i in range(len(estimators)):\n",
        "    plt.text(i, rf_scores[i], rf_scores[i])\n",
        "plt.xticks(ticks = [i for i in range(len(estimators))], labels = [str(estimator) for estimator in estimators])\n",
        "plt.xlabel('Number of estimators')\n",
        "plt.ylabel('Scores')\n",
        "plt.title('Random Forest Classifier scores for different number of estimators')"
      ],
      "execution_count": 32,
      "outputs": [
        {
          "output_type": "execute_result",
          "data": {
            "text/plain": [
              "Text(0.5, 1.0, 'Random Forest Classifier scores for different number of estimators')"
            ]
          },
          "metadata": {
            "tags": []
          },
          "execution_count": 32
        },
        {
          "output_type": "display_data",
          "data": {
            "image/png": "[encoded data removed]",
            "text/plain": [
              "<Figure size 432x288 with 1 Axes>"
            ]
          },
          "metadata": {
            "tags": [],
            "needs_background": "light"
          }
        }
      ]
    },
    {
      "cell_type": "markdown",
      "metadata": {
        "id": "uZi2aKrFzP1d",
        "colab_type": "text"
      },
      "source": [
        "*Maximum score of 85% achieved with 200 number of estimators*"
      ]
    },
    {
      "cell_type": "markdown",
      "metadata": {
        "id": "5aYSyAFQzhvt",
        "colab_type": "text"
      },
      "source": [
        "*Random forest perfomed best with an accuarcy of 85%*"
      ]
    }
  ]
}